{
  "nbformat": 4,
  "nbformat_minor": 0,
  "metadata": {
    "colab": {
      "provenance": []
    },
    "kernelspec": {
      "name": "python3",
      "display_name": "Python 3"
    },
    "language_info": {
      "name": "python"
    }
  },
  "cells": [
    {
      "cell_type": "markdown",
      "source": [
        "# Laboratorio 1 - Pregunta 2\n",
        "### Hecho por: Daniel Alonso, Alvaro García Cid, Enrique Ramos e Ignacio Regidor"
      ],
      "metadata": {
        "id": "w2cHrnNg5Dj-"
      }
    },
    {
      "cell_type": "markdown",
      "source": [
        "##Resumen\n",
        "En está práctica se estudiará una base de datos de los clientes de la sucursal del Banco Santander, específicamente de la situada en la Universidad Francisco de Vitoria.\n",
        "\n",
        "A partir de estos datos, se realizarán diferentes clasificaciones en función de diferentes atributos (balance, edad y días en la sucursal). Además, graficaremos dichas clasificaciones para un mayor entendimiento de los datos y poder sacar conclusiones sobre estos."
      ],
      "metadata": {
        "id": "PLncfY0R0AJR"
      }
    },
    {
      "cell_type": "markdown",
      "source": [
        "##Introducción al problema y pasos previos\n",
        "A continuación se muestrán las librerías de Python utilizadas en esta práctica.\n",
        "- Numpy: utilizada por el resto de liberías, permite la creación y el manejo de datos de forma rápida y eficiente, conteniendo estructuras de datos propias.\n",
        "- Pandas: permite la creación y manejo de dataframes a partir de la base de datos empleada.\n",
        "- Matplotlib.pyplot: se utilizará para graficar los distintos diagramas que permitan el estudio de los datos de forma visual."
      ],
      "metadata": {
        "id": "D8RnHlEp28gg"
      }
    },
    {
      "cell_type": "code",
      "source": [
        "import numpy as np\n",
        "import pandas as pd\n",
        "import matplotlib.pyplot as plt"
      ],
      "metadata": {
        "id": "6FaYH0JQ6snh"
      },
      "execution_count": null,
      "outputs": []
    },
    {
      "cell_type": "markdown",
      "source": [
        "###Preprocesamiento de los datos"
      ],
      "metadata": {
        "id": "nClCfIXwtQgI"
      }
    },
    {
      "cell_type": "markdown",
      "source": [
        "Se procede a importar la base de datos contenida en un archivo .csv. Se guarda en una variable <i>dataframe</i> creada con la librería pandas a la que se le llamará \"_datosraw_\".\n",
        "\n",
        "También se muestran las 5 primeras observaciones de este dataframe con la función .head() para ver si hay alguna anomalía en los atributos que deberían estar."
      ],
      "metadata": {
        "id": "Ig20kVSI41Yg"
      }
    },
    {
      "cell_type": "code",
      "source": [
        "datosraw = pd.read_csv(\"banco ufv.csv\", encoding='latin-1', sep=';')\n",
        "datosraw.head()"
      ],
      "metadata": {
        "colab": {
          "base_uri": "https://localhost:8080/",
          "height": 206
        },
        "id": "c5bByZWt_g2T",
        "outputId": "03f2d789-1cf3-42fa-8e08-cedd5f0a40d8"
      },
      "execution_count": null,
      "outputs": [
        {
          "output_type": "execute_result",
          "data": {
            "text/plain": [
              "   age           job  marital  education default  balance housing loan  \\\n",
              "0   58    management  married   tertiary      no     2143     yes   no   \n",
              "1   44    technician   single  secondary      no       29     yes   no   \n",
              "2   33  entrepreneur  married  secondary      no        2     yes  yes   \n",
              "3   47   blue-collar  married    unknown      no     1506     yes   no   \n",
              "4   33       unknown   single    unknown      no        1      no   no   \n",
              "\n",
              "   contact  day month  duration  campaign  pdays  previous poutcome   y  \n",
              "0  unknown    5   may       261         1     -1         0  unknown  no  \n",
              "1  unknown    5   may       151         1     -1         0  unknown  no  \n",
              "2  unknown    5   may        76         1     -1         0  unknown  no  \n",
              "3  unknown    5   may        92         1     -1         0  unknown  no  \n",
              "4  unknown    5   may       198         1     -1         0  unknown  no  "
            ],
            "text/html": [
              "\n",
              "  <div id=\"df-38b6d1ef-61e5-4d88-b5b7-4249fe8232da\">\n",
              "    <div class=\"colab-df-container\">\n",
              "      <div>\n",
              "<style scoped>\n",
              "    .dataframe tbody tr th:only-of-type {\n",
              "        vertical-align: middle;\n",
              "    }\n",
              "\n",
              "    .dataframe tbody tr th {\n",
              "        vertical-align: top;\n",
              "    }\n",
              "\n",
              "    .dataframe thead th {\n",
              "        text-align: right;\n",
              "    }\n",
              "</style>\n",
              "<table border=\"1\" class=\"dataframe\">\n",
              "  <thead>\n",
              "    <tr style=\"text-align: right;\">\n",
              "      <th></th>\n",
              "      <th>age</th>\n",
              "      <th>job</th>\n",
              "      <th>marital</th>\n",
              "      <th>education</th>\n",
              "      <th>default</th>\n",
              "      <th>balance</th>\n",
              "      <th>housing</th>\n",
              "      <th>loan</th>\n",
              "      <th>contact</th>\n",
              "      <th>day</th>\n",
              "      <th>month</th>\n",
              "      <th>duration</th>\n",
              "      <th>campaign</th>\n",
              "      <th>pdays</th>\n",
              "      <th>previous</th>\n",
              "      <th>poutcome</th>\n",
              "      <th>y</th>\n",
              "    </tr>\n",
              "  </thead>\n",
              "  <tbody>\n",
              "    <tr>\n",
              "      <th>0</th>\n",
              "      <td>58</td>\n",
              "      <td>management</td>\n",
              "      <td>married</td>\n",
              "      <td>tertiary</td>\n",
              "      <td>no</td>\n",
              "      <td>2143</td>\n",
              "      <td>yes</td>\n",
              "      <td>no</td>\n",
              "      <td>unknown</td>\n",
              "      <td>5</td>\n",
              "      <td>may</td>\n",
              "      <td>261</td>\n",
              "      <td>1</td>\n",
              "      <td>-1</td>\n",
              "      <td>0</td>\n",
              "      <td>unknown</td>\n",
              "      <td>no</td>\n",
              "    </tr>\n",
              "    <tr>\n",
              "      <th>1</th>\n",
              "      <td>44</td>\n",
              "      <td>technician</td>\n",
              "      <td>single</td>\n",
              "      <td>secondary</td>\n",
              "      <td>no</td>\n",
              "      <td>29</td>\n",
              "      <td>yes</td>\n",
              "      <td>no</td>\n",
              "      <td>unknown</td>\n",
              "      <td>5</td>\n",
              "      <td>may</td>\n",
              "      <td>151</td>\n",
              "      <td>1</td>\n",
              "      <td>-1</td>\n",
              "      <td>0</td>\n",
              "      <td>unknown</td>\n",
              "      <td>no</td>\n",
              "    </tr>\n",
              "    <tr>\n",
              "      <th>2</th>\n",
              "      <td>33</td>\n",
              "      <td>entrepreneur</td>\n",
              "      <td>married</td>\n",
              "      <td>secondary</td>\n",
              "      <td>no</td>\n",
              "      <td>2</td>\n",
              "      <td>yes</td>\n",
              "      <td>yes</td>\n",
              "      <td>unknown</td>\n",
              "      <td>5</td>\n",
              "      <td>may</td>\n",
              "      <td>76</td>\n",
              "      <td>1</td>\n",
              "      <td>-1</td>\n",
              "      <td>0</td>\n",
              "      <td>unknown</td>\n",
              "      <td>no</td>\n",
              "    </tr>\n",
              "    <tr>\n",
              "      <th>3</th>\n",
              "      <td>47</td>\n",
              "      <td>blue-collar</td>\n",
              "      <td>married</td>\n",
              "      <td>unknown</td>\n",
              "      <td>no</td>\n",
              "      <td>1506</td>\n",
              "      <td>yes</td>\n",
              "      <td>no</td>\n",
              "      <td>unknown</td>\n",
              "      <td>5</td>\n",
              "      <td>may</td>\n",
              "      <td>92</td>\n",
              "      <td>1</td>\n",
              "      <td>-1</td>\n",
              "      <td>0</td>\n",
              "      <td>unknown</td>\n",
              "      <td>no</td>\n",
              "    </tr>\n",
              "    <tr>\n",
              "      <th>4</th>\n",
              "      <td>33</td>\n",
              "      <td>unknown</td>\n",
              "      <td>single</td>\n",
              "      <td>unknown</td>\n",
              "      <td>no</td>\n",
              "      <td>1</td>\n",
              "      <td>no</td>\n",
              "      <td>no</td>\n",
              "      <td>unknown</td>\n",
              "      <td>5</td>\n",
              "      <td>may</td>\n",
              "      <td>198</td>\n",
              "      <td>1</td>\n",
              "      <td>-1</td>\n",
              "      <td>0</td>\n",
              "      <td>unknown</td>\n",
              "      <td>no</td>\n",
              "    </tr>\n",
              "  </tbody>\n",
              "</table>\n",
              "</div>\n",
              "      <button class=\"colab-df-convert\" onclick=\"convertToInteractive('df-38b6d1ef-61e5-4d88-b5b7-4249fe8232da')\"\n",
              "              title=\"Convert this dataframe to an interactive table.\"\n",
              "              style=\"display:none;\">\n",
              "        \n",
              "  <svg xmlns=\"http://www.w3.org/2000/svg\" height=\"24px\"viewBox=\"0 0 24 24\"\n",
              "       width=\"24px\">\n",
              "    <path d=\"M0 0h24v24H0V0z\" fill=\"none\"/>\n",
              "    <path d=\"M18.56 5.44l.94 2.06.94-2.06 2.06-.94-2.06-.94-.94-2.06-.94 2.06-2.06.94zm-11 1L8.5 8.5l.94-2.06 2.06-.94-2.06-.94L8.5 2.5l-.94 2.06-2.06.94zm10 10l.94 2.06.94-2.06 2.06-.94-2.06-.94-.94-2.06-.94 2.06-2.06.94z\"/><path d=\"M17.41 7.96l-1.37-1.37c-.4-.4-.92-.59-1.43-.59-.52 0-1.04.2-1.43.59L10.3 9.45l-7.72 7.72c-.78.78-.78 2.05 0 2.83L4 21.41c.39.39.9.59 1.41.59.51 0 1.02-.2 1.41-.59l7.78-7.78 2.81-2.81c.8-.78.8-2.07 0-2.86zM5.41 20L4 18.59l7.72-7.72 1.47 1.35L5.41 20z\"/>\n",
              "  </svg>\n",
              "      </button>\n",
              "      \n",
              "  <style>\n",
              "    .colab-df-container {\n",
              "      display:flex;\n",
              "      flex-wrap:wrap;\n",
              "      gap: 12px;\n",
              "    }\n",
              "\n",
              "    .colab-df-convert {\n",
              "      background-color: #E8F0FE;\n",
              "      border: none;\n",
              "      border-radius: 50%;\n",
              "      cursor: pointer;\n",
              "      display: none;\n",
              "      fill: #1967D2;\n",
              "      height: 32px;\n",
              "      padding: 0 0 0 0;\n",
              "      width: 32px;\n",
              "    }\n",
              "\n",
              "    .colab-df-convert:hover {\n",
              "      background-color: #E2EBFA;\n",
              "      box-shadow: 0px 1px 2px rgba(60, 64, 67, 0.3), 0px 1px 3px 1px rgba(60, 64, 67, 0.15);\n",
              "      fill: #174EA6;\n",
              "    }\n",
              "\n",
              "    [theme=dark] .colab-df-convert {\n",
              "      background-color: #3B4455;\n",
              "      fill: #D2E3FC;\n",
              "    }\n",
              "\n",
              "    [theme=dark] .colab-df-convert:hover {\n",
              "      background-color: #434B5C;\n",
              "      box-shadow: 0px 1px 3px 1px rgba(0, 0, 0, 0.15);\n",
              "      filter: drop-shadow(0px 1px 2px rgba(0, 0, 0, 0.3));\n",
              "      fill: #FFFFFF;\n",
              "    }\n",
              "  </style>\n",
              "\n",
              "      <script>\n",
              "        const buttonEl =\n",
              "          document.querySelector('#df-38b6d1ef-61e5-4d88-b5b7-4249fe8232da button.colab-df-convert');\n",
              "        buttonEl.style.display =\n",
              "          google.colab.kernel.accessAllowed ? 'block' : 'none';\n",
              "\n",
              "        async function convertToInteractive(key) {\n",
              "          const element = document.querySelector('#df-38b6d1ef-61e5-4d88-b5b7-4249fe8232da');\n",
              "          const dataTable =\n",
              "            await google.colab.kernel.invokeFunction('convertToInteractive',\n",
              "                                                     [key], {});\n",
              "          if (!dataTable) return;\n",
              "\n",
              "          const docLinkHtml = 'Like what you see? Visit the ' +\n",
              "            '<a target=\"_blank\" href=https://colab.research.google.com/notebooks/data_table.ipynb>data table notebook</a>'\n",
              "            + ' to learn more about interactive tables.';\n",
              "          element.innerHTML = '';\n",
              "          dataTable['output_type'] = 'display_data';\n",
              "          await google.colab.output.renderOutput(dataTable, element);\n",
              "          const docLink = document.createElement('div');\n",
              "          docLink.innerHTML = docLinkHtml;\n",
              "          element.appendChild(docLink);\n",
              "        }\n",
              "      </script>\n",
              "    </div>\n",
              "  </div>\n",
              "  "
            ]
          },
          "metadata": {},
          "execution_count": 2
        }
      ]
    },
    {
      "cell_type": "markdown",
      "source": [
        "Observámos que en principio la base de datos no contiene ningún error. A continuación, con la función .shape, se obtiene que la base de datos contiene 45211 clientes, cada uno con 17 atributos diferentes."
      ],
      "metadata": {
        "id": "feZFt7no6ddW"
      }
    },
    {
      "cell_type": "code",
      "source": [
        "datosraw.shape"
      ],
      "metadata": {
        "id": "CiVn1afC6zsh",
        "colab": {
          "base_uri": "https://localhost:8080/"
        },
        "outputId": "9b0eb805-a974-4e4a-a18b-9b8f2650099f"
      },
      "execution_count": null,
      "outputs": [
        {
          "output_type": "execute_result",
          "data": {
            "text/plain": [
              "(45211, 17)"
            ]
          },
          "metadata": {},
          "execution_count": 3
        }
      ]
    },
    {
      "cell_type": "markdown",
      "source": [
        "Antes de filtrar y eliminar o modificar los datos que no sean útiles, se seleccionan solo los atributos que sean relevantes.\n",
        "De esta forma, se evita por ejemplo, ignorar la información de un cliente que contenga un valor nulo en un atributo que no sea de interés para el objetivo de la práctica.\n",
        "\n",
        "Los atributos utilizados serán:\n",
        "- age (edad)\n",
        "- education (nivel de estudios)\n",
        "- balance (saldo)\n",
        "- duration (días como cliente)."
      ],
      "metadata": {
        "id": "rfYROZKQAAH7"
      }
    },
    {
      "cell_type": "code",
      "source": [
        "datos = datosraw[['age','education','balance','duration']]\n",
        "datos.head()"
      ],
      "metadata": {
        "id": "LQvEdRkNCUXN",
        "colab": {
          "base_uri": "https://localhost:8080/",
          "height": 206
        },
        "outputId": "b84a89dd-7a88-4ac2-f27f-50517795a7ac"
      },
      "execution_count": null,
      "outputs": [
        {
          "output_type": "execute_result",
          "data": {
            "text/plain": [
              "   age  education  balance  duration\n",
              "0   58   tertiary     2143       261\n",
              "1   44  secondary       29       151\n",
              "2   33  secondary        2        76\n",
              "3   47    unknown     1506        92\n",
              "4   33    unknown        1       198"
            ],
            "text/html": [
              "\n",
              "  <div id=\"df-543d2b5d-e454-4819-b8d1-99b49c6c30cc\">\n",
              "    <div class=\"colab-df-container\">\n",
              "      <div>\n",
              "<style scoped>\n",
              "    .dataframe tbody tr th:only-of-type {\n",
              "        vertical-align: middle;\n",
              "    }\n",
              "\n",
              "    .dataframe tbody tr th {\n",
              "        vertical-align: top;\n",
              "    }\n",
              "\n",
              "    .dataframe thead th {\n",
              "        text-align: right;\n",
              "    }\n",
              "</style>\n",
              "<table border=\"1\" class=\"dataframe\">\n",
              "  <thead>\n",
              "    <tr style=\"text-align: right;\">\n",
              "      <th></th>\n",
              "      <th>age</th>\n",
              "      <th>education</th>\n",
              "      <th>balance</th>\n",
              "      <th>duration</th>\n",
              "    </tr>\n",
              "  </thead>\n",
              "  <tbody>\n",
              "    <tr>\n",
              "      <th>0</th>\n",
              "      <td>58</td>\n",
              "      <td>tertiary</td>\n",
              "      <td>2143</td>\n",
              "      <td>261</td>\n",
              "    </tr>\n",
              "    <tr>\n",
              "      <th>1</th>\n",
              "      <td>44</td>\n",
              "      <td>secondary</td>\n",
              "      <td>29</td>\n",
              "      <td>151</td>\n",
              "    </tr>\n",
              "    <tr>\n",
              "      <th>2</th>\n",
              "      <td>33</td>\n",
              "      <td>secondary</td>\n",
              "      <td>2</td>\n",
              "      <td>76</td>\n",
              "    </tr>\n",
              "    <tr>\n",
              "      <th>3</th>\n",
              "      <td>47</td>\n",
              "      <td>unknown</td>\n",
              "      <td>1506</td>\n",
              "      <td>92</td>\n",
              "    </tr>\n",
              "    <tr>\n",
              "      <th>4</th>\n",
              "      <td>33</td>\n",
              "      <td>unknown</td>\n",
              "      <td>1</td>\n",
              "      <td>198</td>\n",
              "    </tr>\n",
              "  </tbody>\n",
              "</table>\n",
              "</div>\n",
              "      <button class=\"colab-df-convert\" onclick=\"convertToInteractive('df-543d2b5d-e454-4819-b8d1-99b49c6c30cc')\"\n",
              "              title=\"Convert this dataframe to an interactive table.\"\n",
              "              style=\"display:none;\">\n",
              "        \n",
              "  <svg xmlns=\"http://www.w3.org/2000/svg\" height=\"24px\"viewBox=\"0 0 24 24\"\n",
              "       width=\"24px\">\n",
              "    <path d=\"M0 0h24v24H0V0z\" fill=\"none\"/>\n",
              "    <path d=\"M18.56 5.44l.94 2.06.94-2.06 2.06-.94-2.06-.94-.94-2.06-.94 2.06-2.06.94zm-11 1L8.5 8.5l.94-2.06 2.06-.94-2.06-.94L8.5 2.5l-.94 2.06-2.06.94zm10 10l.94 2.06.94-2.06 2.06-.94-2.06-.94-.94-2.06-.94 2.06-2.06.94z\"/><path d=\"M17.41 7.96l-1.37-1.37c-.4-.4-.92-.59-1.43-.59-.52 0-1.04.2-1.43.59L10.3 9.45l-7.72 7.72c-.78.78-.78 2.05 0 2.83L4 21.41c.39.39.9.59 1.41.59.51 0 1.02-.2 1.41-.59l7.78-7.78 2.81-2.81c.8-.78.8-2.07 0-2.86zM5.41 20L4 18.59l7.72-7.72 1.47 1.35L5.41 20z\"/>\n",
              "  </svg>\n",
              "      </button>\n",
              "      \n",
              "  <style>\n",
              "    .colab-df-container {\n",
              "      display:flex;\n",
              "      flex-wrap:wrap;\n",
              "      gap: 12px;\n",
              "    }\n",
              "\n",
              "    .colab-df-convert {\n",
              "      background-color: #E8F0FE;\n",
              "      border: none;\n",
              "      border-radius: 50%;\n",
              "      cursor: pointer;\n",
              "      display: none;\n",
              "      fill: #1967D2;\n",
              "      height: 32px;\n",
              "      padding: 0 0 0 0;\n",
              "      width: 32px;\n",
              "    }\n",
              "\n",
              "    .colab-df-convert:hover {\n",
              "      background-color: #E2EBFA;\n",
              "      box-shadow: 0px 1px 2px rgba(60, 64, 67, 0.3), 0px 1px 3px 1px rgba(60, 64, 67, 0.15);\n",
              "      fill: #174EA6;\n",
              "    }\n",
              "\n",
              "    [theme=dark] .colab-df-convert {\n",
              "      background-color: #3B4455;\n",
              "      fill: #D2E3FC;\n",
              "    }\n",
              "\n",
              "    [theme=dark] .colab-df-convert:hover {\n",
              "      background-color: #434B5C;\n",
              "      box-shadow: 0px 1px 3px 1px rgba(0, 0, 0, 0.15);\n",
              "      filter: drop-shadow(0px 1px 2px rgba(0, 0, 0, 0.3));\n",
              "      fill: #FFFFFF;\n",
              "    }\n",
              "  </style>\n",
              "\n",
              "      <script>\n",
              "        const buttonEl =\n",
              "          document.querySelector('#df-543d2b5d-e454-4819-b8d1-99b49c6c30cc button.colab-df-convert');\n",
              "        buttonEl.style.display =\n",
              "          google.colab.kernel.accessAllowed ? 'block' : 'none';\n",
              "\n",
              "        async function convertToInteractive(key) {\n",
              "          const element = document.querySelector('#df-543d2b5d-e454-4819-b8d1-99b49c6c30cc');\n",
              "          const dataTable =\n",
              "            await google.colab.kernel.invokeFunction('convertToInteractive',\n",
              "                                                     [key], {});\n",
              "          if (!dataTable) return;\n",
              "\n",
              "          const docLinkHtml = 'Like what you see? Visit the ' +\n",
              "            '<a target=\"_blank\" href=https://colab.research.google.com/notebooks/data_table.ipynb>data table notebook</a>'\n",
              "            + ' to learn more about interactive tables.';\n",
              "          element.innerHTML = '';\n",
              "          dataTable['output_type'] = 'display_data';\n",
              "          await google.colab.output.renderOutput(dataTable, element);\n",
              "          const docLink = document.createElement('div');\n",
              "          docLink.innerHTML = docLinkHtml;\n",
              "          element.appendChild(docLink);\n",
              "        }\n",
              "      </script>\n",
              "    </div>\n",
              "  </div>\n",
              "  "
            ]
          },
          "metadata": {},
          "execution_count": 4
        }
      ]
    },
    {
      "cell_type": "markdown",
      "source": [
        "## 1.Clasificación Balance \n",
        "Buscamos ver si existe una relación entre el nivel de estudios y el saldo de los clientes.  \n",
        "Para ello crearemos un dataframe nuevo, a partir de datos, al que añadiremos la columna _'et_balance'_ la cual clasificará a todos los clientes en tres grupos en función de su balance. Estos son: \n",
        "1. endeudado: los que tienen deudas\n",
        "2. ahorrador_norm: gente que tiene unos ahorros normales (en positivo, pero menos de 10.000 euros) \n",
        "3. ahorrador_plus: disponen de suficientes ahorros como para ofrecerles paquetes de inversión (aquellos en positivo con más de 10.000 euros)\n",
        "\n",
        "Esto lo utilizaremos para posteriormente ver si existe dicha relación.  \n",
        "Para ello primero veamos si existen valores nulos de dichos atributos en nuestro dataframe:"
      ],
      "metadata": {
        "id": "EnXY4iHkCG0h"
      }
    },
    {
      "cell_type": "code",
      "source": [
        "print(\"Missing Values ['balance']:\", (datos['balance']=='unknown').sum())\n",
        "print(\"Missing Values ['education']:\", (datos['education']=='unknown').sum())"
      ],
      "metadata": {
        "colab": {
          "base_uri": "https://localhost:8080/"
        },
        "id": "oo6uHUdqD-Z-",
        "outputId": "cd1332d9-48ca-46f8-8f2f-35a4c99fe26b"
      },
      "execution_count": null,
      "outputs": [
        {
          "output_type": "stream",
          "name": "stdout",
          "text": [
            "Missing Values ['balance']: 0\n",
            "Missing Values ['education']: 1857\n"
          ]
        }
      ]
    },
    {
      "cell_type": "markdown",
      "source": [
        "Observamos que no existen valores nulos del balance pero si de educación. Primero agrupemos a los clientes en función de su balance como hemos mencionado anteriormente y luego trataremos los valores nulos de educación."
      ],
      "metadata": {
        "id": "3P-N5VuKEZbP"
      }
    },
    {
      "cell_type": "code",
      "source": [
        "pd.set_option('mode.chained_assignment', None) #Suprimimos warning por hacer copia\n",
        "datos1 = datos\n",
        "datos1['et_balance'] = datos1['balance']\n",
        "\n",
        "#Clasificación en grupos\n",
        "for i in range(len(datos1['balance'])):\n",
        "  if datos1['balance'][i]< 0:\n",
        "    datos1['et_balance'][i] = 'endeudado'\n",
        "  elif datos1['balance'][i] > 10000:\n",
        "    datos1['et_balance'][i] = 'ahorrador_plus'\n",
        "  else:\n",
        "    datos1['et_balance'][i] = 'ahorrador_norm'\n",
        "\n",
        "datos1.head() #Mostramos 40 valores para poder observar que se encuentran todos los tipos de 'et_balance'"
      ],
      "metadata": {
        "colab": {
          "base_uri": "https://localhost:8080/",
          "height": 206
        },
        "id": "XSjoqqNCEgNQ",
        "outputId": "ebbcd195-f0cd-498e-fed1-11534e90e1e2"
      },
      "execution_count": null,
      "outputs": [
        {
          "output_type": "execute_result",
          "data": {
            "text/plain": [
              "   age  education  balance  duration      et_balance\n",
              "0   58   tertiary     2143       261  ahorrador_norm\n",
              "1   44  secondary       29       151  ahorrador_norm\n",
              "2   33  secondary        2        76  ahorrador_norm\n",
              "3   47    unknown     1506        92  ahorrador_norm\n",
              "4   33    unknown        1       198  ahorrador_norm"
            ],
            "text/html": [
              "\n",
              "  <div id=\"df-9811b793-4adc-46c8-9dc4-c6c4c875153a\">\n",
              "    <div class=\"colab-df-container\">\n",
              "      <div>\n",
              "<style scoped>\n",
              "    .dataframe tbody tr th:only-of-type {\n",
              "        vertical-align: middle;\n",
              "    }\n",
              "\n",
              "    .dataframe tbody tr th {\n",
              "        vertical-align: top;\n",
              "    }\n",
              "\n",
              "    .dataframe thead th {\n",
              "        text-align: right;\n",
              "    }\n",
              "</style>\n",
              "<table border=\"1\" class=\"dataframe\">\n",
              "  <thead>\n",
              "    <tr style=\"text-align: right;\">\n",
              "      <th></th>\n",
              "      <th>age</th>\n",
              "      <th>education</th>\n",
              "      <th>balance</th>\n",
              "      <th>duration</th>\n",
              "      <th>et_balance</th>\n",
              "    </tr>\n",
              "  </thead>\n",
              "  <tbody>\n",
              "    <tr>\n",
              "      <th>0</th>\n",
              "      <td>58</td>\n",
              "      <td>tertiary</td>\n",
              "      <td>2143</td>\n",
              "      <td>261</td>\n",
              "      <td>ahorrador_norm</td>\n",
              "    </tr>\n",
              "    <tr>\n",
              "      <th>1</th>\n",
              "      <td>44</td>\n",
              "      <td>secondary</td>\n",
              "      <td>29</td>\n",
              "      <td>151</td>\n",
              "      <td>ahorrador_norm</td>\n",
              "    </tr>\n",
              "    <tr>\n",
              "      <th>2</th>\n",
              "      <td>33</td>\n",
              "      <td>secondary</td>\n",
              "      <td>2</td>\n",
              "      <td>76</td>\n",
              "      <td>ahorrador_norm</td>\n",
              "    </tr>\n",
              "    <tr>\n",
              "      <th>3</th>\n",
              "      <td>47</td>\n",
              "      <td>unknown</td>\n",
              "      <td>1506</td>\n",
              "      <td>92</td>\n",
              "      <td>ahorrador_norm</td>\n",
              "    </tr>\n",
              "    <tr>\n",
              "      <th>4</th>\n",
              "      <td>33</td>\n",
              "      <td>unknown</td>\n",
              "      <td>1</td>\n",
              "      <td>198</td>\n",
              "      <td>ahorrador_norm</td>\n",
              "    </tr>\n",
              "  </tbody>\n",
              "</table>\n",
              "</div>\n",
              "      <button class=\"colab-df-convert\" onclick=\"convertToInteractive('df-9811b793-4adc-46c8-9dc4-c6c4c875153a')\"\n",
              "              title=\"Convert this dataframe to an interactive table.\"\n",
              "              style=\"display:none;\">\n",
              "        \n",
              "  <svg xmlns=\"http://www.w3.org/2000/svg\" height=\"24px\"viewBox=\"0 0 24 24\"\n",
              "       width=\"24px\">\n",
              "    <path d=\"M0 0h24v24H0V0z\" fill=\"none\"/>\n",
              "    <path d=\"M18.56 5.44l.94 2.06.94-2.06 2.06-.94-2.06-.94-.94-2.06-.94 2.06-2.06.94zm-11 1L8.5 8.5l.94-2.06 2.06-.94-2.06-.94L8.5 2.5l-.94 2.06-2.06.94zm10 10l.94 2.06.94-2.06 2.06-.94-2.06-.94-.94-2.06-.94 2.06-2.06.94z\"/><path d=\"M17.41 7.96l-1.37-1.37c-.4-.4-.92-.59-1.43-.59-.52 0-1.04.2-1.43.59L10.3 9.45l-7.72 7.72c-.78.78-.78 2.05 0 2.83L4 21.41c.39.39.9.59 1.41.59.51 0 1.02-.2 1.41-.59l7.78-7.78 2.81-2.81c.8-.78.8-2.07 0-2.86zM5.41 20L4 18.59l7.72-7.72 1.47 1.35L5.41 20z\"/>\n",
              "  </svg>\n",
              "      </button>\n",
              "      \n",
              "  <style>\n",
              "    .colab-df-container {\n",
              "      display:flex;\n",
              "      flex-wrap:wrap;\n",
              "      gap: 12px;\n",
              "    }\n",
              "\n",
              "    .colab-df-convert {\n",
              "      background-color: #E8F0FE;\n",
              "      border: none;\n",
              "      border-radius: 50%;\n",
              "      cursor: pointer;\n",
              "      display: none;\n",
              "      fill: #1967D2;\n",
              "      height: 32px;\n",
              "      padding: 0 0 0 0;\n",
              "      width: 32px;\n",
              "    }\n",
              "\n",
              "    .colab-df-convert:hover {\n",
              "      background-color: #E2EBFA;\n",
              "      box-shadow: 0px 1px 2px rgba(60, 64, 67, 0.3), 0px 1px 3px 1px rgba(60, 64, 67, 0.15);\n",
              "      fill: #174EA6;\n",
              "    }\n",
              "\n",
              "    [theme=dark] .colab-df-convert {\n",
              "      background-color: #3B4455;\n",
              "      fill: #D2E3FC;\n",
              "    }\n",
              "\n",
              "    [theme=dark] .colab-df-convert:hover {\n",
              "      background-color: #434B5C;\n",
              "      box-shadow: 0px 1px 3px 1px rgba(0, 0, 0, 0.15);\n",
              "      filter: drop-shadow(0px 1px 2px rgba(0, 0, 0, 0.3));\n",
              "      fill: #FFFFFF;\n",
              "    }\n",
              "  </style>\n",
              "\n",
              "      <script>\n",
              "        const buttonEl =\n",
              "          document.querySelector('#df-9811b793-4adc-46c8-9dc4-c6c4c875153a button.colab-df-convert');\n",
              "        buttonEl.style.display =\n",
              "          google.colab.kernel.accessAllowed ? 'block' : 'none';\n",
              "\n",
              "        async function convertToInteractive(key) {\n",
              "          const element = document.querySelector('#df-9811b793-4adc-46c8-9dc4-c6c4c875153a');\n",
              "          const dataTable =\n",
              "            await google.colab.kernel.invokeFunction('convertToInteractive',\n",
              "                                                     [key], {});\n",
              "          if (!dataTable) return;\n",
              "\n",
              "          const docLinkHtml = 'Like what you see? Visit the ' +\n",
              "            '<a target=\"_blank\" href=https://colab.research.google.com/notebooks/data_table.ipynb>data table notebook</a>'\n",
              "            + ' to learn more about interactive tables.';\n",
              "          element.innerHTML = '';\n",
              "          dataTable['output_type'] = 'display_data';\n",
              "          await google.colab.output.renderOutput(dataTable, element);\n",
              "          const docLink = document.createElement('div');\n",
              "          docLink.innerHTML = docLinkHtml;\n",
              "          element.appendChild(docLink);\n",
              "        }\n",
              "      </script>\n",
              "    </div>\n",
              "  </div>\n",
              "  "
            ]
          },
          "metadata": {},
          "execution_count": 6
        }
      ]
    },
    {
      "cell_type": "markdown",
      "source": [
        "Ahora veremos cuantos tenemos de cada grupo y lo graficaremos en un piechart (gráfica circular) para un posterior análisis."
      ],
      "metadata": {
        "id": "1SX7ZB50JhdU"
      }
    },
    {
      "cell_type": "code",
      "source": [
        "#Cálculo de frecuencia de cada grupo\n",
        "endeudados = len(datos1[datos1['et_balance']=='endeudado'])\n",
        "ahorradores_norm = len(datos1[datos1['et_balance']=='ahorrador_norm'])\n",
        "ahorradores_plus = len(datos1[datos1['et_balance']=='ahorrador_plus'])\n",
        "\n",
        "#Piechart\n",
        "print(f'Endeudados: {endeudados};  Ahorradores normales: {ahorradores_norm};  Ahorradores plus: {ahorradores_plus};  Suma de todos: {endeudados+ahorradores_norm+ahorradores_plus}')\n",
        "plt.figure(figsize=(10,10))\n",
        "plt.pie([endeudados, ahorradores_norm, ahorradores_plus], labels = ['Endeudados','Ahorradores normales','Ahorradores plus'], autopct='%.2f')\n",
        "plt.show()"
      ],
      "metadata": {
        "colab": {
          "base_uri": "https://localhost:8080/",
          "height": 592
        },
        "id": "GXd49xUlFK2X",
        "outputId": "f368a0e8-5b58-4528-d214-5c0df09da129"
      },
      "execution_count": null,
      "outputs": [
        {
          "output_type": "stream",
          "name": "stdout",
          "text": [
            "Endeudados: 3766;  Ahorradores normales: 40616;  Ahorradores plus: 829;  Suma de todos: 45211\n"
          ]
        },
        {
          "output_type": "display_data",
          "data": {
            "text/plain": [
              "<Figure size 720x720 with 1 Axes>"
            ],
            "image/png": "[encoded data removed]"
          },
          "metadata": {}
        }
      ]
    },
    {
      "cell_type": "markdown",
      "source": [
        "Podemos observar que la gran mayoría (89.84%) son ahorradores normales. El 10% restante se reparte en 8.33% de endeudados y un 1.83% de ahorradores plus.\n",
        "Veamos ahora que sucede con la educación. Para graficamos los porcentajes en una pie-chart:"
      ],
      "metadata": {
        "id": "ZSTDWXOmNEwn"
      }
    },
    {
      "cell_type": "code",
      "source": [
        "#Calculo de frecuencia de cada grupo\n",
        "primaria = len(datos1[datos1['education']=='primary'])\n",
        "secundaria = len(datos1[datos1['education']=='secondary'])\n",
        "terciaria = len(datos1[datos1['education']=='tertiary'])\n",
        "desconocida = len(datos1[datos1['education']=='unknown'])\n",
        "\n",
        "#Piechart\n",
        "print(f'Ed. Primaria: {primaria};  Ed. Secundaria: {secundaria};  Ed. Terciaria: {terciaria}; Desconocidos: {desconocida}; Suma de todos: {primaria+secundaria+terciaria+desconocida}')\n",
        "plt.figure(figsize=(10,10))\n",
        "plt.pie([primaria, secundaria, terciaria, desconocida], labels = ['Ed. Primaria','Ed. Secundaria','Ed. Terciaria', 'Desconocida'], autopct='%.2f')\n",
        "plt.show()"
      ],
      "metadata": {
        "colab": {
          "base_uri": "https://localhost:8080/",
          "height": 592
        },
        "id": "rPI4iDq06o0r",
        "outputId": "1c0adcce-08c3-4d0e-fc18-adcfa08e6fcc"
      },
      "execution_count": null,
      "outputs": [
        {
          "output_type": "stream",
          "name": "stdout",
          "text": [
            "Ed. Primaria: 6851;  Ed. Secundaria: 23202;  Ed. Terciaria: 13301; Desconocidos: 1857; Suma de todos: 45211\n"
          ]
        },
        {
          "output_type": "display_data",
          "data": {
            "text/plain": [
              "<Figure size 720x720 with 1 Axes>"
            ],
            "image/png": "[encoded data removed]"
          },
          "metadata": {}
        }
      ]
    },
    {
      "cell_type": "markdown",
      "source": [
        "Podemos observar que un 15.15% se corresponde con los que tienen solamente educación primaria.Por otro lado, la mitad (51.32%) tiene educación secundaria y un 29.42% educación terciaria. No obstante, podemos observar que hay un 4.11% de los clientes cuya educación es desconocida. Debido a que es menor de un 5% nos decidimos a eliminar dichos clientes para el análisis ya que no suponen un porcentaje significante de estos."
      ],
      "metadata": {
        "id": "up0jIB_BNjne"
      }
    },
    {
      "cell_type": "code",
      "source": [
        "datos1 = datos1[datos1['education'] != 'unknown']\n",
        "\n",
        "#Calculo de frecuencia de cada grupo\n",
        "primaria = len(datos1[datos1['education']=='primary'])\n",
        "secundaria = len(datos1[datos1['education']=='secondary'])\n",
        "terciaria = len(datos1[datos1['education']=='tertiary'])\n",
        "desconocida = len(datos1[datos1['education']=='unknown'])\n",
        "\n",
        "#Piechart\n",
        "plt.figure(figsize=(10,10))\n",
        "plt.pie([primaria, secundaria, terciaria, desconocida], labels = ['Ed. Primaria','Ed. Secundaria','Ed. Terciaria', 'Desconocida'], autopct='%.2f')\n",
        "plt.show()\n",
        "print(f'Ed. Primaria: {primaria};  Ed. Secundaria: {secundaria};  Ed. Terciaria: {terciaria}; Desconocidos: {desconocida}; Suma de todos: {primaria+secundaria+terciaria+desconocida}')"
      ],
      "metadata": {
        "colab": {
          "base_uri": "https://localhost:8080/",
          "height": 592
        },
        "id": "yyO7AQzk7hDS",
        "outputId": "a44c6feb-c4cd-45b9-d7e4-7570f78a2feb"
      },
      "execution_count": null,
      "outputs": [
        {
          "output_type": "display_data",
          "data": {
            "text/plain": [
              "<Figure size 720x720 with 1 Axes>"
            ],
            "image/png": "[encoded data removed]"
          },
          "metadata": {}
        },
        {
          "output_type": "stream",
          "name": "stdout",
          "text": [
            "Ed. Primaria: 6851;  Ed. Secundaria: 23202;  Ed. Terciaria: 13301; Desconocidos: 0; Suma de todos: 43354\n"
          ]
        }
      ]
    },
    {
      "cell_type": "markdown",
      "source": [
        "Tras eliminar los _'unknown'_ (datos desconocidos/faltantes) los porcentajes que quedan son 15.8% con educación primaria 53.52% con educación secundaria y 30.68% con educación terciaria. \n",
        "Ahora para poder ver si existe una relación entre dichos atributos graficaremos ambos en un diagrama de barras. en este en el eje x tendremos los grupos por educación. Es decir, primaria, secundaria y terciaria. El eje y representará la frecuencia de cada grupo en función del saldo en cada educación. Es decir _x_ endeudados, _y_ ahorradores normales y _z_ ahorradores plus con educacion primaria, etc. "
      ],
      "metadata": {
        "id": "o_dv_xXQOYDH"
      }
    },
    {
      "cell_type": "code",
      "source": [
        "dprimaria = datos1[datos1['education']=='primary'] # Dataframe con clientes de educación primaria\n",
        "numprime = sum(dprimaria['et_balance']=='endeudado') # Numero de endeudados con ed primaria\n",
        "numprima = sum(dprimaria['et_balance']=='ahorrador_norm') # Numero de ahorradores normales con ed primaria\n",
        "numprimap = sum(dprimaria['et_balance']=='ahorrador_plus') # Numero de ahorradores plus con ed primaria\n",
        "sumprim = numprime+numprima+numprimap\n",
        "\n",
        "dsecundaria = datos1[datos1['education']=='secondary'] # Dataframe con clientes de educación secundaria\n",
        "numsece = sum(dsecundaria['et_balance']=='endeudado')  # Numero de endeudados con ed secundaria\n",
        "numseca = sum(dsecundaria['et_balance']=='ahorrador_norm') # Numero de ahorradores normales con ed secundaria\n",
        "numsecap = sum(dsecundaria['et_balance']=='ahorrador_plus')\n",
        "sumsec = numsece+numseca+numsecap\n",
        "\n",
        "dterciaria = datos1[datos1['education']=='tertiary'] # Dataframe con clientes de educación terciaria\n",
        "numterce = sum(dterciaria['et_balance']=='endeudado') # Numero de endeudados con ed terciaria\n",
        "numterca = sum(dterciaria['et_balance']=='ahorrador_norm') # Numero de ahorradores normales con ed terciaria\n",
        "numtercap = sum(dterciaria['et_balance']=='ahorrador_plus') # Numero de ahorradores plus con ed terciaria\n",
        "sumterc = numterce+numterca+numtercap\n",
        "\n",
        "#Grafica de barras de los datos calculados\n",
        "plt.figure(figsize=(10,10))\n",
        "plt.bar(['Primaria', 'Secundaria', 'Terciaria'],[numprime+numprima+numprimap, numsece+numseca+numsecap, numterce+numterca+numtercap], label='Ahorradores Plus', color='red')\n",
        "plt.bar(['Primaria', 'Secundaria', 'Terciaria'],[numprime+numprima, numsece+numseca, numterce+numterca], label='Ahorradores normales', color='limegreen')\n",
        "plt.bar(['Primaria', 'Secundaria', 'Terciaria'],[numprime, numsece, numterce], label='Endeudados', color='cornflowerblue')\n",
        "plt.legend(loc='best')\n",
        "plt.yticks(np.array(range(25))*1000)\n",
        "plt.show()\n",
        "\n",
        "#Números para más facil observación\n",
        "print()\n",
        "print('EDUCACION PRIMARIA')\n",
        "print(f'Endeudados: {numprime} ({numprime*100/sumprim:.3}%);  Ahorradores normales: {numprima} ({numprima*100/sumprim:.3}%);  Ahorradores plus: {numprimap} ({numprimap*100/sumprim:.3}%);  Suma de todos: {sumprim}')\n",
        "print()\n",
        "print('EDUCACION SECUNDARIA')\n",
        "print(f'Endeudados: {numsece} ({numsece*100/sumsec:.3}%);  Ahorradores normales: {numseca} ({numseca*100/sumsec:.3}%);  Ahorradores plus: {numsecap} ({numsecap*100/sumsec:.3}%);  Suma de todos: {sumsec}')\n",
        "print()\n",
        "print('EDUCACION TERCIARIA')\n",
        "print(f'Endeudados: {numterce} ({numterce*100/sumterc:.3}%);  Ahorradores normales: {numterca} ({numterca*100/sumterc:.3}%);  Ahorradores plus: {numtercap} ({numtercap*100/sumterc:.3}%);  Suma de todos: {sumterc}')"
      ],
      "metadata": {
        "colab": {
          "base_uri": "https://localhost:8080/",
          "height": 748
        },
        "id": "9mjZgrar8Tjj",
        "outputId": "717f20df-e56f-4135-b599-c4ba1bdd6eb4"
      },
      "execution_count": null,
      "outputs": [
        {
          "output_type": "display_data",
          "data": {
            "text/plain": [
              "<Figure size 720x720 with 1 Axes>"
            ],
            "image/png": "[encoded data removed]"
          },
          "metadata": {
            "needs_background": "light"
          }
        },
        {
          "output_type": "stream",
          "name": "stdout",
          "text": [
            "\n",
            "EDUCACION PRIMARIA\n",
            "Endeudados: 607 (8.86%);  Ahorradores normales: 6160 (89.9%);  Ahorradores plus: 84 (1.23%);  Suma de todos: 6851\n",
            "\n",
            "EDUCACION SECUNDARIA\n",
            "Endeudados: 2311 (9.96%);  Ahorradores normales: 20590 (88.7%);  Ahorradores plus: 301 (1.3%);  Suma de todos: 23202\n",
            "\n",
            "EDUCACION TERCIARIA\n",
            "Endeudados: 720 (5.41%);  Ahorradores normales: 12177 (91.5%);  Ahorradores plus: 404 (3.04%);  Suma de todos: 13301\n"
          ]
        }
      ]
    },
    {
      "cell_type": "markdown",
      "source": [
        "De la gráfica y los porcentajes podemos concluir que no hay una relación directa entre la educación y el balance. No obstante, cabe recalcar que tenemos el triple de datos de clientes con Educación Secundaria que con Educación Primaria. Con esto lo que queremos llegar a explicar es que a lo mejor hay un sesgo en los datos de Educación Primaria que nos impide ver si realmente existe algún tipo de relación. Y es que, si observámos los porcentajes de Educación Secundaria y Terciaria solamente, podríamos deducir que efectivamente si existe una gran relación entre la educación y el balance. Los endeudados se reducen casi un 50%, los ahorradores normales aumentan un 3% y (lo más significativo) los ahorradores _plus_ aumentan casi un 250%. Esta conclusión sería bastante más lógica. Sin embargo, como hemos dicho con estos datos no existe una relación entre el balance y la educación. O por lo menos entre la Educación Primaria y Secundaria. Ya que si que vemos un cambio significativo en el balance de los clientes con Educación Terciaria."
      ],
      "metadata": {
        "id": "Xy2T46ZK62Dx"
      }
    },
    {
      "cell_type": "markdown",
      "source": [
        "## 2.Clasificación por edades\n",
        "Para el apartado dos primero crearemos un dataframe nuevo, a partir de datos, al que añadiremos la columna _'age_class'_ la cual clasificará a todos los clientes en cuatro grupos en función de su edad. Estos son: \n",
        "1. Alumno: menos de 30 años\n",
        "2. Trabajador: entre 30 y 45 años\n",
        "3. Veterano: entre 45 y 65 años\n",
        "4. No vinculado: mayor de 65 años  \n",
        "\n",
        "Para ello primero veamos si existen valores nulos de dicho atributo en nuestro dataframe:"
      ],
      "metadata": {
        "id": "z1lFqjbTIldw"
      }
    },
    {
      "cell_type": "code",
      "source": [
        "print(\"Missing Values ['age']:\", len(datos[datos['age']=='unknown']))"
      ],
      "metadata": {
        "colab": {
          "base_uri": "https://localhost:8080/"
        },
        "id": "CltUv_ANyySq",
        "outputId": "61dcc7d1-80ef-439c-bc3a-c243b404ac6f"
      },
      "execution_count": null,
      "outputs": [
        {
          "output_type": "stream",
          "name": "stdout",
          "text": [
            "Missing Values ['age']: 0\n"
          ]
        }
      ]
    },
    {
      "cell_type": "markdown",
      "source": [
        "Observamos que no existen valores nulos de este atributo por lo que procedemos a hacer lo redactado. Además veremos cuantas personas hay en cada grupo:"
      ],
      "metadata": {
        "id": "gur_Q1HAzU2K"
      }
    },
    {
      "cell_type": "code",
      "source": [
        "datos2 = datos\n",
        "datos2['age_class'] = 0\n",
        "\n",
        "#Clasificación en grupos\n",
        "for i in range(len(datos2['age'])):\n",
        "  if datos2['age'][i] < 30:\n",
        "    datos2['age_class'][i] = 'alumno'\n",
        "  elif datos2['age'][i] >= 30 and datos2['age'][i] < 45:\n",
        "    datos2['age_class'][i] = 'joven'\n",
        "  elif datos2['age'][i] >= 45 and datos2['age'][i] < 65:\n",
        "    datos2['age_class'][i] = 'veterano'\n",
        "  elif datos2['age'][i] >= 65:\n",
        "    datos2['age_class'][i] = 'no vinculado'\n",
        "  else:\n",
        "    datos2['age_class'][i] = 'unknown'\n",
        "\n",
        "#Calculo de frecuencia de cada grupo\n",
        "alumnos = len(datos2[datos2['age_class']=='alumno'])\n",
        "jovenes = len(datos2[datos2['age_class']=='joven'])\n",
        "veteranos = len(datos2[datos2['age_class']=='veterano'])\n",
        "no_vinculados = len(datos2[datos2['age_class']=='no vinculado'])\n",
        "sumatodos = alumnos+jovenes+veteranos+no_vinculados\n",
        "\n",
        "#Piechart\n",
        "plt.figure(figsize=(10,10))\n",
        "plt.pie([alumnos, jovenes, veteranos, no_vinculados], labels = ['Alumnos','Jóvenes','Veteranos', 'No vinculados'], autopct='%.2f')\n",
        "plt.show()\n",
        "\n",
        "#Frecuencias y porcentaje\n",
        "print(f'Alumnos: {alumnos} ({alumnos*100/sumatodos:.3}%);  Jovenes: {jovenes} ({jovenes*100/sumatodos:.3}%);  Veteranos: {veteranos} ({veteranos*100/sumatodos:.3}%); No vinculados: {no_vinculados} ({no_vinculados*100/sumatodos:.3}%)')\n",
        "print(f'Suma de todos: {sumatodos} (100%)')"
      ],
      "metadata": {
        "colab": {
          "base_uri": "https://localhost:8080/",
          "height": 610
        },
        "id": "yJOK6eXoKWxd",
        "outputId": "755de3b8-be8b-4d8b-e87f-6677d32faf89"
      },
      "execution_count": null,
      "outputs": [
        {
          "output_type": "display_data",
          "data": {
            "text/plain": [
              "<Figure size 720x720 with 1 Axes>"
            ],
            "image/png": "[encoded data removed]"
          },
          "metadata": {}
        },
        {
          "output_type": "stream",
          "name": "stdout",
          "text": [
            "Alumnos: 5273 (11.7%);  Jovenes: 24274 (53.7%);  Veteranos: 14854 (32.9%); No vinculados: 810 (1.79%)\n",
            "Suma de todos: 45211 (100%)\n"
          ]
        }
      ]
    },
    {
      "cell_type": "markdown",
      "source": [
        "Podemos observar que la gran mayoría son jóvenes. Sin embargo, grafiquemoslo en un diagrama de barras para observar mejor las diferencias y ver las frecuencias de cada grupo:"
      ],
      "metadata": {
        "id": "AyYhXplIN7Nh"
      }
    },
    {
      "cell_type": "code",
      "source": [
        "plt.figure(figsize=(10,10))\n",
        "plt.bar(['Alumnos (11.7%)','Trabajadores (53.7%)','Veteranos (32.9%)','No vinculados (1.79%)'], [alumnos,jovenes,veteranos,no_vinculados], color=['green','blue','fuchsia','red'])\n",
        "plt.title('Frecuencia de cada clase (edad)')\n",
        "plt.yticks(np.array(range(25))*1000)\n",
        "plt.show()\n",
        "\n",
        "#Imprimir la altura de las barras (frecuencia)\n",
        "print(f'        Alumnos: {alumnos}   Trabajadores: {jovenes}   Veteranos: {veteranos}  No vinculados: {no_vinculados}')"
      ],
      "metadata": {
        "colab": {
          "base_uri": "https://localhost:8080/",
          "height": 624
        },
        "id": "HxUBmKI9N8SA",
        "outputId": "fd463989-de21-4a04-fe44-bfe47f57c925"
      },
      "execution_count": null,
      "outputs": [
        {
          "output_type": "display_data",
          "data": {
            "text/plain": [
              "<Figure size 720x720 with 1 Axes>"
            ],
            "image/png": "[encoded data removed]"
          },
          "metadata": {
            "needs_background": "light"
          }
        },
        {
          "output_type": "stream",
          "name": "stdout",
          "text": [
            "        Alumnos: 5273   Trabajadores: 24274   Veteranos: 14854  No vinculados: 810\n"
          ]
        }
      ]
    },
    {
      "cell_type": "markdown",
      "source": [
        "Podemos observar que la mayor parte de los clientes son trabajadores de la Universidad Francisco de Vitoria. El  segundo grupo con mas clientes son los veteranos, seguido por los alumnos y finalmente los no vinculados, los cuales podríamos considerar casos excepcionales. De esto podemos concluir que los trabajadores de la Francisco de Vitoria (profesores, limpieza, cocina, etc.) puede ser que por temas del trabajo tengan que hacer uso de la sucursal de la universidad, siendo así el grupo mas grande. Por otra parte, los veteranos podemos concluir que son los clientes fieles siguen haciendo uso de la sucursal de la Francisco (tanto trabajadores veteranos como extrabajadores y casos excepcionales). Los alumnos corresponden el tercer grupo. De estos podemos concluir que debido a su vida en la universidad un parte de estos hacen uso de la sucursal de la universidad. Por último, los no vinculados, los cuales corresponden el grupo más pequeño, puede deberse a casos excepcionales (padres, exprofesores, etc.) "
      ],
      "metadata": {
        "id": "zDFzEm-aZObd"
      }
    },
    {
      "cell_type": "markdown",
      "source": [
        "## 3.Clasificación por días"
      ],
      "metadata": {
        "id": "NkO3lsHcI6OD"
      }
    },
    {
      "cell_type": "markdown",
      "source": [
        "Como en los dos anteriores apartados, primero observámos si existe algún valor nulo del atributo con el que vamos a trabajar, en este caso _'duration'_. Este mide el tiempo que lleva el cliente en días."
      ],
      "metadata": {
        "id": "7-NtjtHC_ALj"
      }
    },
    {
      "cell_type": "code",
      "source": [
        "print(\"Missing Values ['duration']:\", datos['duration'].isna().sum())"
      ],
      "metadata": {
        "colab": {
          "base_uri": "https://localhost:8080/"
        },
        "outputId": "eb99ff84-fb2b-42f0-b227-f608d8d085ed",
        "id": "DhRwIRx73HVj"
      },
      "execution_count": null,
      "outputs": [
        {
          "output_type": "stream",
          "name": "stdout",
          "text": [
            "Missing Values ['duration']: 0\n"
          ]
        }
      ]
    },
    {
      "cell_type": "markdown",
      "source": [
        "Al ver que no existen valores nulos procedemos con el ejercicio.  \n",
        "Primero, como se nos pide, pasámos dichos valores a años  (dividiendo entre 365) y añadimos dichos valores a una nueva columna _'duration_y'_. Posteriormente graficamos en un histograma en el que dividiremos los grupos en 0-1 años, 1-2 años, etc."
      ],
      "metadata": {
        "id": "OIZahvE__QnK"
      }
    },
    {
      "cell_type": "code",
      "source": [
        "datos3 = datos \n",
        "datos3['duration_y'] = datos3['duration']/365\n",
        "plt.figure(figsize=(7,6))\n",
        "n, bins, patches = plt.hist(datos3['duration_y'], bins = range(15))\n",
        "plt.xticks(bins)\n",
        "\n",
        "# Aplicar colores\n",
        "cm = plt.cm.get_cmap('RdYlBu_r') \n",
        "col = (n-n.min())/(n.max()-n.min()) \n",
        "for c, p in zip(col, patches):\n",
        "    plt.setp(p, 'facecolor', cm(c))\n",
        "plt.show()\n",
        "\n",
        "#Imprimir la altura de las barras (frecuencia)\n",
        "nums2 = n.sum()\n",
        "for i in range(len(n)):\n",
        "  print(f'Bar {i}: {n[i]:.0f} ({n[i]*100/nums:.2f}%)')"
      ],
      "metadata": {
        "colab": {
          "base_uri": "https://localhost:8080/",
          "height": 617
        },
        "id": "NMOXUIgTIkHp",
        "outputId": "2afe1e6f-4672-47ce-c4bc-8f33994b16bc"
      },
      "execution_count": null,
      "outputs": [
        {
          "output_type": "display_data",
          "data": {
            "text/plain": [
              "<Figure size 504x432 with 1 Axes>"
            ],
            "image/png": "[encoded data removed]"
          },
          "metadata": {
            "needs_background": "light"
          }
        },
        {
          "output_type": "stream",
          "name": "stdout",
          "text": [
            "Bar 0: 36041 (79.72%)\n",
            "Bar 1: 6752 (14.93%)\n",
            "Bar 2: 1626 (3.60%)\n",
            "Bar 3: 531 (1.17%)\n",
            "Bar 4: 164 (0.36%)\n",
            "Bar 5: 57 (0.13%)\n",
            "Bar 6: 18 (0.04%)\n",
            "Bar 7: 8 (0.02%)\n",
            "Bar 8: 8 (0.02%)\n",
            "Bar 9: 3 (0.01%)\n",
            "Bar 10: 2 (0.00%)\n",
            "Bar 11: 0 (0.00%)\n",
            "Bar 12: 0 (0.00%)\n",
            "Bar 13: 1 (0.00%)\n"
          ]
        }
      ]
    },
    {
      "cell_type": "markdown",
      "source": [
        "Según este histograma lo que se puede concluir es que la inmensa mayoría de los clientes de la empresa llevan un año o menos en ella, a medida que avanza el tiempo que llevan vinculados a la empresa vemos que los clientes que se mantienen en ella va disminuyendo, por cual se puede concluir que los clientes tienden a desvincularse de la empresa con el paso de los años y que hay muy pocos clientes que sigan en ella después de los dos años. Esto corrobora la conclusión del anterior apartado. Los clientes activos de la sucursal son las personas que hacen su vida en la universidad (alumnos y  trabajadores). "
      ],
      "metadata": {
        "id": "F_VukkfiI3S9"
      }
    }
  ]
}