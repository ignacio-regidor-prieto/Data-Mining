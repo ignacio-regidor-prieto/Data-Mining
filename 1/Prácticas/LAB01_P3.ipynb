{
  "nbformat": 4,
  "nbformat_minor": 0,
  "metadata": {
    "colab": {
      "provenance": []
    },
    "kernelspec": {
      "name": "python3",
      "display_name": "Python 3"
    },
    "language_info": {
      "name": "python"
    }
  },
  "cells": [
    {
      "cell_type": "markdown",
      "source": [
        "# Laboratorio 1 - Pregunta 3\n",
        "### Hecho por: Daniel Alonso, Alvaro García Cid, Enrique Ramos e Ignacio Regidor"
      ],
      "metadata": {
        "id": "w2cHrnNg5Dj-"
      }
    },
    {
      "cell_type": "markdown",
      "source": [
        "##Resumen\n",
        "En está práctica se estudiará una base de datos de distintos \"Pokemons\" y sus distintos atributos. Se analizará si se puede reducir la dimensionalidad de estos atributos con nuevas componentes principales que describan estas características conservando un gran porcentaje de la información (PCA)."
      ],
      "metadata": {
        "id": "PLncfY0R0AJR"
      }
    },
    {
      "cell_type": "markdown",
      "source": [
        "##Introducción al problema y pasos previos\n",
        "A continuación se muestran las librerías de Python utilizadas en esta práctica.\n",
        "- Numpy: utilizada por el resto de liberías, permite la creación y el manejo de datos de forma rápida y eficiente, conteniendo estructuras de datos propias. También nos permite realizar cálculos de algebra lineal, para trabajar en este caso con autovalores y sus autovectores asociados.\n",
        "- Pandas: permite la creación y manejo de dataframes a partir de la base de datos empleada.\n",
        "- Matplotlib.pyplot: se utilizará para ilustrar los distintos gráficos del PCA, que nos puedan aportar información del proceso y resultados.\n",
        "- Scikit-learn: con nombre sklearn en cuánto a código en lenguaje Python, tiene muchas implementaciones útiles para el machine learning. En este caso, se utilizará para el preprocesamiento de datos (estandarización) y para realizar el PCA de forma alternativa (con la posterior comparación)."
      ],
      "metadata": {
        "id": "D8RnHlEp28gg"
      }
    },
    {
      "cell_type": "code",
      "execution_count": null,
      "metadata": {
        "id": "iVyBBbd3gcgp"
      },
      "outputs": [],
      "source": [
        "import pandas as pd\n",
        "import numpy as np\n",
        "import matplotlib.pyplot as plt\n",
        "import sklearn as scl"
      ]
    },
    {
      "cell_type": "markdown",
      "source": [
        "##Preprocesamiento de los datos"
      ],
      "metadata": {
        "id": "nClCfIXwtQgI"
      }
    },
    {
      "cell_type": "markdown",
      "source": [
        "Se procede a importar la base de datos contenida en un archivo .csv\n",
        "\n",
        "Se guarda en una variable <i>dataframe</i> creada con la librería pandas a la que se le llamará \"datosraw\".\n",
        "\n",
        "También se muestran 5 Pokemons de este dataframe con la función .head() para observar los nombres y tipos de sus distintos atributos."
      ],
      "metadata": {
        "id": "Ig20kVSI41Yg"
      }
    },
    {
      "cell_type": "code",
      "source": [
        "datosraw = pd.read_csv(\"pokemon.csv\", sep=',')\n",
        "datosraw.head()"
      ],
      "metadata": {
        "colab": {
          "base_uri": "https://localhost:8080/",
          "height": 206
        },
        "id": "cdgPmR8XBQ_3",
        "outputId": "8df20b24-f460-4257-a7a3-f1a4120ee37f"
      },
      "execution_count": null,
      "outputs": [
        {
          "output_type": "execute_result",
          "data": {
            "text/plain": [
              "      Pokémon   Tipo  PS  Ataque  Defensa  Ataque especial  Defensa especial  \\\n",
              "0  TYPHLOSION  Fuego   2       3        2                4                 2   \n",
              "1      PONYTA  Fuego   2       3        2                2                 2   \n",
              "2     TORKOAL  Fuego   2       3        4                3                 2   \n",
              "3    ARCANINE  Fuego   3       5        3                4                 3   \n",
              "4     STARMIE   Agua   2       3        3                4                 2   \n",
              "\n",
              "   Velocidad  \n",
              "0          4  \n",
              "1          3  \n",
              "2          1  \n",
              "3          4  \n",
              "4          4  "
            ],
            "text/html": [
              "\n",
              "  <div id=\"df-f0c637fe-1347-4533-b994-849f1310dcf2\">\n",
              "    <div class=\"colab-df-container\">\n",
              "      <div>\n",
              "<style scoped>\n",
              "    .dataframe tbody tr th:only-of-type {\n",
              "        vertical-align: middle;\n",
              "    }\n",
              "\n",
              "    .dataframe tbody tr th {\n",
              "        vertical-align: top;\n",
              "    }\n",
              "\n",
              "    .dataframe thead th {\n",
              "        text-align: right;\n",
              "    }\n",
              "</style>\n",
              "<table border=\"1\" class=\"dataframe\">\n",
              "  <thead>\n",
              "    <tr style=\"text-align: right;\">\n",
              "      <th></th>\n",
              "      <th>Pokémon</th>\n",
              "      <th>Tipo</th>\n",
              "      <th>PS</th>\n",
              "      <th>Ataque</th>\n",
              "      <th>Defensa</th>\n",
              "      <th>Ataque especial</th>\n",
              "      <th>Defensa especial</th>\n",
              "      <th>Velocidad</th>\n",
              "    </tr>\n",
              "  </thead>\n",
              "  <tbody>\n",
              "    <tr>\n",
              "      <th>0</th>\n",
              "      <td>TYPHLOSION</td>\n",
              "      <td>Fuego</td>\n",
              "      <td>2</td>\n",
              "      <td>3</td>\n",
              "      <td>2</td>\n",
              "      <td>4</td>\n",
              "      <td>2</td>\n",
              "      <td>4</td>\n",
              "    </tr>\n",
              "    <tr>\n",
              "      <th>1</th>\n",
              "      <td>PONYTA</td>\n",
              "      <td>Fuego</td>\n",
              "      <td>2</td>\n",
              "      <td>3</td>\n",
              "      <td>2</td>\n",
              "      <td>2</td>\n",
              "      <td>2</td>\n",
              "      <td>3</td>\n",
              "    </tr>\n",
              "    <tr>\n",
              "      <th>2</th>\n",
              "      <td>TORKOAL</td>\n",
              "      <td>Fuego</td>\n",
              "      <td>2</td>\n",
              "      <td>3</td>\n",
              "      <td>4</td>\n",
              "      <td>3</td>\n",
              "      <td>2</td>\n",
              "      <td>1</td>\n",
              "    </tr>\n",
              "    <tr>\n",
              "      <th>3</th>\n",
              "      <td>ARCANINE</td>\n",
              "      <td>Fuego</td>\n",
              "      <td>3</td>\n",
              "      <td>5</td>\n",
              "      <td>3</td>\n",
              "      <td>4</td>\n",
              "      <td>3</td>\n",
              "      <td>4</td>\n",
              "    </tr>\n",
              "    <tr>\n",
              "      <th>4</th>\n",
              "      <td>STARMIE</td>\n",
              "      <td>Agua</td>\n",
              "      <td>2</td>\n",
              "      <td>3</td>\n",
              "      <td>3</td>\n",
              "      <td>4</td>\n",
              "      <td>2</td>\n",
              "      <td>4</td>\n",
              "    </tr>\n",
              "  </tbody>\n",
              "</table>\n",
              "</div>\n",
              "      <button class=\"colab-df-convert\" onclick=\"convertToInteractive('df-f0c637fe-1347-4533-b994-849f1310dcf2')\"\n",
              "              title=\"Convert this dataframe to an interactive table.\"\n",
              "              style=\"display:none;\">\n",
              "        \n",
              "  <svg xmlns=\"http://www.w3.org/2000/svg\" height=\"24px\"viewBox=\"0 0 24 24\"\n",
              "       width=\"24px\">\n",
              "    <path d=\"M0 0h24v24H0V0z\" fill=\"none\"/>\n",
              "    <path d=\"M18.56 5.44l.94 2.06.94-2.06 2.06-.94-2.06-.94-.94-2.06-.94 2.06-2.06.94zm-11 1L8.5 8.5l.94-2.06 2.06-.94-2.06-.94L8.5 2.5l-.94 2.06-2.06.94zm10 10l.94 2.06.94-2.06 2.06-.94-2.06-.94-.94-2.06-.94 2.06-2.06.94z\"/><path d=\"M17.41 7.96l-1.37-1.37c-.4-.4-.92-.59-1.43-.59-.52 0-1.04.2-1.43.59L10.3 9.45l-7.72 7.72c-.78.78-.78 2.05 0 2.83L4 21.41c.39.39.9.59 1.41.59.51 0 1.02-.2 1.41-.59l7.78-7.78 2.81-2.81c.8-.78.8-2.07 0-2.86zM5.41 20L4 18.59l7.72-7.72 1.47 1.35L5.41 20z\"/>\n",
              "  </svg>\n",
              "      </button>\n",
              "      \n",
              "  <style>\n",
              "    .colab-df-container {\n",
              "      display:flex;\n",
              "      flex-wrap:wrap;\n",
              "      gap: 12px;\n",
              "    }\n",
              "\n",
              "    .colab-df-convert {\n",
              "      background-color: #E8F0FE;\n",
              "      border: none;\n",
              "      border-radius: 50%;\n",
              "      cursor: pointer;\n",
              "      display: none;\n",
              "      fill: #1967D2;\n",
              "      height: 32px;\n",
              "      padding: 0 0 0 0;\n",
              "      width: 32px;\n",
              "    }\n",
              "\n",
              "    .colab-df-convert:hover {\n",
              "      background-color: #E2EBFA;\n",
              "      box-shadow: 0px 1px 2px rgba(60, 64, 67, 0.3), 0px 1px 3px 1px rgba(60, 64, 67, 0.15);\n",
              "      fill: #174EA6;\n",
              "    }\n",
              "\n",
              "    [theme=dark] .colab-df-convert {\n",
              "      background-color: #3B4455;\n",
              "      fill: #D2E3FC;\n",
              "    }\n",
              "\n",
              "    [theme=dark] .colab-df-convert:hover {\n",
              "      background-color: #434B5C;\n",
              "      box-shadow: 0px 1px 3px 1px rgba(0, 0, 0, 0.15);\n",
              "      filter: drop-shadow(0px 1px 2px rgba(0, 0, 0, 0.3));\n",
              "      fill: #FFFFFF;\n",
              "    }\n",
              "  </style>\n",
              "\n",
              "      <script>\n",
              "        const buttonEl =\n",
              "          document.querySelector('#df-f0c637fe-1347-4533-b994-849f1310dcf2 button.colab-df-convert');\n",
              "        buttonEl.style.display =\n",
              "          google.colab.kernel.accessAllowed ? 'block' : 'none';\n",
              "\n",
              "        async function convertToInteractive(key) {\n",
              "          const element = document.querySelector('#df-f0c637fe-1347-4533-b994-849f1310dcf2');\n",
              "          const dataTable =\n",
              "            await google.colab.kernel.invokeFunction('convertToInteractive',\n",
              "                                                     [key], {});\n",
              "          if (!dataTable) return;\n",
              "\n",
              "          const docLinkHtml = 'Like what you see? Visit the ' +\n",
              "            '<a target=\"_blank\" href=https://colab.research.google.com/notebooks/data_table.ipynb>data table notebook</a>'\n",
              "            + ' to learn more about interactive tables.';\n",
              "          element.innerHTML = '';\n",
              "          dataTable['output_type'] = 'display_data';\n",
              "          await google.colab.output.renderOutput(dataTable, element);\n",
              "          const docLink = document.createElement('div');\n",
              "          docLink.innerHTML = docLinkHtml;\n",
              "          element.appendChild(docLink);\n",
              "        }\n",
              "      </script>\n",
              "    </div>\n",
              "  </div>\n",
              "  "
            ]
          },
          "metadata": {},
          "execution_count": 2
        }
      ]
    },
    {
      "cell_type": "markdown",
      "source": [
        "Se observa que cada pokemon tiene su nombre como clave primaria o identificador de tipo categórico, un atributo del tipo de Pokemos que es también categórico, y otros 6 atributos numéricos de los cuales se intentará reducir la dimensionalidad.\n",
        "\n",
        "A continuación, con la función .shape, se obtiene que la base de datos contiene 20 pokemons, cada uno con su clave primaria y atributos diferentes (1+7=8)."
      ],
      "metadata": {
        "id": "feZFt7no6ddW"
      }
    },
    {
      "cell_type": "code",
      "source": [
        "datosraw.shape"
      ],
      "metadata": {
        "colab": {
          "base_uri": "https://localhost:8080/"
        },
        "id": "yvg5ZweZBXU3",
        "outputId": "2539e13a-b337-4bb5-a708-9076d95b6ed0"
      },
      "execution_count": null,
      "outputs": [
        {
          "output_type": "execute_result",
          "data": {
            "text/plain": [
              "(20, 8)"
            ]
          },
          "metadata": {},
          "execution_count": 3
        }
      ]
    },
    {
      "cell_type": "markdown",
      "source": [
        "En el siguiente paso, se buscan valores duplicados para su posterior eliminación.\n",
        "\n",
        "El hecho de que haya 0 valores duplicados en el nombre del Pokemon, confirma que es la clave primaria y que no hay Pokemons duplicados o exactamente iguales.\n",
        "\n",
        "Es decir, no hace falta eliminar ningún Pokemon.\n"
      ],
      "metadata": {
        "id": "7Y7FE1I669wk"
      }
    },
    {
      "cell_type": "code",
      "source": [
        "for c in datosraw.columns:\n",
        "  print(\"Duplicated Values [{0}]:\".format(c), datosraw[c].duplicated().sum())"
      ],
      "metadata": {
        "colab": {
          "base_uri": "https://localhost:8080/"
        },
        "id": "7CKm1s3uBaFb",
        "outputId": "de0a1c9d-2bcf-4a64-cd7f-501d946b8dc6"
      },
      "execution_count": null,
      "outputs": [
        {
          "output_type": "stream",
          "name": "stdout",
          "text": [
            "Duplicated Values [Pokémon]: 0\n",
            "Duplicated Values [Tipo]: 15\n",
            "Duplicated Values [PS]: 16\n",
            "Duplicated Values [Ataque]: 15\n",
            "Duplicated Values [Defensa]: 16\n",
            "Duplicated Values [Ataque especial]: 16\n",
            "Duplicated Values [Defensa especial]: 16\n",
            "Duplicated Values [Velocidad]: 15\n"
          ]
        }
      ]
    },
    {
      "cell_type": "markdown",
      "source": [
        "Para el PCA, al ser un proceso no supervisado, se trabaja solo con las variables numéricas. Por este motivo, se creará un nuevo dataframe exclusivamente con estas."
      ],
      "metadata": {
        "id": "E5FfuxZkJ6p_"
      }
    },
    {
      "cell_type": "code",
      "source": [
        "datos = datosraw[['PS','Ataque','Defensa','Ataque especial','Defensa especial','Velocidad']]\n",
        "datos.head()"
      ],
      "metadata": {
        "colab": {
          "base_uri": "https://localhost:8080/",
          "height": 206
        },
        "id": "J7e0iVO_BcVL",
        "outputId": "e3140f25-85f6-4d3e-a159-5611ec6ab90a"
      },
      "execution_count": null,
      "outputs": [
        {
          "output_type": "execute_result",
          "data": {
            "text/plain": [
              "   PS  Ataque  Defensa  Ataque especial  Defensa especial  Velocidad\n",
              "0   2       3        2                4                 2          4\n",
              "1   2       3        2                2                 2          3\n",
              "2   2       3        4                3                 2          1\n",
              "3   3       5        3                4                 3          4\n",
              "4   2       3        3                4                 2          4"
            ],
            "text/html": [
              "\n",
              "  <div id=\"df-29abeaaa-39ca-45cd-a712-8b1d4d1454e8\">\n",
              "    <div class=\"colab-df-container\">\n",
              "      <div>\n",
              "<style scoped>\n",
              "    .dataframe tbody tr th:only-of-type {\n",
              "        vertical-align: middle;\n",
              "    }\n",
              "\n",
              "    .dataframe tbody tr th {\n",
              "        vertical-align: top;\n",
              "    }\n",
              "\n",
              "    .dataframe thead th {\n",
              "        text-align: right;\n",
              "    }\n",
              "</style>\n",
              "<table border=\"1\" class=\"dataframe\">\n",
              "  <thead>\n",
              "    <tr style=\"text-align: right;\">\n",
              "      <th></th>\n",
              "      <th>PS</th>\n",
              "      <th>Ataque</th>\n",
              "      <th>Defensa</th>\n",
              "      <th>Ataque especial</th>\n",
              "      <th>Defensa especial</th>\n",
              "      <th>Velocidad</th>\n",
              "    </tr>\n",
              "  </thead>\n",
              "  <tbody>\n",
              "    <tr>\n",
              "      <th>0</th>\n",
              "      <td>2</td>\n",
              "      <td>3</td>\n",
              "      <td>2</td>\n",
              "      <td>4</td>\n",
              "      <td>2</td>\n",
              "      <td>4</td>\n",
              "    </tr>\n",
              "    <tr>\n",
              "      <th>1</th>\n",
              "      <td>2</td>\n",
              "      <td>3</td>\n",
              "      <td>2</td>\n",
              "      <td>2</td>\n",
              "      <td>2</td>\n",
              "      <td>3</td>\n",
              "    </tr>\n",
              "    <tr>\n",
              "      <th>2</th>\n",
              "      <td>2</td>\n",
              "      <td>3</td>\n",
              "      <td>4</td>\n",
              "      <td>3</td>\n",
              "      <td>2</td>\n",
              "      <td>1</td>\n",
              "    </tr>\n",
              "    <tr>\n",
              "      <th>3</th>\n",
              "      <td>3</td>\n",
              "      <td>5</td>\n",
              "      <td>3</td>\n",
              "      <td>4</td>\n",
              "      <td>3</td>\n",
              "      <td>4</td>\n",
              "    </tr>\n",
              "    <tr>\n",
              "      <th>4</th>\n",
              "      <td>2</td>\n",
              "      <td>3</td>\n",
              "      <td>3</td>\n",
              "      <td>4</td>\n",
              "      <td>2</td>\n",
              "      <td>4</td>\n",
              "    </tr>\n",
              "  </tbody>\n",
              "</table>\n",
              "</div>\n",
              "      <button class=\"colab-df-convert\" onclick=\"convertToInteractive('df-29abeaaa-39ca-45cd-a712-8b1d4d1454e8')\"\n",
              "              title=\"Convert this dataframe to an interactive table.\"\n",
              "              style=\"display:none;\">\n",
              "        \n",
              "  <svg xmlns=\"http://www.w3.org/2000/svg\" height=\"24px\"viewBox=\"0 0 24 24\"\n",
              "       width=\"24px\">\n",
              "    <path d=\"M0 0h24v24H0V0z\" fill=\"none\"/>\n",
              "    <path d=\"M18.56 5.44l.94 2.06.94-2.06 2.06-.94-2.06-.94-.94-2.06-.94 2.06-2.06.94zm-11 1L8.5 8.5l.94-2.06 2.06-.94-2.06-.94L8.5 2.5l-.94 2.06-2.06.94zm10 10l.94 2.06.94-2.06 2.06-.94-2.06-.94-.94-2.06-.94 2.06-2.06.94z\"/><path d=\"M17.41 7.96l-1.37-1.37c-.4-.4-.92-.59-1.43-.59-.52 0-1.04.2-1.43.59L10.3 9.45l-7.72 7.72c-.78.78-.78 2.05 0 2.83L4 21.41c.39.39.9.59 1.41.59.51 0 1.02-.2 1.41-.59l7.78-7.78 2.81-2.81c.8-.78.8-2.07 0-2.86zM5.41 20L4 18.59l7.72-7.72 1.47 1.35L5.41 20z\"/>\n",
              "  </svg>\n",
              "      </button>\n",
              "      \n",
              "  <style>\n",
              "    .colab-df-container {\n",
              "      display:flex;\n",
              "      flex-wrap:wrap;\n",
              "      gap: 12px;\n",
              "    }\n",
              "\n",
              "    .colab-df-convert {\n",
              "      background-color: #E8F0FE;\n",
              "      border: none;\n",
              "      border-radius: 50%;\n",
              "      cursor: pointer;\n",
              "      display: none;\n",
              "      fill: #1967D2;\n",
              "      height: 32px;\n",
              "      padding: 0 0 0 0;\n",
              "      width: 32px;\n",
              "    }\n",
              "\n",
              "    .colab-df-convert:hover {\n",
              "      background-color: #E2EBFA;\n",
              "      box-shadow: 0px 1px 2px rgba(60, 64, 67, 0.3), 0px 1px 3px 1px rgba(60, 64, 67, 0.15);\n",
              "      fill: #174EA6;\n",
              "    }\n",
              "\n",
              "    [theme=dark] .colab-df-convert {\n",
              "      background-color: #3B4455;\n",
              "      fill: #D2E3FC;\n",
              "    }\n",
              "\n",
              "    [theme=dark] .colab-df-convert:hover {\n",
              "      background-color: #434B5C;\n",
              "      box-shadow: 0px 1px 3px 1px rgba(0, 0, 0, 0.15);\n",
              "      filter: drop-shadow(0px 1px 2px rgba(0, 0, 0, 0.3));\n",
              "      fill: #FFFFFF;\n",
              "    }\n",
              "  </style>\n",
              "\n",
              "      <script>\n",
              "        const buttonEl =\n",
              "          document.querySelector('#df-29abeaaa-39ca-45cd-a712-8b1d4d1454e8 button.colab-df-convert');\n",
              "        buttonEl.style.display =\n",
              "          google.colab.kernel.accessAllowed ? 'block' : 'none';\n",
              "\n",
              "        async function convertToInteractive(key) {\n",
              "          const element = document.querySelector('#df-29abeaaa-39ca-45cd-a712-8b1d4d1454e8');\n",
              "          const dataTable =\n",
              "            await google.colab.kernel.invokeFunction('convertToInteractive',\n",
              "                                                     [key], {});\n",
              "          if (!dataTable) return;\n",
              "\n",
              "          const docLinkHtml = 'Like what you see? Visit the ' +\n",
              "            '<a target=\"_blank\" href=https://colab.research.google.com/notebooks/data_table.ipynb>data table notebook</a>'\n",
              "            + ' to learn more about interactive tables.';\n",
              "          element.innerHTML = '';\n",
              "          dataTable['output_type'] = 'display_data';\n",
              "          await google.colab.output.renderOutput(dataTable, element);\n",
              "          const docLink = document.createElement('div');\n",
              "          docLink.innerHTML = docLinkHtml;\n",
              "          element.appendChild(docLink);\n",
              "        }\n",
              "      </script>\n",
              "    </div>\n",
              "  </div>\n",
              "  "
            ]
          },
          "metadata": {},
          "execution_count": 5
        }
      ]
    },
    {
      "cell_type": "markdown",
      "source": [
        "Una vez seleccionados los atributos, buscamos los Pokemons que tengan valores nulos para alguno de estos."
      ],
      "metadata": {
        "id": "-2bQdNApK1_L"
      }
    },
    {
      "cell_type": "code",
      "source": [
        "for c in datos.columns:\n",
        "  print(\"Missing Values [{0}]:\".format(c), datos[c].isna().sum())"
      ],
      "metadata": {
        "colab": {
          "base_uri": "https://localhost:8080/"
        },
        "id": "_jH2eFv7Bf6M",
        "outputId": "f68d7949-04be-4ae3-c03d-d17b4074045f"
      },
      "execution_count": null,
      "outputs": [
        {
          "output_type": "stream",
          "name": "stdout",
          "text": [
            "Missing Values [PS]: 0\n",
            "Missing Values [Ataque]: 0\n",
            "Missing Values [Defensa]: 0\n",
            "Missing Values [Ataque especial]: 0\n",
            "Missing Values [Defensa especial]: 0\n",
            "Missing Values [Velocidad]: 0\n"
          ]
        }
      ]
    },
    {
      "cell_type": "markdown",
      "source": [
        "Como no hay ningún valor de nulo, se procede directamente al siguiente paso del preprocesamiento de datos.\n",
        "\n",
        "Este, es analizar los outliers o valores atípicos para los cuales el PCA es muy sensible. Se realizará hallando los cuartiles de los distintos atributos y representándolos con diagramas de cajas. \n",
        "\n",
        "Si se define el rango intercuartílico de la forma IQR = Q3 - Q1, los outliers serán los atributos que sean menores que Q1 - 1.5 * IQR y mayores que Q3 + 1.5 * IQR."
      ],
      "metadata": {
        "id": "jLLZ1ukWK2PE"
      }
    },
    {
      "cell_type": "code",
      "source": [
        "for c in datos.columns:\n",
        "  plt.boxplot(datos[c])\n",
        "  plt.title(\"Boxplot de los datos [{0}]:\".format(c))\n",
        "  plt.show()"
      ],
      "metadata": {
        "colab": {
          "base_uri": "https://localhost:8080/",
          "height": 1000
        },
        "id": "CssqV8ceBwQ8",
        "outputId": "f79d6d77-63cc-4aef-888a-1ab3ad986723"
      },
      "execution_count": null,
      "outputs": [
        {
          "output_type": "display_data",
          "data": {
            "text/plain": [
              "<Figure size 432x288 with 1 Axes>"
            ],
            "image/png": "[encoded data removed]"
          },
          "metadata": {
            "needs_background": "light"
          }
        },
        {
          "output_type": "display_data",
          "data": {
            "text/plain": [
              "<Figure size 432x288 with 1 Axes>"
            ],
            "image/png": "[encoded data removed]"
          },
          "metadata": {
            "needs_background": "light"
          }
        },
        {
          "output_type": "display_data",
          "data": {
            "text/plain": [
              "<Figure size 432x288 with 1 Axes>"
            ],
            "image/png": "[encoded data removed]"
          },
          "metadata": {
            "needs_background": "light"
          }
        },
        {
          "output_type": "display_data",
          "data": {
            "text/plain": [
              "<Figure size 432x288 with 1 Axes>"
            ],
            "image/png": "[encoded data removed]"
          },
          "metadata": {
            "needs_background": "light"
          }
        },
        {
          "output_type": "display_data",
          "data": {
            "text/plain": [
              "<Figure size 432x288 with 1 Axes>"
            ],
            "image/png": "[encoded data removed]"
          },
          "metadata": {
            "needs_background": "light"
          }
        },
        {
          "output_type": "display_data",
          "data": {
            "text/plain": [
              "<Figure size 432x288 with 1 Axes>"
            ],
            "image/png": "[encoded data removed]"
          },
          "metadata": {
            "needs_background": "light"
          }
        }
      ]
    },
    {
      "cell_type": "markdown",
      "source": [
        "Se puede determinar a través de los diagramas que no hay ningún valor atípico en ningún atributo. Sin embargo, no se puede conocer mediante este proceso si una combinación de atributos sea atípica, aunque cada uno por separado no lo sea.\n",
        "\n",
        "Una vez se ha realizado el preprocesamiento de los datos, se puede realizar el PCA con los atributos de los Pokemons. Aunque en muchos casos el PCA es parte del preprocesamiento de datos, en este caso, es el objetivo final de la práctica."
      ],
      "metadata": {
        "id": "yYp08v4URR7q"
      }
    },
    {
      "cell_type": "markdown",
      "source": [
        "##1. Estandarizar los datos\n",
        "\n",
        "Este paso, se realiza porque para el posterior cálculo de la varianza en el PCA, se utiliza el cuadrado de las unidades. Esto, haría que los atributos con mayor magnitud tengan demasiado peso sobre el resto. Aunque la estandarización también es un preprocesamiento de los datos brutos, este paso se considera parte del PCA dada su importancia en el proceso.\n",
        "\n",
        "Para la estandarización, se utiliza el método StandardScaler de la librería Scikit-learn, que estandariza todos los atributos utilizando 0 de media y 1 de desviación típica."
      ],
      "metadata": {
        "id": "9YOF68kpToiX"
      }
    },
    {
      "cell_type": "code",
      "source": [
        "from sklearn import preprocessing\n",
        "scaler = preprocessing.StandardScaler().fit(datos)\n",
        "matrix_std = scaler.transform(datos)\n",
        "datos_std = pd.DataFrame(matrix_std, columns=['PS','Ataque','Defensa','Ataque especial','Defensa especial','Velocidad'])\n",
        "datos_std.head()"
      ],
      "metadata": {
        "id": "uKMJ4HxeK3pL",
        "colab": {
          "base_uri": "https://localhost:8080/",
          "height": 206
        },
        "outputId": "b7d97d34-8726-409f-9dcd-43366c4ce850"
      },
      "execution_count": null,
      "outputs": [
        {
          "output_type": "execute_result",
          "data": {
            "text/plain": [
              "         PS    Ataque  Defensa  Ataque especial  Defensa especial  Velocidad\n",
              "0 -0.326164  0.054313    -0.75         0.564152             -0.50   1.037975\n",
              "1 -0.326164  0.054313    -0.75        -1.171700             -0.50   0.135388\n",
              "2 -0.326164  0.054313     1.75        -0.303774             -0.50  -1.669787\n",
              "3  0.978492  2.226814     0.50         0.564152              0.75   1.037975\n",
              "4 -0.326164  0.054313     0.50         0.564152             -0.50   1.037975"
            ],
            "text/html": [
              "\n",
              "  <div id=\"df-d4b81d11-1f64-40be-b09e-5037b8a34f5f\">\n",
              "    <div class=\"colab-df-container\">\n",
              "      <div>\n",
              "<style scoped>\n",
              "    .dataframe tbody tr th:only-of-type {\n",
              "        vertical-align: middle;\n",
              "    }\n",
              "\n",
              "    .dataframe tbody tr th {\n",
              "        vertical-align: top;\n",
              "    }\n",
              "\n",
              "    .dataframe thead th {\n",
              "        text-align: right;\n",
              "    }\n",
              "</style>\n",
              "<table border=\"1\" class=\"dataframe\">\n",
              "  <thead>\n",
              "    <tr style=\"text-align: right;\">\n",
              "      <th></th>\n",
              "      <th>PS</th>\n",
              "      <th>Ataque</th>\n",
              "      <th>Defensa</th>\n",
              "      <th>Ataque especial</th>\n",
              "      <th>Defensa especial</th>\n",
              "      <th>Velocidad</th>\n",
              "    </tr>\n",
              "  </thead>\n",
              "  <tbody>\n",
              "    <tr>\n",
              "      <th>0</th>\n",
              "      <td>-0.326164</td>\n",
              "      <td>0.054313</td>\n",
              "      <td>-0.75</td>\n",
              "      <td>0.564152</td>\n",
              "      <td>-0.50</td>\n",
              "      <td>1.037975</td>\n",
              "    </tr>\n",
              "    <tr>\n",
              "      <th>1</th>\n",
              "      <td>-0.326164</td>\n",
              "      <td>0.054313</td>\n",
              "      <td>-0.75</td>\n",
              "      <td>-1.171700</td>\n",
              "      <td>-0.50</td>\n",
              "      <td>0.135388</td>\n",
              "    </tr>\n",
              "    <tr>\n",
              "      <th>2</th>\n",
              "      <td>-0.326164</td>\n",
              "      <td>0.054313</td>\n",
              "      <td>1.75</td>\n",
              "      <td>-0.303774</td>\n",
              "      <td>-0.50</td>\n",
              "      <td>-1.669787</td>\n",
              "    </tr>\n",
              "    <tr>\n",
              "      <th>3</th>\n",
              "      <td>0.978492</td>\n",
              "      <td>2.226814</td>\n",
              "      <td>0.50</td>\n",
              "      <td>0.564152</td>\n",
              "      <td>0.75</td>\n",
              "      <td>1.037975</td>\n",
              "    </tr>\n",
              "    <tr>\n",
              "      <th>4</th>\n",
              "      <td>-0.326164</td>\n",
              "      <td>0.054313</td>\n",
              "      <td>0.50</td>\n",
              "      <td>0.564152</td>\n",
              "      <td>-0.50</td>\n",
              "      <td>1.037975</td>\n",
              "    </tr>\n",
              "  </tbody>\n",
              "</table>\n",
              "</div>\n",
              "      <button class=\"colab-df-convert\" onclick=\"convertToInteractive('df-d4b81d11-1f64-40be-b09e-5037b8a34f5f')\"\n",
              "              title=\"Convert this dataframe to an interactive table.\"\n",
              "              style=\"display:none;\">\n",
              "        \n",
              "  <svg xmlns=\"http://www.w3.org/2000/svg\" height=\"24px\"viewBox=\"0 0 24 24\"\n",
              "       width=\"24px\">\n",
              "    <path d=\"M0 0h24v24H0V0z\" fill=\"none\"/>\n",
              "    <path d=\"M18.56 5.44l.94 2.06.94-2.06 2.06-.94-2.06-.94-.94-2.06-.94 2.06-2.06.94zm-11 1L8.5 8.5l.94-2.06 2.06-.94-2.06-.94L8.5 2.5l-.94 2.06-2.06.94zm10 10l.94 2.06.94-2.06 2.06-.94-2.06-.94-.94-2.06-.94 2.06-2.06.94z\"/><path d=\"M17.41 7.96l-1.37-1.37c-.4-.4-.92-.59-1.43-.59-.52 0-1.04.2-1.43.59L10.3 9.45l-7.72 7.72c-.78.78-.78 2.05 0 2.83L4 21.41c.39.39.9.59 1.41.59.51 0 1.02-.2 1.41-.59l7.78-7.78 2.81-2.81c.8-.78.8-2.07 0-2.86zM5.41 20L4 18.59l7.72-7.72 1.47 1.35L5.41 20z\"/>\n",
              "  </svg>\n",
              "      </button>\n",
              "      \n",
              "  <style>\n",
              "    .colab-df-container {\n",
              "      display:flex;\n",
              "      flex-wrap:wrap;\n",
              "      gap: 12px;\n",
              "    }\n",
              "\n",
              "    .colab-df-convert {\n",
              "      background-color: #E8F0FE;\n",
              "      border: none;\n",
              "      border-radius: 50%;\n",
              "      cursor: pointer;\n",
              "      display: none;\n",
              "      fill: #1967D2;\n",
              "      height: 32px;\n",
              "      padding: 0 0 0 0;\n",
              "      width: 32px;\n",
              "    }\n",
              "\n",
              "    .colab-df-convert:hover {\n",
              "      background-color: #E2EBFA;\n",
              "      box-shadow: 0px 1px 2px rgba(60, 64, 67, 0.3), 0px 1px 3px 1px rgba(60, 64, 67, 0.15);\n",
              "      fill: #174EA6;\n",
              "    }\n",
              "\n",
              "    [theme=dark] .colab-df-convert {\n",
              "      background-color: #3B4455;\n",
              "      fill: #D2E3FC;\n",
              "    }\n",
              "\n",
              "    [theme=dark] .colab-df-convert:hover {\n",
              "      background-color: #434B5C;\n",
              "      box-shadow: 0px 1px 3px 1px rgba(0, 0, 0, 0.15);\n",
              "      filter: drop-shadow(0px 1px 2px rgba(0, 0, 0, 0.3));\n",
              "      fill: #FFFFFF;\n",
              "    }\n",
              "  </style>\n",
              "\n",
              "      <script>\n",
              "        const buttonEl =\n",
              "          document.querySelector('#df-d4b81d11-1f64-40be-b09e-5037b8a34f5f button.colab-df-convert');\n",
              "        buttonEl.style.display =\n",
              "          google.colab.kernel.accessAllowed ? 'block' : 'none';\n",
              "\n",
              "        async function convertToInteractive(key) {\n",
              "          const element = document.querySelector('#df-d4b81d11-1f64-40be-b09e-5037b8a34f5f');\n",
              "          const dataTable =\n",
              "            await google.colab.kernel.invokeFunction('convertToInteractive',\n",
              "                                                     [key], {});\n",
              "          if (!dataTable) return;\n",
              "\n",
              "          const docLinkHtml = 'Like what you see? Visit the ' +\n",
              "            '<a target=\"_blank\" href=https://colab.research.google.com/notebooks/data_table.ipynb>data table notebook</a>'\n",
              "            + ' to learn more about interactive tables.';\n",
              "          element.innerHTML = '';\n",
              "          dataTable['output_type'] = 'display_data';\n",
              "          await google.colab.output.renderOutput(dataTable, element);\n",
              "          const docLink = document.createElement('div');\n",
              "          docLink.innerHTML = docLinkHtml;\n",
              "          element.appendChild(docLink);\n",
              "        }\n",
              "      </script>\n",
              "    </div>\n",
              "  </div>\n",
              "  "
            ]
          },
          "metadata": {},
          "execution_count": 8
        }
      ]
    },
    {
      "cell_type": "markdown",
      "source": [
        "##Varianza o Explicación de los datos de las componentes principales\n",
        "\n",
        "Una vez estandandarizados los datos, se calcula la matriz de covarianza y correlación, para estudiar cuál es mejor para el PCA y utilizarla. Esto, se debe a que las 2 son válidas para el PCA y cual sea mejor sólo depende del caso concreto"
      ],
      "metadata": {
        "id": "tXhS-lXexyHb"
      }
    },
    {
      "cell_type": "code",
      "source": [
        "# Dataframe covarianza entre variables.\n",
        "cov_matrix = np.cov(np.transpose(datos_std))\n",
        "indx = ['PS','Ataque','Defensa','Ataque especial','Defensa especial','Velocidad']\n",
        "covarianza = pd.DataFrame(cov_matrix, index=indx, columns =indx)\n",
        "\n",
        "# Dataframe correlación entre variables.\n",
        "correlacion = datos_std.corr()\n",
        "\n",
        "# Se grafican con un mapa de calor.\n",
        "import seaborn as sbn\n",
        "fig, ax = plt.subplots()\n",
        "sbn.heatmap(covarianza, vmin=(-1)*cov_matrix.max(), vmax=cov_matrix.max(), annot=True);\n",
        "ax.set_title('COVARIANZA', weight='bold')\n",
        "fig2, ax2 = plt.subplots()\n",
        "sbn.heatmap(correlacion, vmin=-1, vmax=1, annot=True);\n",
        "ax2.set_title('CORRELACION', weight='bold')\n",
        "plt.show()"
      ],
      "metadata": {
        "colab": {
          "base_uri": "https://localhost:8080/",
          "height": 697
        },
        "id": "bAWRbxVvpRUe",
        "outputId": "4c1ab17c-3fb2-435a-a28d-02e62bdb7deb"
      },
      "execution_count": null,
      "outputs": [
        {
          "output_type": "display_data",
          "data": {
            "text/plain": [
              "<Figure size 432x288 with 2 Axes>"
            ],
            "image/png": "[encoded data removed]"
          },
          "metadata": {
            "needs_background": "light"
          }
        },
        {
          "output_type": "display_data",
          "data": {
            "text/plain": [
              "<Figure size 432x288 with 2 Axes>"
            ],
            "image/png": "[encoded data removed]"
          },
          "metadata": {
            "needs_background": "light"
          }
        }
      ]
    },
    {
      "cell_type": "markdown",
      "source": [
        "Los valores de la diagonal de los mapas de calor parecen mejores en la matriz de correlación porque son exactamente 1, ya que con la covarianza se sobrepasa este valor ligeramente. Esto, no interesa para el PCA, ya que esta diagonal representa el cambio de una variable consigo misma. Además, al contar con los datos ya estandarizados, no se puede plantear como una posible solución.\n",
        "\n",
        "A continuación, se estudia también cuál es mejor para el PCA entre la covarianza y la correlación mediante los autovalores asociados a sus matrices.\n",
        "\n",
        "Con estos autovalores, se puede obtener el porcentaje de varianza y el porcentaje acumulado de las nuevas componentes.\n",
        "\n",
        "Estas componentes, son los autovectores asociados a los autovalores, por lo que también se calcularán en el proceso. Los coeficientes de las componentes se utilizarán para realizar una combinación lineal de los atributos originales y explicar así toda la información posible sin correlaciones entre ellas al ser ortogonales."
      ],
      "metadata": {
        "id": "1ht1_4b2w7m8"
      }
    },
    {
      "cell_type": "code",
      "source": [
        "#Autovalores y autovectores asociados a la matriz de covarianza.\n",
        "autovalores , autovectores = np.linalg.eig(covarianza)\n",
        "print('Los autovalores de la matriz de covarianza son:\\n', autovalores)\n",
        "print('La suma de estos autovalores es:', sum(autovalores))\n",
        "\n",
        "#Autovalores y autovectores asociados a la matriz de correlación.\n",
        "autovalores2 , autovectores2 = np.linalg.eig(correlacion)\n",
        "print('\\nLos autovalores de la matriz de correlación son:\\n', autovalores2)\n",
        "print('La suma de estos autovalores es:', sum(autovalores2))"
      ],
      "metadata": {
        "colab": {
          "base_uri": "https://localhost:8080/"
        },
        "id": "PKgARJZsz24U",
        "outputId": "49302cd8-8399-48b3-fd3f-fa3114ab23eb"
      },
      "execution_count": null,
      "outputs": [
        {
          "output_type": "stream",
          "name": "stdout",
          "text": [
            "Los autovalores de la matriz de covarianza son:\n",
            " [2.62997944 1.55066147 0.16420572 0.47459774 0.71552145 0.78082366]\n",
            "La suma de estos autovalores es: 6.315789473684211\n",
            "\n",
            "Los autovalores de la matriz de correlación son:\n",
            " [2.49848047 1.4731284  0.15599543 0.45086785 0.67974537 0.74178248]\n",
            "La suma de estos autovalores es: 6.000000000000002\n"
          ]
        }
      ]
    },
    {
      "cell_type": "markdown",
      "source": [
        "La suma de los autovalores debería coincidir con el número de atributos, que es 6. \n",
        "\n",
        "Se oberva que la suma de los autovalores de la matriz de correlación se aproxima muchísimo más a este valor. De hecho, la diferencia respecto al valor 6 es tan insignificante, que debe ser resultado de pequeños errores de redondeo.\n",
        "\n",
        "En las 2 comparaciones ha resultado mejor la matriz de correlación, por lo que esta es la que se utilizará para el PCA.\n",
        "\n",
        "El siguiente paso es ordenar los autovalores de mayor a menor y sus autovectores asociados. Para ello, se siguen los siguientes pasos:\n",
        "\n",
        "- Se crea un dataframe de la librería pandas con los autovalores sin ordenar y sus índices del 0 al 5.\n",
        "- Se ordenan los autovalores de mayor a menor, manteniendo sus valores de índice originales.\n",
        "- Se guarda en la variable <i>pos</i> el nuevo orden de los autovalores respecto al original.\n",
        "- Se crea una nueva matriz de autovectores en la que se ordenan los originales en función del orden de la variable <i>pos</i> creada previamente.\n",
        "- El dataframe de autovalores se reconvierte a vector."
      ],
      "metadata": {
        "id": "FuMvf9Zzzn1l"
      }
    },
    {
      "cell_type": "code",
      "source": [
        "autovalores = pd.DataFrame(autovalores2)          # Se crea el dataframe.\n",
        "autovalores.sort_values(0,inplace=True)           # Se ordenan los autovalores.\n",
        "autovalores = autovalores[::-1]                   # Se ponen de mayor a menor.\n",
        "pos = autovalores.index                           # Se guarda el nuevo orden.\n",
        "\n",
        "autovectores = np.zeros((len(indx), len(indx)))   # Se inicializa la matriz.\n",
        "for i in range(len(indx)):                        # Bucle del 0 al 5.\n",
        "  autovectores[i] = autovectores2[pos[i]]         # Autovectores ordenados.\n",
        "print('Los autovectores ordenados son:\\n',autovectores)\n",
        "                               \n",
        "autovalores = autovalores2.copy()                 # Autovalores sin ordenar.\n",
        "autovalores.sort()                                # Se ordenan.\n",
        "autovalores = autovalores[::-1]                   # Se ponen de mayor a menor.\n",
        "print('Los autovalores ordenados son:\\n',autovalores)"
      ],
      "metadata": {
        "id": "obPSTpo22abg",
        "colab": {
          "base_uri": "https://localhost:8080/"
        },
        "outputId": "3a5294f4-5c4e-43dd-fdba-0f9dc40b856d"
      },
      "execution_count": null,
      "outputs": [
        {
          "output_type": "stream",
          "name": "stdout",
          "text": [
            "Los autovectores ordenados son:\n",
            " [[ 0.45454125  0.15847313  0.37672419 -0.07820604  0.78451794  0.06908557]\n",
            " [ 0.45072878 -0.25198079 -0.491921    0.1067326  -0.02435867  0.69237113]\n",
            " [ 0.27935701  0.58087953  0.41315342 -0.17220602 -0.52392254  0.33119957]\n",
            " [ 0.48098891 -0.16852151 -0.23006595 -0.68447289 -0.16380914 -0.43815894]\n",
            " [ 0.42331653  0.38227978 -0.30437481  0.61163075 -0.07575687 -0.4496554 ]\n",
            " [ 0.31882326 -0.63200759  0.5475605   0.33202671 -0.277256   -0.10946693]]\n",
            "Los autovalores ordenados son:\n",
            " [2.49848047 1.4731284  0.74178248 0.67974537 0.45086785 0.15599543]\n"
          ]
        }
      ]
    },
    {
      "cell_type": "markdown",
      "source": [
        "A continuación, se calcula la varianza que muestra cada autovalor o la cantidad de información que puede explicar. Para ello, se crean y estudian dos dataframes:\n",
        "- Dataframe varianza: cada autovalor dividido entre la suma total de estos. Este último valor, es igual al número de autovalores y al de componentes originales.\n",
        "- Dataframe varianza acumulada: igual que el anterior, pero al porcentaje de varianza de cada autovalor se le suman los porcentajes anteriores."
      ],
      "metadata": {
        "id": "uI4UROu0jtzA"
      }
    },
    {
      "cell_type": "code",
      "source": [
        "# VECTORES NUMÉRICOS VARIANZA NORMAL Y ACUMULADA DE LOS AUTOVALORES\n",
        "\n",
        "# Vector con la varianza de los autovalores\n",
        "var_vector = autovalores * 100 / sum(autovalores)\n",
        "\n",
        "# Vector con la varianza acumulada de los autovalores\n",
        "var_ac_vector = var_vector.copy()\n",
        "for i in range(len(indx)-1):\n",
        "  var_ac_vector[i+1] = var_ac_vector[i+1] + var_ac_vector[i]\n",
        "\n",
        "\n",
        "#DATAFRAMES A PARTIR DE LOS VECTORES CREADOS\n",
        "indx2 = ['Componente 1','Componente 2','Componente 3','Componente 4','Componente 5','Componente 6']\n",
        "aux=autovalores.reshape(1, -1)            # Autovalores en vector columna\n",
        "\n",
        "# Dataframe con la varianza normal de los autovalores\n",
        "aux2=var_vector.reshape(1, -1)            # Varianzas en vector columna\n",
        "var_matrix = np.concatenate((aux,aux2))   # Matriz autovalores y sus varianzas\n",
        "var_matrix2 = np.transpose(var_matrix)    #Transpuesta\n",
        "var = pd.DataFrame(var_matrix2, index=indx2, columns=['Autovalor','Varianza Normal(%)'])\n",
        "\n",
        "# Dataframe con la varianza acumulada de los autovalores\n",
        "aux3 = var_ac_vector.reshape(1, -1)         # Var acumuladas en vector columna\n",
        "var_ac_matrix = np.concatenate((aux,aux3))  # Matriz autovalores y sus varianzas\n",
        "var_ac_matrix2 = np.transpose(var_ac_matrix)   #Transpuesta\n",
        "var_ac = pd.DataFrame(var_ac_matrix2, index=indx2, columns=['Autovalor','Varianza Acumulada(%)'])"
      ],
      "metadata": {
        "id": "gOVVrSGclOzQ"
      },
      "execution_count": null,
      "outputs": []
    },
    {
      "cell_type": "code",
      "source": [
        "var.head(6)"
      ],
      "metadata": {
        "colab": {
          "base_uri": "https://localhost:8080/",
          "height": 238
        },
        "id": "1UJIl1aAtgh6",
        "outputId": "5d9c92c6-cdaa-4272-80f9-620f695e1f82"
      },
      "execution_count": null,
      "outputs": [
        {
          "output_type": "execute_result",
          "data": {
            "text/plain": [
              "              Autovalor  Varianza Normal(%)\n",
              "Componente 1   2.498480           41.641341\n",
              "Componente 2   1.473128           24.552140\n",
              "Componente 3   0.741782           12.363041\n",
              "Componente 4   0.679745           11.329090\n",
              "Componente 5   0.450868            7.514464\n",
              "Componente 6   0.155995            2.599924"
            ],
            "text/html": [
              "\n",
              "  <div id=\"df-1c39748c-2344-42ce-bfd4-162e75bf0f76\">\n",
              "    <div class=\"colab-df-container\">\n",
              "      <div>\n",
              "<style scoped>\n",
              "    .dataframe tbody tr th:only-of-type {\n",
              "        vertical-align: middle;\n",
              "    }\n",
              "\n",
              "    .dataframe tbody tr th {\n",
              "        vertical-align: top;\n",
              "    }\n",
              "\n",
              "    .dataframe thead th {\n",
              "        text-align: right;\n",
              "    }\n",
              "</style>\n",
              "<table border=\"1\" class=\"dataframe\">\n",
              "  <thead>\n",
              "    <tr style=\"text-align: right;\">\n",
              "      <th></th>\n",
              "      <th>Autovalor</th>\n",
              "      <th>Varianza Normal(%)</th>\n",
              "    </tr>\n",
              "  </thead>\n",
              "  <tbody>\n",
              "    <tr>\n",
              "      <th>Componente 1</th>\n",
              "      <td>2.498480</td>\n",
              "      <td>41.641341</td>\n",
              "    </tr>\n",
              "    <tr>\n",
              "      <th>Componente 2</th>\n",
              "      <td>1.473128</td>\n",
              "      <td>24.552140</td>\n",
              "    </tr>\n",
              "    <tr>\n",
              "      <th>Componente 3</th>\n",
              "      <td>0.741782</td>\n",
              "      <td>12.363041</td>\n",
              "    </tr>\n",
              "    <tr>\n",
              "      <th>Componente 4</th>\n",
              "      <td>0.679745</td>\n",
              "      <td>11.329090</td>\n",
              "    </tr>\n",
              "    <tr>\n",
              "      <th>Componente 5</th>\n",
              "      <td>0.450868</td>\n",
              "      <td>7.514464</td>\n",
              "    </tr>\n",
              "    <tr>\n",
              "      <th>Componente 6</th>\n",
              "      <td>0.155995</td>\n",
              "      <td>2.599924</td>\n",
              "    </tr>\n",
              "  </tbody>\n",
              "</table>\n",
              "</div>\n",
              "      <button class=\"colab-df-convert\" onclick=\"convertToInteractive('df-1c39748c-2344-42ce-bfd4-162e75bf0f76')\"\n",
              "              title=\"Convert this dataframe to an interactive table.\"\n",
              "              style=\"display:none;\">\n",
              "        \n",
              "  <svg xmlns=\"http://www.w3.org/2000/svg\" height=\"24px\"viewBox=\"0 0 24 24\"\n",
              "       width=\"24px\">\n",
              "    <path d=\"M0 0h24v24H0V0z\" fill=\"none\"/>\n",
              "    <path d=\"M18.56 5.44l.94 2.06.94-2.06 2.06-.94-2.06-.94-.94-2.06-.94 2.06-2.06.94zm-11 1L8.5 8.5l.94-2.06 2.06-.94-2.06-.94L8.5 2.5l-.94 2.06-2.06.94zm10 10l.94 2.06.94-2.06 2.06-.94-2.06-.94-.94-2.06-.94 2.06-2.06.94z\"/><path d=\"M17.41 7.96l-1.37-1.37c-.4-.4-.92-.59-1.43-.59-.52 0-1.04.2-1.43.59L10.3 9.45l-7.72 7.72c-.78.78-.78 2.05 0 2.83L4 21.41c.39.39.9.59 1.41.59.51 0 1.02-.2 1.41-.59l7.78-7.78 2.81-2.81c.8-.78.8-2.07 0-2.86zM5.41 20L4 18.59l7.72-7.72 1.47 1.35L5.41 20z\"/>\n",
              "  </svg>\n",
              "      </button>\n",
              "      \n",
              "  <style>\n",
              "    .colab-df-container {\n",
              "      display:flex;\n",
              "      flex-wrap:wrap;\n",
              "      gap: 12px;\n",
              "    }\n",
              "\n",
              "    .colab-df-convert {\n",
              "      background-color: #E8F0FE;\n",
              "      border: none;\n",
              "      border-radius: 50%;\n",
              "      cursor: pointer;\n",
              "      display: none;\n",
              "      fill: #1967D2;\n",
              "      height: 32px;\n",
              "      padding: 0 0 0 0;\n",
              "      width: 32px;\n",
              "    }\n",
              "\n",
              "    .colab-df-convert:hover {\n",
              "      background-color: #E2EBFA;\n",
              "      box-shadow: 0px 1px 2px rgba(60, 64, 67, 0.3), 0px 1px 3px 1px rgba(60, 64, 67, 0.15);\n",
              "      fill: #174EA6;\n",
              "    }\n",
              "\n",
              "    [theme=dark] .colab-df-convert {\n",
              "      background-color: #3B4455;\n",
              "      fill: #D2E3FC;\n",
              "    }\n",
              "\n",
              "    [theme=dark] .colab-df-convert:hover {\n",
              "      background-color: #434B5C;\n",
              "      box-shadow: 0px 1px 3px 1px rgba(0, 0, 0, 0.15);\n",
              "      filter: drop-shadow(0px 1px 2px rgba(0, 0, 0, 0.3));\n",
              "      fill: #FFFFFF;\n",
              "    }\n",
              "  </style>\n",
              "\n",
              "      <script>\n",
              "        const buttonEl =\n",
              "          document.querySelector('#df-1c39748c-2344-42ce-bfd4-162e75bf0f76 button.colab-df-convert');\n",
              "        buttonEl.style.display =\n",
              "          google.colab.kernel.accessAllowed ? 'block' : 'none';\n",
              "\n",
              "        async function convertToInteractive(key) {\n",
              "          const element = document.querySelector('#df-1c39748c-2344-42ce-bfd4-162e75bf0f76');\n",
              "          const dataTable =\n",
              "            await google.colab.kernel.invokeFunction('convertToInteractive',\n",
              "                                                     [key], {});\n",
              "          if (!dataTable) return;\n",
              "\n",
              "          const docLinkHtml = 'Like what you see? Visit the ' +\n",
              "            '<a target=\"_blank\" href=https://colab.research.google.com/notebooks/data_table.ipynb>data table notebook</a>'\n",
              "            + ' to learn more about interactive tables.';\n",
              "          element.innerHTML = '';\n",
              "          dataTable['output_type'] = 'display_data';\n",
              "          await google.colab.output.renderOutput(dataTable, element);\n",
              "          const docLink = document.createElement('div');\n",
              "          docLink.innerHTML = docLinkHtml;\n",
              "          element.appendChild(docLink);\n",
              "        }\n",
              "      </script>\n",
              "    </div>\n",
              "  </div>\n",
              "  "
            ]
          },
          "metadata": {},
          "execution_count": 13
        }
      ]
    },
    {
      "cell_type": "code",
      "source": [
        "var_ac.head(6)"
      ],
      "metadata": {
        "colab": {
          "base_uri": "https://localhost:8080/",
          "height": 238
        },
        "id": "fir4ukXEthV0",
        "outputId": "fbb8711e-a1fc-4fff-ceb9-6ad6a6cf52f4"
      },
      "execution_count": null,
      "outputs": [
        {
          "output_type": "execute_result",
          "data": {
            "text/plain": [
              "              Autovalor  Varianza Acumulada(%)\n",
              "Componente 1   2.498480              41.641341\n",
              "Componente 2   1.473128              66.193481\n",
              "Componente 3   0.741782              78.556522\n",
              "Componente 4   0.679745              89.885612\n",
              "Componente 5   0.450868              97.400076\n",
              "Componente 6   0.155995             100.000000"
            ],
            "text/html": [
              "\n",
              "  <div id=\"df-e1d733c9-dcd5-451d-9a59-1b51724fd9d7\">\n",
              "    <div class=\"colab-df-container\">\n",
              "      <div>\n",
              "<style scoped>\n",
              "    .dataframe tbody tr th:only-of-type {\n",
              "        vertical-align: middle;\n",
              "    }\n",
              "\n",
              "    .dataframe tbody tr th {\n",
              "        vertical-align: top;\n",
              "    }\n",
              "\n",
              "    .dataframe thead th {\n",
              "        text-align: right;\n",
              "    }\n",
              "</style>\n",
              "<table border=\"1\" class=\"dataframe\">\n",
              "  <thead>\n",
              "    <tr style=\"text-align: right;\">\n",
              "      <th></th>\n",
              "      <th>Autovalor</th>\n",
              "      <th>Varianza Acumulada(%)</th>\n",
              "    </tr>\n",
              "  </thead>\n",
              "  <tbody>\n",
              "    <tr>\n",
              "      <th>Componente 1</th>\n",
              "      <td>2.498480</td>\n",
              "      <td>41.641341</td>\n",
              "    </tr>\n",
              "    <tr>\n",
              "      <th>Componente 2</th>\n",
              "      <td>1.473128</td>\n",
              "      <td>66.193481</td>\n",
              "    </tr>\n",
              "    <tr>\n",
              "      <th>Componente 3</th>\n",
              "      <td>0.741782</td>\n",
              "      <td>78.556522</td>\n",
              "    </tr>\n",
              "    <tr>\n",
              "      <th>Componente 4</th>\n",
              "      <td>0.679745</td>\n",
              "      <td>89.885612</td>\n",
              "    </tr>\n",
              "    <tr>\n",
              "      <th>Componente 5</th>\n",
              "      <td>0.450868</td>\n",
              "      <td>97.400076</td>\n",
              "    </tr>\n",
              "    <tr>\n",
              "      <th>Componente 6</th>\n",
              "      <td>0.155995</td>\n",
              "      <td>100.000000</td>\n",
              "    </tr>\n",
              "  </tbody>\n",
              "</table>\n",
              "</div>\n",
              "      <button class=\"colab-df-convert\" onclick=\"convertToInteractive('df-e1d733c9-dcd5-451d-9a59-1b51724fd9d7')\"\n",
              "              title=\"Convert this dataframe to an interactive table.\"\n",
              "              style=\"display:none;\">\n",
              "        \n",
              "  <svg xmlns=\"http://www.w3.org/2000/svg\" height=\"24px\"viewBox=\"0 0 24 24\"\n",
              "       width=\"24px\">\n",
              "    <path d=\"M0 0h24v24H0V0z\" fill=\"none\"/>\n",
              "    <path d=\"M18.56 5.44l.94 2.06.94-2.06 2.06-.94-2.06-.94-.94-2.06-.94 2.06-2.06.94zm-11 1L8.5 8.5l.94-2.06 2.06-.94-2.06-.94L8.5 2.5l-.94 2.06-2.06.94zm10 10l.94 2.06.94-2.06 2.06-.94-2.06-.94-.94-2.06-.94 2.06-2.06.94z\"/><path d=\"M17.41 7.96l-1.37-1.37c-.4-.4-.92-.59-1.43-.59-.52 0-1.04.2-1.43.59L10.3 9.45l-7.72 7.72c-.78.78-.78 2.05 0 2.83L4 21.41c.39.39.9.59 1.41.59.51 0 1.02-.2 1.41-.59l7.78-7.78 2.81-2.81c.8-.78.8-2.07 0-2.86zM5.41 20L4 18.59l7.72-7.72 1.47 1.35L5.41 20z\"/>\n",
              "  </svg>\n",
              "      </button>\n",
              "      \n",
              "  <style>\n",
              "    .colab-df-container {\n",
              "      display:flex;\n",
              "      flex-wrap:wrap;\n",
              "      gap: 12px;\n",
              "    }\n",
              "\n",
              "    .colab-df-convert {\n",
              "      background-color: #E8F0FE;\n",
              "      border: none;\n",
              "      border-radius: 50%;\n",
              "      cursor: pointer;\n",
              "      display: none;\n",
              "      fill: #1967D2;\n",
              "      height: 32px;\n",
              "      padding: 0 0 0 0;\n",
              "      width: 32px;\n",
              "    }\n",
              "\n",
              "    .colab-df-convert:hover {\n",
              "      background-color: #E2EBFA;\n",
              "      box-shadow: 0px 1px 2px rgba(60, 64, 67, 0.3), 0px 1px 3px 1px rgba(60, 64, 67, 0.15);\n",
              "      fill: #174EA6;\n",
              "    }\n",
              "\n",
              "    [theme=dark] .colab-df-convert {\n",
              "      background-color: #3B4455;\n",
              "      fill: #D2E3FC;\n",
              "    }\n",
              "\n",
              "    [theme=dark] .colab-df-convert:hover {\n",
              "      background-color: #434B5C;\n",
              "      box-shadow: 0px 1px 3px 1px rgba(0, 0, 0, 0.15);\n",
              "      filter: drop-shadow(0px 1px 2px rgba(0, 0, 0, 0.3));\n",
              "      fill: #FFFFFF;\n",
              "    }\n",
              "  </style>\n",
              "\n",
              "      <script>\n",
              "        const buttonEl =\n",
              "          document.querySelector('#df-e1d733c9-dcd5-451d-9a59-1b51724fd9d7 button.colab-df-convert');\n",
              "        buttonEl.style.display =\n",
              "          google.colab.kernel.accessAllowed ? 'block' : 'none';\n",
              "\n",
              "        async function convertToInteractive(key) {\n",
              "          const element = document.querySelector('#df-e1d733c9-dcd5-451d-9a59-1b51724fd9d7');\n",
              "          const dataTable =\n",
              "            await google.colab.kernel.invokeFunction('convertToInteractive',\n",
              "                                                     [key], {});\n",
              "          if (!dataTable) return;\n",
              "\n",
              "          const docLinkHtml = 'Like what you see? Visit the ' +\n",
              "            '<a target=\"_blank\" href=https://colab.research.google.com/notebooks/data_table.ipynb>data table notebook</a>'\n",
              "            + ' to learn more about interactive tables.';\n",
              "          element.innerHTML = '';\n",
              "          dataTable['output_type'] = 'display_data';\n",
              "          await google.colab.output.renderOutput(dataTable, element);\n",
              "          const docLink = document.createElement('div');\n",
              "          docLink.innerHTML = docLinkHtml;\n",
              "          element.appendChild(docLink);\n",
              "        }\n",
              "      </script>\n",
              "    </div>\n",
              "  </div>\n",
              "  "
            ]
          },
          "metadata": {},
          "execution_count": 14
        }
      ]
    },
    {
      "cell_type": "markdown",
      "source": [
        "A partir del diagrama de varianza acumulada, se puede observar que con 3 o 4 componentes ya sería suficiente para representar aproximadamente el 80% de la información. Para el PCA, se suele considerar suficiente.\n",
        "\n",
        "Si se utilizasen solo 2 componentes, aunque estas tengan un gran porcentaje de varianza (41.6% y 24.5%) y por tanto de explicación de los datos, se perdería demasiada información (34%), ya que entre las 2, solo representan el 66% de la varianza acumulada.\n",
        "\n",
        "Como con 3 componentes casi se alcanza el 80% de la varianza acumulada, dependería del caso particular y de la precisión necesaria, para saber si a nivel de coste computacional es rentable coger alguna componente más.\n",
        "\n",
        "También, hay que tener en cuenta, que la cuarta componente representa un porcentaje bastante similar a la tercera de varianza, y con ella quedaría muy poca información sin explicar (< 11%). Por este motivo, si el caso lo requiere y los medios lo permiten, incluir una cuarta componente puede ser la mejor opción.\n",
        "\n",
        "A continuación, se estudiarán las 2 componentes principales gráficamente."
      ],
      "metadata": {
        "id": "NwMFq4wc0Wno"
      }
    },
    {
      "cell_type": "markdown",
      "source": [
        "##Diagrama de dispersión 2 componentes\n",
        "\n",
        "Para calcular el valor de un Pokemon en una componente, se realiza el producto escalar entre el autovector asociado a la componente y el vector de atributos de ese Pokemon. \n",
        "\n",
        "En este caso, como el objetivo final de esta práctica es realizar el PCA y observar como se ven representados los atributos con sus magnitudes originales en las nuevas componentes, solo se utilizan los atributos estandarizados para un cálculo de las componentes más óptimo, pero estas se multiplican en el producto escalar por los atributos originales.\n",
        "\n",
        "Si por ejemplo, estas nuevas componentes fueran introducidas en un proceso de machine learning supervisado, sería conveniente trabajar todo el tiempo con los datos estandarizados o estandarizar posteriormente los valores de los Pokemons en las nuevas componentes. Esto, siempre que se conociese el proceso inverso de la estandarización."
      ],
      "metadata": {
        "id": "fcXUGoW_9Kgr"
      }
    },
    {
      "cell_type": "code",
      "source": [
        "# Se inicializan los valores de los Pokemons en las 2 componentes.\n",
        "pokemons_componente1 = np.zeros(len(datos.index))\n",
        "pokemons_componente2 = np.zeros(len(datos.index))\n",
        "\n",
        "# Se convierte el dataframe con los datos a matriz para realizar operaciones.\n",
        "datos_matrix = datos.to_numpy()\n",
        "\n",
        "# Producto escalar entre componentes y atributos originales.\n",
        "for i in range(len(datos.index)):\n",
        "  for j in range(len(indx)):\n",
        "    pokemons_componente1[i] = pokemons_componente1[i] + autovectores[0][j] * datos_matrix[i][j]\n",
        "    pokemons_componente2[i] = pokemons_componente2[i] + autovectores[1][j] * datos_matrix[i][j]\n",
        "\n",
        "# Se grafican todos los Pokemons en las 2 primeras componentes principales.\n",
        "fig, ax = plt.subplots()\n",
        "ax.scatter(pokemons_componente1, pokemons_componente2)\n",
        "ax.scatter(pokemons_componente1[9], pokemons_componente2[9], color = 'r')\n",
        "ax.scatter(pokemons_componente1[12], pokemons_componente2[12], color = 'magenta')\n",
        "ax.scatter(pokemons_componente1[10], pokemons_componente2[10], color = 'gold')\n",
        "ax.scatter(pokemons_componente1[16], pokemons_componente2[16], color = 'k')\n",
        "ax.set_title('Pokemons en componentes 1 y 2', loc = \"center\", fontdict = {'fontsize':14, 'fontweight':'bold'})\n",
        "ax.set_xlabel(\"Componente 1\")\n",
        "ax.set_ylabel(\"Componente 2\")\n",
        "plt.show()"
      ],
      "metadata": {
        "colab": {
          "base_uri": "https://localhost:8080/",
          "height": 296
        },
        "id": "_A9lar4l_Ak1",
        "outputId": "07175918-a4f9-4d74-8944-fbe4f2fe8897"
      },
      "execution_count": null,
      "outputs": [
        {
          "output_type": "display_data",
          "data": {
            "text/plain": [
              "<Figure size 432x288 with 1 Axes>"
            ],
            "image/png": "[encoded data removed]"
          },
          "metadata": {
            "needs_background": "light"
          }
        }
      ]
    },
    {
      "cell_type": "markdown",
      "source": [
        "En el diagrama, se han graficado todos los pokemons, y se han puesto 4 en otro color para analizarlos posteriormente más en detalle. \n",
        "\n",
        "En el gráfico, los Pokemons se encuentran bastante dispersos. Por ello, no existe una correlación entre las 2 componentes principales más importantes. Esto, se debe a que son los 2 autovectores que en conjunto tienen una mayor varianza y explicación de la información, y si existiese una correlación, estarían representando la misma información. Precisamente, se crean las componentes a partir de los atributos para que esto no ocurra.\n",
        "\n",
        "A continuación, se muestra como explican estas componentes los atributos porcentualmente respecto al resto de componentes. Como los datos se han estandarizado antes del PCA, es representativa la comparación de porcentajes entre distintos atributos en una misma componente."
      ],
      "metadata": {
        "id": "9mPQ9xoIH5HO"
      }
    },
    {
      "cell_type": "code",
      "source": [
        "expl_atributos_componente1 = abs(autovectores[0]*100/sum(abs(autovectores)))\n",
        "df_expl_atributos_componente1 = pd.DataFrame(expl_atributos_componente1, index=indx, columns=['Explicación atributos componente 1 (%)'])\n",
        "\n",
        "expl_atributos_componente2 = abs(autovectores[1]*100/sum(abs(autovectores)))\n",
        "df_expl_atributos_componente2 = pd.DataFrame(expl_atributos_componente2, index=indx, columns=['Explicación atributos componente 2 (%)'])"
      ],
      "metadata": {
        "id": "JPV1ZgdE5RG2"
      },
      "execution_count": null,
      "outputs": []
    },
    {
      "cell_type": "code",
      "source": [
        "df_expl_atributos_componente1.style.set_table_styles([{'selector': 'th,td', 'props': [('font-size', '10pt'),('border-style','solid'),('border-width','1px')]}])"
      ],
      "metadata": {
        "colab": {
          "base_uri": "https://localhost:8080/",
          "height": 234
        },
        "id": "X8xGhwykDVEV",
        "outputId": "af0288d5-0453-4518-acbb-7043658cd1d9"
      },
      "execution_count": null,
      "outputs": [
        {
          "output_type": "execute_result",
          "data": {
            "text/plain": [
              "<pandas.io.formats.style.Styler at 0x7f7e26dcfc40>"
            ],
            "text/html": [
              "<style type=\"text/css\">\n",
              "#T_a2fd7_ th {\n",
              "  font-size: 10pt;\n",
              "  border-style: solid;\n",
              "  border-width: 1px;\n",
              "}\n",
              "#T_a2fd7_ td {\n",
              "  font-size: 10pt;\n",
              "  border-style: solid;\n",
              "  border-width: 1px;\n",
              "}\n",
              "</style>\n",
              "<table id=\"T_a2fd7_\" class=\"dataframe\">\n",
              "  <thead>\n",
              "    <tr>\n",
              "      <th class=\"blank level0\" >&nbsp;</th>\n",
              "      <th class=\"col_heading level0 col0\" >Explicación atributos componente 1 (%)</th>\n",
              "    </tr>\n",
              "  </thead>\n",
              "  <tbody>\n",
              "    <tr>\n",
              "      <th id=\"T_a2fd7_level0_row0\" class=\"row_heading level0 row0\" >PS</th>\n",
              "      <td id=\"T_a2fd7_row0_col0\" class=\"data row0 col0\" >18.878213</td>\n",
              "    </tr>\n",
              "    <tr>\n",
              "      <th id=\"T_a2fd7_level0_row1\" class=\"row_heading level0 row1\" >Ataque</th>\n",
              "      <td id=\"T_a2fd7_row1_col0\" class=\"data row1 col0\" >7.288995</td>\n",
              "    </tr>\n",
              "    <tr>\n",
              "      <th id=\"T_a2fd7_level0_row2\" class=\"row_heading level0 row2\" >Defensa</th>\n",
              "      <td id=\"T_a2fd7_row2_col0\" class=\"data row2 col0\" >15.937229</td>\n",
              "    </tr>\n",
              "    <tr>\n",
              "      <th id=\"T_a2fd7_level0_row3\" class=\"row_heading level0 row3\" >Ataque especial</th>\n",
              "      <td id=\"T_a2fd7_row3_col0\" class=\"data row3 col0\" >3.939305</td>\n",
              "    </tr>\n",
              "    <tr>\n",
              "      <th id=\"T_a2fd7_level0_row4\" class=\"row_heading level0 row4\" >Defensa especial</th>\n",
              "      <td id=\"T_a2fd7_row4_col0\" class=\"data row4 col0\" >42.415061</td>\n",
              "    </tr>\n",
              "    <tr>\n",
              "      <th id=\"T_a2fd7_level0_row5\" class=\"row_heading level0 row5\" >Velocidad</th>\n",
              "      <td id=\"T_a2fd7_row5_col0\" class=\"data row5 col0\" >3.305629</td>\n",
              "    </tr>\n",
              "  </tbody>\n",
              "</table>\n"
            ]
          },
          "metadata": {},
          "execution_count": 17
        }
      ]
    },
    {
      "cell_type": "code",
      "source": [
        "print(\"Primera componente más importante;\\n\",autovectores[0])"
      ],
      "metadata": {
        "colab": {
          "base_uri": "https://localhost:8080/"
        },
        "id": "OVriQlzCyRFp",
        "outputId": "0084b339-370e-4346-d3f2-e879f926d406"
      },
      "execution_count": null,
      "outputs": [
        {
          "output_type": "stream",
          "name": "stdout",
          "text": [
            "Primera componente más importante;\n",
            " [ 0.45454125  0.15847313  0.37672419 -0.07820604  0.78451794  0.06908557]\n"
          ]
        }
      ]
    },
    {
      "cell_type": "markdown",
      "source": [
        "Se observa que en la primera componente, influye notablemente el atributo de **defensa especial**. Además, **PS** y **defensa** tampoco tienen valores muy bajos, a diferencia de los atributos restantes. \n",
        "Esto, ocurre tanto en la explicación porcentual de estos atributos respecto al resto de componentes, como dentro de la propia componente entre las magnitudes de sus atributos.\n",
        "\n",
        "Además, como se observa en la gráfica, los Pokemons en esta componente tenderán a tener valores positivos, ya que el único atributo multiplicado por un coeficiente negativo es el de ataque especial. Este, tiene una magnitud relativa baja, y por tanto, poca importancia en la componente."
      ],
      "metadata": {
        "id": "6nejCjf_mMCY"
      }
    },
    {
      "cell_type": "code",
      "source": [
        "df_expl_atributos_componente2.style.set_table_styles([{'selector': 'th,td', 'props': [('font-size', '10pt'),('border-style','solid'),('border-width','1px')]}])"
      ],
      "metadata": {
        "colab": {
          "base_uri": "https://localhost:8080/",
          "height": 234
        },
        "id": "PqTf5vVzCKqj",
        "outputId": "6c38800e-e5ea-4a80-8ed9-eb058132c6fb"
      },
      "execution_count": null,
      "outputs": [
        {
          "output_type": "execute_result",
          "data": {
            "text/plain": [
              "<pandas.io.formats.style.Styler at 0x7f7e26a02850>"
            ],
            "text/html": [
              "<style type=\"text/css\">\n",
              "#T_7c435_ th {\n",
              "  font-size: 10pt;\n",
              "  border-style: solid;\n",
              "  border-width: 1px;\n",
              "}\n",
              "#T_7c435_ td {\n",
              "  font-size: 10pt;\n",
              "  border-style: solid;\n",
              "  border-width: 1px;\n",
              "}\n",
              "</style>\n",
              "<table id=\"T_7c435_\" class=\"dataframe\">\n",
              "  <thead>\n",
              "    <tr>\n",
              "      <th class=\"blank level0\" >&nbsp;</th>\n",
              "      <th class=\"col_heading level0 col0\" >Explicación atributos componente 2 (%)</th>\n",
              "    </tr>\n",
              "  </thead>\n",
              "  <tbody>\n",
              "    <tr>\n",
              "      <th id=\"T_7c435_level0_row0\" class=\"row_heading level0 row0\" >PS</th>\n",
              "      <td id=\"T_7c435_row0_col0\" class=\"data row0 col0\" >18.719872</td>\n",
              "    </tr>\n",
              "    <tr>\n",
              "      <th id=\"T_7c435_level0_row1\" class=\"row_heading level0 row1\" >Ataque</th>\n",
              "      <td id=\"T_7c435_row1_col0\" class=\"data row1 col0\" >11.589894</td>\n",
              "    </tr>\n",
              "    <tr>\n",
              "      <th id=\"T_7c435_level0_row2\" class=\"row_heading level0 row2\" >Defensa</th>\n",
              "      <td id=\"T_7c435_row2_col0\" class=\"data row2 col0\" >20.810603</td>\n",
              "    </tr>\n",
              "    <tr>\n",
              "      <th id=\"T_7c435_level0_row3\" class=\"row_heading level0 row3\" >Ataque especial</th>\n",
              "      <td id=\"T_7c435_row3_col0\" class=\"data row3 col0\" >5.376212</td>\n",
              "    </tr>\n",
              "    <tr>\n",
              "      <th id=\"T_7c435_level0_row4\" class=\"row_heading level0 row4\" >Defensa especial</th>\n",
              "      <td id=\"T_7c435_row4_col0\" class=\"data row4 col0\" >1.316955</td>\n",
              "    </tr>\n",
              "    <tr>\n",
              "      <th id=\"T_7c435_level0_row5\" class=\"row_heading level0 row5\" >Velocidad</th>\n",
              "      <td id=\"T_7c435_row5_col0\" class=\"data row5 col0\" >33.128795</td>\n",
              "    </tr>\n",
              "  </tbody>\n",
              "</table>\n"
            ]
          },
          "metadata": {},
          "execution_count": 19
        }
      ]
    },
    {
      "cell_type": "code",
      "source": [
        "print(\"Segunda componente más importante;\\n\",autovectores[1])"
      ],
      "metadata": {
        "colab": {
          "base_uri": "https://localhost:8080/"
        },
        "id": "YcUJLvz40NeQ",
        "outputId": "3f235ef4-5725-4e1d-e6be-b8dcda9e35b1"
      },
      "execution_count": null,
      "outputs": [
        {
          "output_type": "stream",
          "name": "stdout",
          "text": [
            "Segunda componente más importante;\n",
            " [ 0.45072878 -0.25198079 -0.491921    0.1067326  -0.02435867  0.69237113]\n"
          ]
        }
      ]
    },
    {
      "cell_type": "markdown",
      "source": [
        "En esta componente, están más repartidos los atributos que tienen influencia, al superar 4 de ellos el 10%. La **velocidad** en esta componente tiene una gran importancia, y también la **defensa** y el **PS** cuentan con valores relativos altos. \n",
        "\n",
        "Es interesante como el atributo con mayor influencia en una componente, tiene el valor más bajo en la otra. Esto, permite explicar gran parte de la información, al poder representar un espectro de datos con bastante varianza. En la gráfica, esto se observa en la falta de correlación entre las componentes.\n",
        "\n",
        "En este caso, también hay tendencia a valores positivos por el mismo motivo que en la otra componente, pero en este caso hay más coeficientes negativos y de mayor magnitud. Por este motivo, como se observa en la gráfica, algunos Pokemons tienen valores negativos y aunque la mayoría sean positivos estos son de menor magnitud en comparación con la otra componente."
      ],
      "metadata": {
        "id": "IskReeJDnZdy"
      }
    },
    {
      "cell_type": "markdown",
      "source": [
        "Ahora, se analizan los 4 pokemons que no se han puesto como puntos de color azul. Se vuelven a mostrar la media y desviación típica calculadas de cada atributo para compararlos con los de cada caso concreto y poder así entender su posición en la gráfica.\n"
      ],
      "metadata": {
        "id": "swc7l87u5Pwg"
      }
    },
    {
      "cell_type": "code",
      "source": [
        "vector_medias_atr = np.zeros(len(indx))  # Se inicializa vector de medias.\n",
        "vector_dtipica_atr = np.zeros(len(indx)) # Se inicializa vector de d. típicas.\n",
        "\n",
        "# Se calculan en cada atributo.\n",
        "for j in range(len(indx)):\n",
        "  vector_medias_atr[j] = np.mean(datos_matrix[:,j])\n",
        "  vector_dtipica_atr[j] = np.std(datos_matrix[:,j])\n",
        "\n",
        "# Medias en vector columna\n",
        "vector_medias_atr2 = vector_medias_atr.reshape(1, -1)\n",
        "# Desviaciones típicas en vector columna      \n",
        "vector_dtipica_atr2 = vector_dtipica_atr.reshape(1, -1)    \n",
        "\n",
        "# Dataframe con las medias y las desviaciones típicas\n",
        "matrix_media_dtipica_atr = np.concatenate((vector_medias_atr2, vector_dtipica_atr2))\n",
        "matrix_media_dtipica_atr_T = np.transpose(matrix_media_dtipica_atr)\n",
        "df_media_dtipica_atr = pd.DataFrame(matrix_media_dtipica_atr_T, index=indx, columns=['Media','Desviación Típica'])\n",
        "\n",
        "df_media_dtipica_atr.round(3)"
      ],
      "metadata": {
        "colab": {
          "base_uri": "https://localhost:8080/",
          "height": 238
        },
        "id": "0mEuwaQE_kls",
        "outputId": "baf8a60e-44de-4fde-91b0-95d1fc018cdf"
      },
      "execution_count": null,
      "outputs": [
        {
          "output_type": "execute_result",
          "data": {
            "text/plain": [
              "                  Media  Desviación Típica\n",
              "PS                 2.25              0.766\n",
              "Ataque             2.95              0.921\n",
              "Defensa            2.60              0.800\n",
              "Ataque especial    3.35              1.152\n",
              "Defensa especial   2.40              0.800\n",
              "Velocidad          2.85              1.108"
            ],
            "text/html": [
              "\n",
              "  <div id=\"df-0ef7f43d-4628-447a-8398-6b10994f6ec2\">\n",
              "    <div class=\"colab-df-container\">\n",
              "      <div>\n",
              "<style scoped>\n",
              "    .dataframe tbody tr th:only-of-type {\n",
              "        vertical-align: middle;\n",
              "    }\n",
              "\n",
              "    .dataframe tbody tr th {\n",
              "        vertical-align: top;\n",
              "    }\n",
              "\n",
              "    .dataframe thead th {\n",
              "        text-align: right;\n",
              "    }\n",
              "</style>\n",
              "<table border=\"1\" class=\"dataframe\">\n",
              "  <thead>\n",
              "    <tr style=\"text-align: right;\">\n",
              "      <th></th>\n",
              "      <th>Media</th>\n",
              "      <th>Desviación Típica</th>\n",
              "    </tr>\n",
              "  </thead>\n",
              "  <tbody>\n",
              "    <tr>\n",
              "      <th>PS</th>\n",
              "      <td>2.25</td>\n",
              "      <td>0.766</td>\n",
              "    </tr>\n",
              "    <tr>\n",
              "      <th>Ataque</th>\n",
              "      <td>2.95</td>\n",
              "      <td>0.921</td>\n",
              "    </tr>\n",
              "    <tr>\n",
              "      <th>Defensa</th>\n",
              "      <td>2.60</td>\n",
              "      <td>0.800</td>\n",
              "    </tr>\n",
              "    <tr>\n",
              "      <th>Ataque especial</th>\n",
              "      <td>3.35</td>\n",
              "      <td>1.152</td>\n",
              "    </tr>\n",
              "    <tr>\n",
              "      <th>Defensa especial</th>\n",
              "      <td>2.40</td>\n",
              "      <td>0.800</td>\n",
              "    </tr>\n",
              "    <tr>\n",
              "      <th>Velocidad</th>\n",
              "      <td>2.85</td>\n",
              "      <td>1.108</td>\n",
              "    </tr>\n",
              "  </tbody>\n",
              "</table>\n",
              "</div>\n",
              "      <button class=\"colab-df-convert\" onclick=\"convertToInteractive('df-0ef7f43d-4628-447a-8398-6b10994f6ec2')\"\n",
              "              title=\"Convert this dataframe to an interactive table.\"\n",
              "              style=\"display:none;\">\n",
              "        \n",
              "  <svg xmlns=\"http://www.w3.org/2000/svg\" height=\"24px\"viewBox=\"0 0 24 24\"\n",
              "       width=\"24px\">\n",
              "    <path d=\"M0 0h24v24H0V0z\" fill=\"none\"/>\n",
              "    <path d=\"M18.56 5.44l.94 2.06.94-2.06 2.06-.94-2.06-.94-.94-2.06-.94 2.06-2.06.94zm-11 1L8.5 8.5l.94-2.06 2.06-.94-2.06-.94L8.5 2.5l-.94 2.06-2.06.94zm10 10l.94 2.06.94-2.06 2.06-.94-2.06-.94-.94-2.06-.94 2.06-2.06.94z\"/><path d=\"M17.41 7.96l-1.37-1.37c-.4-.4-.92-.59-1.43-.59-.52 0-1.04.2-1.43.59L10.3 9.45l-7.72 7.72c-.78.78-.78 2.05 0 2.83L4 21.41c.39.39.9.59 1.41.59.51 0 1.02-.2 1.41-.59l7.78-7.78 2.81-2.81c.8-.78.8-2.07 0-2.86zM5.41 20L4 18.59l7.72-7.72 1.47 1.35L5.41 20z\"/>\n",
              "  </svg>\n",
              "      </button>\n",
              "      \n",
              "  <style>\n",
              "    .colab-df-container {\n",
              "      display:flex;\n",
              "      flex-wrap:wrap;\n",
              "      gap: 12px;\n",
              "    }\n",
              "\n",
              "    .colab-df-convert {\n",
              "      background-color: #E8F0FE;\n",
              "      border: none;\n",
              "      border-radius: 50%;\n",
              "      cursor: pointer;\n",
              "      display: none;\n",
              "      fill: #1967D2;\n",
              "      height: 32px;\n",
              "      padding: 0 0 0 0;\n",
              "      width: 32px;\n",
              "    }\n",
              "\n",
              "    .colab-df-convert:hover {\n",
              "      background-color: #E2EBFA;\n",
              "      box-shadow: 0px 1px 2px rgba(60, 64, 67, 0.3), 0px 1px 3px 1px rgba(60, 64, 67, 0.15);\n",
              "      fill: #174EA6;\n",
              "    }\n",
              "\n",
              "    [theme=dark] .colab-df-convert {\n",
              "      background-color: #3B4455;\n",
              "      fill: #D2E3FC;\n",
              "    }\n",
              "\n",
              "    [theme=dark] .colab-df-convert:hover {\n",
              "      background-color: #434B5C;\n",
              "      box-shadow: 0px 1px 3px 1px rgba(0, 0, 0, 0.15);\n",
              "      filter: drop-shadow(0px 1px 2px rgba(0, 0, 0, 0.3));\n",
              "      fill: #FFFFFF;\n",
              "    }\n",
              "  </style>\n",
              "\n",
              "      <script>\n",
              "        const buttonEl =\n",
              "          document.querySelector('#df-0ef7f43d-4628-447a-8398-6b10994f6ec2 button.colab-df-convert');\n",
              "        buttonEl.style.display =\n",
              "          google.colab.kernel.accessAllowed ? 'block' : 'none';\n",
              "\n",
              "        async function convertToInteractive(key) {\n",
              "          const element = document.querySelector('#df-0ef7f43d-4628-447a-8398-6b10994f6ec2');\n",
              "          const dataTable =\n",
              "            await google.colab.kernel.invokeFunction('convertToInteractive',\n",
              "                                                     [key], {});\n",
              "          if (!dataTable) return;\n",
              "\n",
              "          const docLinkHtml = 'Like what you see? Visit the ' +\n",
              "            '<a target=\"_blank\" href=https://colab.research.google.com/notebooks/data_table.ipynb>data table notebook</a>'\n",
              "            + ' to learn more about interactive tables.';\n",
              "          element.innerHTML = '';\n",
              "          dataTable['output_type'] = 'display_data';\n",
              "          await google.colab.output.renderOutput(dataTable, element);\n",
              "          const docLink = document.createElement('div');\n",
              "          docLink.innerHTML = docLinkHtml;\n",
              "          element.appendChild(docLink);\n",
              "        }\n",
              "      </script>\n",
              "    </div>\n",
              "  </div>\n",
              "  "
            ]
          },
          "metadata": {},
          "execution_count": 21
        }
      ]
    },
    {
      "cell_type": "markdown",
      "source": [
        "### Pokemon Punto Amarillo"
      ],
      "metadata": {
        "id": "o4Xj3_cTCgti"
      }
    },
    {
      "cell_type": "markdown",
      "source": [
        "Valores de sus atributos originales:"
      ],
      "metadata": {
        "id": "8TJStN14_k4z"
      }
    },
    {
      "cell_type": "code",
      "source": [
        "df_amarillo = pd.DataFrame(datos_matrix[10], index=indx, columns=['Pokemon Punto Amarillo'])\n",
        "def highlight_x(s):\n",
        "  return [\"background-color: yellow;\",\"\"]\n",
        "df_amarillo.style.set_properties(**{'border': '1.3px solid black', 'background-color' : 'yellow'}).set_table_styles([{'selector': 'th,td', 'props': [('font-size', '12pt'),('border-style','solid'),('border-width','1px')]}])"
      ],
      "metadata": {
        "colab": {
          "base_uri": "https://localhost:8080/",
          "height": 276
        },
        "id": "Nn9JTppw9MiF",
        "outputId": "1397bab0-97af-4193-ae9b-94eb57e07bf7"
      },
      "execution_count": null,
      "outputs": [
        {
          "output_type": "execute_result",
          "data": {
            "text/plain": [
              "<pandas.io.formats.style.Styler at 0x7f7e269f2d30>"
            ],
            "text/html": [
              "<style type=\"text/css\">\n",
              "#T_0b60d_ th {\n",
              "  font-size: 12pt;\n",
              "  border-style: solid;\n",
              "  border-width: 1px;\n",
              "}\n",
              "#T_0b60d_ td {\n",
              "  font-size: 12pt;\n",
              "  border-style: solid;\n",
              "  border-width: 1px;\n",
              "}\n",
              "#T_0b60d_row0_col0, #T_0b60d_row1_col0, #T_0b60d_row2_col0, #T_0b60d_row3_col0, #T_0b60d_row4_col0, #T_0b60d_row5_col0 {\n",
              "  border: 1.3px solid black;\n",
              "  background-color: yellow;\n",
              "}\n",
              "</style>\n",
              "<table id=\"T_0b60d_\" class=\"dataframe\">\n",
              "  <thead>\n",
              "    <tr>\n",
              "      <th class=\"blank level0\" >&nbsp;</th>\n",
              "      <th class=\"col_heading level0 col0\" >Pokemon Punto Amarillo</th>\n",
              "    </tr>\n",
              "  </thead>\n",
              "  <tbody>\n",
              "    <tr>\n",
              "      <th id=\"T_0b60d_level0_row0\" class=\"row_heading level0 row0\" >PS</th>\n",
              "      <td id=\"T_0b60d_row0_col0\" class=\"data row0 col0\" >1</td>\n",
              "    </tr>\n",
              "    <tr>\n",
              "      <th id=\"T_0b60d_level0_row1\" class=\"row_heading level0 row1\" >Ataque</th>\n",
              "      <td id=\"T_0b60d_row1_col0\" class=\"data row1 col0\" >1</td>\n",
              "    </tr>\n",
              "    <tr>\n",
              "      <th id=\"T_0b60d_level0_row2\" class=\"row_heading level0 row2\" >Defensa</th>\n",
              "      <td id=\"T_0b60d_row2_col0\" class=\"data row2 col0\" >2</td>\n",
              "    </tr>\n",
              "    <tr>\n",
              "      <th id=\"T_0b60d_level0_row3\" class=\"row_heading level0 row3\" >Ataque especial</th>\n",
              "      <td id=\"T_0b60d_row3_col0\" class=\"data row3 col0\" >2</td>\n",
              "    </tr>\n",
              "    <tr>\n",
              "      <th id=\"T_0b60d_level0_row4\" class=\"row_heading level0 row4\" >Defensa especial</th>\n",
              "      <td id=\"T_0b60d_row4_col0\" class=\"data row4 col0\" >1</td>\n",
              "    </tr>\n",
              "    <tr>\n",
              "      <th id=\"T_0b60d_level0_row5\" class=\"row_heading level0 row5\" >Velocidad</th>\n",
              "      <td id=\"T_0b60d_row5_col0\" class=\"data row5 col0\" >1</td>\n",
              "    </tr>\n",
              "  </tbody>\n",
              "</table>\n"
            ]
          },
          "metadata": {},
          "execution_count": 22
        }
      ]
    },
    {
      "cell_type": "markdown",
      "source": [
        "Este Pokemon, tiene valores relativos bastante bajos en las 2 componentes. Una razón de estos valores, es que en los atributos con mayor influencia en las 2 componentes, este Pokemon no tiene valores muy altos.\n",
        "\n",
        "En **defensa especial** (mayor influencia primera componente), tiene un valor de 1. Al ser 2.4 la media y 0.8 la desviación típica de todos los Pokemons, este valor es bastante bajo.\n",
        "\n",
        "En **velocidad** (mayor influencia segunda componente), tiene un valor de 1. Al ser 2.85 la media y 1.108 la desviación típica de todos los Pokemons, este valor también es bastante bajo.\n",
        "\n",
        "Aunque este Pokemon también tiene valores por debajo de la media en el resto de atributos, aunque no fuese así, en estas 2 componentes seguiría teniendo tendencia a valores bajos. Esto, se debe a sus valores en **defensa especial** y **velocidad**. Solo un valor en algún otro atributo que sea desproporcionado en relación a los demás, podría compensar el pequeño coeficiente por el que se multiplica."
      ],
      "metadata": {
        "id": "38oU3lq2o9uT"
      }
    },
    {
      "cell_type": "markdown",
      "source": [
        "### Pokemon Punto Rosa"
      ],
      "metadata": {
        "id": "KGhuCOIxCwwy"
      }
    },
    {
      "cell_type": "markdown",
      "source": [
        "Valores de sus atributos originales:"
      ],
      "metadata": {
        "id": "vm6Em1t8DQYu"
      }
    },
    {
      "cell_type": "code",
      "source": [
        "df_rosa = pd.DataFrame(datos_matrix[12], index=indx, columns=['Pokemon Punto Rosa'])\n",
        "df_rosa.style.set_properties(**{'border': '1.3px solid black', 'background-color' : 'pink'}).set_table_styles([{'selector': 'th,td', 'props': [('font-size', '12pt'),('border-style','solid'),('border-width','1px')]}])"
      ],
      "metadata": {
        "colab": {
          "base_uri": "https://localhost:8080/",
          "height": 276
        },
        "id": "ucnz2YZG-i_R",
        "outputId": "c63810cb-6fc2-4c1e-b972-d5702c4f050a"
      },
      "execution_count": null,
      "outputs": [
        {
          "output_type": "execute_result",
          "data": {
            "text/plain": [
              "<pandas.io.formats.style.Styler at 0x7f7e2a249a90>"
            ],
            "text/html": [
              "<style type=\"text/css\">\n",
              "#T_95e33_ th {\n",
              "  font-size: 12pt;\n",
              "  border-style: solid;\n",
              "  border-width: 1px;\n",
              "}\n",
              "#T_95e33_ td {\n",
              "  font-size: 12pt;\n",
              "  border-style: solid;\n",
              "  border-width: 1px;\n",
              "}\n",
              "#T_95e33_row0_col0, #T_95e33_row1_col0, #T_95e33_row2_col0, #T_95e33_row3_col0, #T_95e33_row4_col0, #T_95e33_row5_col0 {\n",
              "  border: 1.3px solid black;\n",
              "  background-color: pink;\n",
              "}\n",
              "</style>\n",
              "<table id=\"T_95e33_\" class=\"dataframe\">\n",
              "  <thead>\n",
              "    <tr>\n",
              "      <th class=\"blank level0\" >&nbsp;</th>\n",
              "      <th class=\"col_heading level0 col0\" >Pokemon Punto Rosa</th>\n",
              "    </tr>\n",
              "  </thead>\n",
              "  <tbody>\n",
              "    <tr>\n",
              "      <th id=\"T_95e33_level0_row0\" class=\"row_heading level0 row0\" >PS</th>\n",
              "      <td id=\"T_95e33_row0_col0\" class=\"data row0 col0\" >2</td>\n",
              "    </tr>\n",
              "    <tr>\n",
              "      <th id=\"T_95e33_level0_row1\" class=\"row_heading level0 row1\" >Ataque</th>\n",
              "      <td id=\"T_95e33_row1_col0\" class=\"data row1 col0\" >2</td>\n",
              "    </tr>\n",
              "    <tr>\n",
              "      <th id=\"T_95e33_level0_row2\" class=\"row_heading level0 row2\" >Defensa</th>\n",
              "      <td id=\"T_95e33_row2_col0\" class=\"data row2 col0\" >2</td>\n",
              "    </tr>\n",
              "    <tr>\n",
              "      <th id=\"T_95e33_level0_row3\" class=\"row_heading level0 row3\" >Ataque especial</th>\n",
              "      <td id=\"T_95e33_row3_col0\" class=\"data row3 col0\" >4</td>\n",
              "    </tr>\n",
              "    <tr>\n",
              "      <th id=\"T_95e33_level0_row4\" class=\"row_heading level0 row4\" >Defensa especial</th>\n",
              "      <td id=\"T_95e33_row4_col0\" class=\"data row4 col0\" >3</td>\n",
              "    </tr>\n",
              "    <tr>\n",
              "      <th id=\"T_95e33_level0_row5\" class=\"row_heading level0 row5\" >Velocidad</th>\n",
              "      <td id=\"T_95e33_row5_col0\" class=\"data row5 col0\" >5</td>\n",
              "    </tr>\n",
              "  </tbody>\n",
              "</table>\n"
            ]
          },
          "metadata": {},
          "execution_count": 23
        }
      ]
    },
    {
      "cell_type": "markdown",
      "source": [
        "Este Pokemon, es un caso totalmente opuesto al amarillo, ya que sus valores en las 2 componentes no son bajos. \n",
        "\n",
        "El motivo de esto, son los valores por encima de la media en **defensa especial** y **velocidad**.\n",
        "\n",
        "En **defensa especial** tiene un valor de 3 siendo 2.4 la media. Teniendo en cuenta la desviación típica, no es excesivamente alto, pero suficiente para que se sitúe por encima de la media como se observa en la gráfica.\n",
        "\n",
        "En **velocidad** tiene un valor de 5 siendo 2.85 la media. Teniendo en cuenta la desviación típica, como se observa en la gráfica, el valor alto en este atributo hace que también lo tenga en la componente.\n",
        "\n",
        "Por otro lado, en el resto de atributos no tiene valores excesivamente altos, por lo que se demuestra la importancia de estos atributos mencionados en las componentes graficadas.\n",
        "\n",
        "\n"
      ],
      "metadata": {
        "id": "VxtmcRvV7E3I"
      }
    },
    {
      "cell_type": "markdown",
      "source": [
        "### Pokemon Punto Rojo"
      ],
      "metadata": {
        "id": "EN0UX1uuC6Yn"
      }
    },
    {
      "cell_type": "markdown",
      "source": [
        "Valores de sus atributos originales:"
      ],
      "metadata": {
        "id": "vbYnlDOjDRia"
      }
    },
    {
      "cell_type": "code",
      "source": [
        "df_rojo = pd.DataFrame(datos_matrix[9], index=indx, columns=['Pokemon Punto Rojo'])\n",
        "df_rojo.style.set_properties(**{'border': '1.3px solid black', 'background-color' : 'red', 'color': 'white'}).set_table_styles([{'selector': 'th,td', 'props': [('font-size', '12pt'),('border-style','solid'),('border-width','1px')]}])"
      ],
      "metadata": {
        "colab": {
          "base_uri": "https://localhost:8080/",
          "height": 276
        },
        "id": "yBOH1gez-kXQ",
        "outputId": "f94e66f2-159f-4b51-d507-ed874cd359ff"
      },
      "execution_count": null,
      "outputs": [
        {
          "output_type": "execute_result",
          "data": {
            "text/plain": [
              "<pandas.io.formats.style.Styler at 0x7f7e26a02670>"
            ],
            "text/html": [
              "<style type=\"text/css\">\n",
              "#T_ab306_ th {\n",
              "  font-size: 12pt;\n",
              "  border-style: solid;\n",
              "  border-width: 1px;\n",
              "}\n",
              "#T_ab306_ td {\n",
              "  font-size: 12pt;\n",
              "  border-style: solid;\n",
              "  border-width: 1px;\n",
              "}\n",
              "#T_ab306_row0_col0, #T_ab306_row1_col0, #T_ab306_row2_col0, #T_ab306_row3_col0, #T_ab306_row4_col0, #T_ab306_row5_col0 {\n",
              "  border: 1.3px solid black;\n",
              "  background-color: red;\n",
              "  color: white;\n",
              "}\n",
              "</style>\n",
              "<table id=\"T_ab306_\" class=\"dataframe\">\n",
              "  <thead>\n",
              "    <tr>\n",
              "      <th class=\"blank level0\" >&nbsp;</th>\n",
              "      <th class=\"col_heading level0 col0\" >Pokemon Punto Rojo</th>\n",
              "    </tr>\n",
              "  </thead>\n",
              "  <tbody>\n",
              "    <tr>\n",
              "      <th id=\"T_ab306_level0_row0\" class=\"row_heading level0 row0\" >PS</th>\n",
              "      <td id=\"T_ab306_row0_col0\" class=\"data row0 col0\" >3</td>\n",
              "    </tr>\n",
              "    <tr>\n",
              "      <th id=\"T_ab306_level0_row1\" class=\"row_heading level0 row1\" >Ataque</th>\n",
              "      <td id=\"T_ab306_row1_col0\" class=\"data row1 col0\" >3</td>\n",
              "    </tr>\n",
              "    <tr>\n",
              "      <th id=\"T_ab306_level0_row2\" class=\"row_heading level0 row2\" >Defensa</th>\n",
              "      <td id=\"T_ab306_row2_col0\" class=\"data row2 col0\" >2</td>\n",
              "    </tr>\n",
              "    <tr>\n",
              "      <th id=\"T_ab306_level0_row3\" class=\"row_heading level0 row3\" >Ataque especial</th>\n",
              "      <td id=\"T_ab306_row3_col0\" class=\"data row3 col0\" >3</td>\n",
              "    </tr>\n",
              "    <tr>\n",
              "      <th id=\"T_ab306_level0_row4\" class=\"row_heading level0 row4\" >Defensa especial</th>\n",
              "      <td id=\"T_ab306_row4_col0\" class=\"data row4 col0\" >2</td>\n",
              "    </tr>\n",
              "    <tr>\n",
              "      <th id=\"T_ab306_level0_row5\" class=\"row_heading level0 row5\" >Velocidad</th>\n",
              "      <td id=\"T_ab306_row5_col0\" class=\"data row5 col0\" >2</td>\n",
              "    </tr>\n",
              "  </tbody>\n",
              "</table>\n"
            ]
          },
          "metadata": {},
          "execution_count": 24
        }
      ]
    },
    {
      "cell_type": "markdown",
      "source": [
        "Este pokemon, tiene tanto en **defensa especial** y **velocidad** como en el resto de atributos (con menor influencia en las componentes), unos valores relativos cercanos a la media, teniendo en cuenta las desviaciones típicas.\n",
        "\n",
        "Por este motivo, se observa el punto rojo cerca del centro de la gráfica y centrado entre los puntos amarillo y rosa, que son ejemplos de puntos con gran desviación de la media de las componentes y de los atributos. "
      ],
      "metadata": {
        "id": "cYXCK756_0HG"
      }
    },
    {
      "cell_type": "markdown",
      "source": [
        "### Pokemon Puto Negro"
      ],
      "metadata": {
        "id": "Wwm9PetjC9fF"
      }
    },
    {
      "cell_type": "markdown",
      "source": [
        "Valores de sus atributos originales:"
      ],
      "metadata": {
        "id": "8g82WVxlDSnd"
      }
    },
    {
      "cell_type": "code",
      "source": [
        "df_negro = pd.DataFrame(datos_matrix[16], index=indx, columns=['Pokemon punto negro'])\n",
        "df_negro.style.set_properties(**{'border': '1.3px solid white', 'background-color' : 'black', 'color': 'white'}).set_table_styles([{'selector': 'th,td', 'props': [('font-size', '12pt'),('border-style','solid'),('border-width','1px')]}])"
      ],
      "metadata": {
        "colab": {
          "base_uri": "https://localhost:8080/",
          "height": 276
        },
        "id": "X_F-P4cC-lxb",
        "outputId": "d49667df-0f68-4671-d2b0-94c7d9955515"
      },
      "execution_count": null,
      "outputs": [
        {
          "output_type": "execute_result",
          "data": {
            "text/plain": [
              "<pandas.io.formats.style.Styler at 0x7f7e269f2700>"
            ],
            "text/html": [
              "<style type=\"text/css\">\n",
              "#T_d2b9a_ th {\n",
              "  font-size: 12pt;\n",
              "  border-style: solid;\n",
              "  border-width: 1px;\n",
              "}\n",
              "#T_d2b9a_ td {\n",
              "  font-size: 12pt;\n",
              "  border-style: solid;\n",
              "  border-width: 1px;\n",
              "}\n",
              "#T_d2b9a_row0_col0, #T_d2b9a_row1_col0, #T_d2b9a_row2_col0, #T_d2b9a_row3_col0, #T_d2b9a_row4_col0, #T_d2b9a_row5_col0 {\n",
              "  border: 1.3px solid white;\n",
              "  background-color: black;\n",
              "  color: white;\n",
              "}\n",
              "</style>\n",
              "<table id=\"T_d2b9a_\" class=\"dataframe\">\n",
              "  <thead>\n",
              "    <tr>\n",
              "      <th class=\"blank level0\" >&nbsp;</th>\n",
              "      <th class=\"col_heading level0 col0\" >Pokemon punto negro</th>\n",
              "    </tr>\n",
              "  </thead>\n",
              "  <tbody>\n",
              "    <tr>\n",
              "      <th id=\"T_d2b9a_level0_row0\" class=\"row_heading level0 row0\" >PS</th>\n",
              "      <td id=\"T_d2b9a_row0_col0\" class=\"data row0 col0\" >1</td>\n",
              "    </tr>\n",
              "    <tr>\n",
              "      <th id=\"T_d2b9a_level0_row1\" class=\"row_heading level0 row1\" >Ataque</th>\n",
              "      <td id=\"T_d2b9a_row1_col0\" class=\"data row1 col0\" >3</td>\n",
              "    </tr>\n",
              "    <tr>\n",
              "      <th id=\"T_d2b9a_level0_row2\" class=\"row_heading level0 row2\" >Defensa</th>\n",
              "      <td id=\"T_d2b9a_row2_col0\" class=\"data row2 col0\" >4</td>\n",
              "    </tr>\n",
              "    <tr>\n",
              "      <th id=\"T_d2b9a_level0_row3\" class=\"row_heading level0 row3\" >Ataque especial</th>\n",
              "      <td id=\"T_d2b9a_row3_col0\" class=\"data row3 col0\" >2</td>\n",
              "    </tr>\n",
              "    <tr>\n",
              "      <th id=\"T_d2b9a_level0_row4\" class=\"row_heading level0 row4\" >Defensa especial</th>\n",
              "      <td id=\"T_d2b9a_row4_col0\" class=\"data row4 col0\" >4</td>\n",
              "    </tr>\n",
              "    <tr>\n",
              "      <th id=\"T_d2b9a_level0_row5\" class=\"row_heading level0 row5\" >Velocidad</th>\n",
              "      <td id=\"T_d2b9a_row5_col0\" class=\"data row5 col0\" >2</td>\n",
              "    </tr>\n",
              "  </tbody>\n",
              "</table>\n"
            ]
          },
          "metadata": {},
          "execution_count": 25
        }
      ]
    },
    {
      "cell_type": "markdown",
      "source": [
        "Este Pokemon, como se observa en la gráfica, tiene un valor relativo alto en la primera componente, pero bajo en la segunda.\n",
        "\n",
        "En la primera componente, el valor alto se debe principalemente a que también es alto su valor en el atributo **defensa especial**.\n",
        "\n",
        "En la segunda componente, el valor alto se debe a que los 3 atributos con mayor magnitud de este Pokemon, coinciden con los que tienen un coeficiente negativo en la segunda componente. Esto, hace que se compensen los valores positivos con los negativos haciendo que la magnitud resultante se acerque a 0. \n",
        "\n",
        "Además, en el atributo **velocidad**, cuenta con un valor por debajo de la media (2<2.85). Esto, hace que no se compensen los coeficientes negativos.\n",
        "\n"
      ],
      "metadata": {
        "id": "WKvpUrZTGnwg"
      }
    },
    {
      "cell_type": "markdown",
      "source": [
        "## Conclusión de la gráfica\n",
        "Como conclusión de la gráfica, se puede determinar que las nuevas componentes tienen bastante más capacidad de representar la información con respecto a los atributos. \n",
        "\n",
        "Los atributos de **defensa especial** y **velocidad** afectan notablemente a las componentes, además de los valores en los atributos multiplicados por coeficientes negativos."
      ],
      "metadata": {
        "id": "JCRbBFkT9_Qu"
      }
    },
    {
      "cell_type": "markdown",
      "source": [
        "## PCA con la librería Scikit-learn"
      ],
      "metadata": {
        "id": "VcUGzxbPJ6w-"
      }
    },
    {
      "cell_type": "code",
      "source": [
        "#Se importa el método PCA de la librería Scikit-learn.\n",
        "from sklearn.decomposition import PCA\n",
        "\n",
        "# PCA alternativo con las 6 nuevas componentes a partir de los atributos \n",
        "# ya estandarizados. Aunque se introduzca un número menor que 6, lo único que \n",
        "# cambia sería que no se calcularían las componentes menos importantes, pero sin \n",
        "# afectar a los coeficientes de las otras.\n",
        "PCA_alternativo = PCA(n_components=6)\n",
        "PCA_alternativo.fit(datos_std)\n",
        "\n",
        "#Se guardan los valores que tienen los Pokemons en las nuevas componentes.\n",
        "Pokemons_componentes_PCA2 = PCA_alternativo.transform(datos_std)\n",
        "\n",
        "# Se imprimen las 6 nuevas componentes\n",
        "print('Las componentes o autovectores del PCA alternativo son:\\n', PCA_alternativo.components_)"
      ],
      "metadata": {
        "colab": {
          "base_uri": "https://localhost:8080/"
        },
        "id": "OmQBB8kBSIXN",
        "outputId": "1811e0ed-767e-411e-e62e-b37ef1db1d0c"
      },
      "execution_count": null,
      "outputs": [
        {
          "output_type": "stream",
          "name": "stdout",
          "text": [
            "Las componentes o autovectores del PCA alternativo son:\n",
            " [[-0.45454125 -0.45072878 -0.31882326 -0.42331653 -0.48098891 -0.27935701]\n",
            " [-0.15847313  0.25198079  0.63200759 -0.38227978  0.16852151 -0.58087953]\n",
            " [ 0.06908557  0.69237113 -0.10946693 -0.4496554  -0.43815894  0.33119957]\n",
            " [-0.78451794  0.02435867  0.277256    0.07575687  0.16380914  0.52392254]\n",
            " [-0.07820604  0.1067326   0.33202671  0.61163075 -0.68447289 -0.17220602]\n",
            " [ 0.37672419 -0.491921    0.5475605  -0.30437481 -0.23006595  0.41315342]]\n"
          ]
        }
      ]
    },
    {
      "cell_type": "markdown",
      "source": [
        "A continuación, se imprimen las componentes del PCA anterior (autovectores de la matriz de correlación)."
      ],
      "metadata": {
        "id": "XR4KlT2Dhp12"
      }
    },
    {
      "cell_type": "code",
      "source": [
        "print('Los autovectores anteriores eran:\\n',autovectores)"
      ],
      "metadata": {
        "colab": {
          "base_uri": "https://localhost:8080/"
        },
        "id": "vAwcGoWYWYUe",
        "outputId": "62c41b9b-c697-4f73-e14a-7f60212e8654"
      },
      "execution_count": null,
      "outputs": [
        {
          "output_type": "stream",
          "name": "stdout",
          "text": [
            "Los autovectores anteriores eran:\n",
            " [[ 0.45454125  0.15847313  0.37672419 -0.07820604  0.78451794  0.06908557]\n",
            " [ 0.45072878 -0.25198079 -0.491921    0.1067326  -0.02435867  0.69237113]\n",
            " [ 0.27935701  0.58087953  0.41315342 -0.17220602 -0.52392254  0.33119957]\n",
            " [ 0.48098891 -0.16852151 -0.23006595 -0.68447289 -0.16380914 -0.43815894]\n",
            " [ 0.42331653  0.38227978 -0.30437481  0.61163075 -0.07575687 -0.4496554 ]\n",
            " [ 0.31882326 -0.63200759  0.5475605   0.33202671 -0.277256   -0.10946693]]\n"
          ]
        }
      ]
    },
    {
      "cell_type": "markdown",
      "source": [
        "Los valores están repetidos, pero en diferente orden y algunos con diferente signo. \n",
        "\n",
        "Esto, puede ser resultado de que esta librería utiliza la matriz de covarianza de los atributos, en vez de la matriz de correlación. Esto, se comprueba con los autovectores de la matriz de covarianza calculada en el PCA anterior, de la cual se obtienen sus autovalores en orden de mayor a menor y sus autovectores asociados."
      ],
      "metadata": {
        "id": "oQKo1yUPZZH9"
      }
    },
    {
      "cell_type": "code",
      "source": [
        "# Autovalores y autovectores asociados a la matriz de covarianza.\n",
        "# Autovalores\n",
        "autovalores3 , autovectores3 = np.linalg.eig(covarianza)\n",
        "\n",
        "# Autovectores\n",
        "# Se crea el dataframe de los autovalores para ordenar los autovectores\n",
        "autovalores4 = pd.DataFrame(autovalores3)          # Se crea el dataframe.\n",
        "autovalores4.sort_values(0,inplace=True)           # Se ordenan los autovalores.\n",
        "autovalores4 = autovalores4[::-1]                  # Se ponen de mayor a menor.\n",
        "pos2 = autovalores4.index                          # Se guarda el nuevo orden.\n",
        "\n",
        "autovectores4 = np.zeros((len(indx), len(indx)))  # Se inicializa la matriz.\n",
        "for i in range(len(indx)):                        # Bucle del 0 al 5.\n",
        "  autovectores4[i] = autovectores3[pos[i]]        # Autovectores ordenados.\n",
        "print('Los autovectores de la matriz de covarianza son:\\n',autovectores4)\n",
        "\n",
        "# Se ordenan los autovalores en formato vector.\n",
        "autovalores3.sort()                                # Se ordenan.\n",
        "autovalores3 = autovalores3[::-1]                  # Se ponen de mayor a menor."
      ],
      "metadata": {
        "colab": {
          "base_uri": "https://localhost:8080/"
        },
        "id": "HtMOhFrywI2o",
        "outputId": "a7d8b31f-8183-4357-d635-7c195796c844"
      },
      "execution_count": null,
      "outputs": [
        {
          "output_type": "stream",
          "name": "stdout",
          "text": [
            "Los autovectores de la matriz de covarianza son:\n",
            " [[ 0.45454125  0.15847313  0.37672419 -0.07820604  0.78451794  0.06908557]\n",
            " [ 0.45072878 -0.25198079 -0.491921    0.1067326  -0.02435867  0.69237113]\n",
            " [ 0.27935701  0.58087953  0.41315342 -0.17220602 -0.52392254  0.33119957]\n",
            " [ 0.48098891 -0.16852151 -0.23006595 -0.68447289 -0.16380914 -0.43815894]\n",
            " [ 0.42331653  0.38227978 -0.30437481  0.61163075 -0.07575687 -0.4496554 ]\n",
            " [ 0.31882326 -0.63200759  0.5475605   0.33202671 -0.277256   -0.10946693]]\n"
          ]
        }
      ]
    },
    {
      "cell_type": "markdown",
      "source": [
        "Se observa que los cambios de posición y signo, no son por la matriz de covarianza, ya que sus autovectores son iguales que los de la matriz de correlación. \n",
        "\n",
        "Entonces, debe ser resultado de los métodos de cálculo de la librería Scikit-learn de las componentes, y posiblemente de los autovalores asociados, como se comprobará en el siguiente paso."
      ],
      "metadata": {
        "id": "_bYBUyeTzFqR"
      }
    },
    {
      "cell_type": "markdown",
      "source": [
        "Con estos autovalores, se crean dataframes junto con la varianza normal y acumulada de cada uno.\n",
        "Estos resultados, se compararán con los autovalores y varianzas del PCA anterior, tanto con la matriz de correlación (que ya estaban calculados), como con los de la matriz de covarianza (que falta calcular las varianzas y crear los dataframes)"
      ],
      "metadata": {
        "id": "nOXbch1pwH9z"
      }
    },
    {
      "cell_type": "markdown",
      "source": [
        "- Varianza normal y acumulada del PCA Scikit-learn:"
      ],
      "metadata": {
        "id": "WCOZincsvvet"
      }
    },
    {
      "cell_type": "code",
      "source": [
        "# VECTORES NUMÉRICOS VARIANZA NORMAL Y ACUMULADA DE LOS AUTOVALORES NUEVO PCA\n",
        "# Vector con la varianza de los autovalores\n",
        "var_vector2 = PCA_alternativo.explained_variance_ratio_*100\n",
        "\n",
        "# Vector con la varianza acumulada de los autovalores\n",
        "var_ac_vector2 = var_vector2.copy()\n",
        "for i in range(len(indx)-1):\n",
        "  var_ac_vector2[i+1] = var_ac_vector2[i+1] + var_ac_vector2[i]\n",
        "\n",
        "\n",
        "#DATAFRAMES A PARTIR DE LOS VECTORES CREADOS\n",
        "# Autovalores en vector columna\n",
        "aux4=PCA_alternativo.explained_variance_.reshape(1, -1) \n",
        "\n",
        "# Dataframe con la varianza normal de los autovalores\n",
        "aux5=var_vector2.reshape(1, -1)            # Varianzas en vector columna\n",
        "var_matrix_ = np.concatenate((aux4,aux5))  # Matriz autovalores y sus varianzas\n",
        "var_matrix_2 = np.transpose(var_matrix_)   #Transpuesta\n",
        "var2 = pd.DataFrame(var_matrix_2, index=indx2, columns=['Autovalor','Varianza Normal(%)'])\n",
        "\n",
        "# Dataframe con la varianza acumulada de los autovalores\n",
        "aux6 = var_ac_vector2.reshape(1, -1)         # Var acumuladas en vector columna\n",
        "var_ac_matrix_ = np.concatenate((aux4,aux6))  # Matriz autovalores y sus varianzas\n",
        "var_ac_matrix_2 = np.transpose(var_ac_matrix_)   #Transpuesta\n",
        "var_ac2 = pd.DataFrame(var_ac_matrix_2, index=indx2, columns=['Autovalor','Varianza Acumulada(%)'])"
      ],
      "metadata": {
        "id": "xpEzsC70mTdJ"
      },
      "execution_count": null,
      "outputs": []
    },
    {
      "cell_type": "markdown",
      "source": [
        "- Varianza normal y acumulada con la matriz de covarianza calculada en el PCA anterior:"
      ],
      "metadata": {
        "id": "VxA4thcWsNAF"
      }
    },
    {
      "cell_type": "code",
      "source": [
        "# VECTORES NUMÉRICOS VARIANZA NORMAL Y ACUMULADA DE LOS AUTOVALORES\n",
        "# DEL PCA ANTERIOR, A PARTIR DE LA MATRIZ DE COVARIANZA\n",
        "\n",
        "# Vector con la varianza de los autovalores\n",
        "var_vector3 = autovalores3 * 100 / sum(autovalores3)\n",
        "\n",
        "# Vector con la varianza acumulada de los autovalores\n",
        "var_ac_vector3 = var_vector3.copy()\n",
        "for i in range(len(indx)-1):\n",
        "  var_ac_vector3[i+1] = var_ac_vector3[i+1] + var_ac_vector3[i]\n",
        "\n",
        "\n",
        "#DATAFRAMES A PARTIR DE LOS VECTORES CREADOS\n",
        "aux7=autovalores3.reshape(1, -1)            # Autovalores en vector columna\n",
        "\n",
        "# Dataframe con la varianza normal de los autovalores\n",
        "aux8=var_vector3.reshape(1, -1)             # Varianzas en vector columna\n",
        "var_matrix__ = np.concatenate((aux7,aux8))  # Matriz autovalores y sus varianzas\n",
        "var_matrix__2 = np.transpose(var_matrix__)   # Transpuesta\n",
        "var3 = pd.DataFrame(var_matrix__2, index=indx2, columns=['Autovalor','Varianza Normal(%)'])\n",
        "\n",
        "# Dataframe con la varianza acumulada de los autovalores\n",
        "aux9 = var_ac_vector3.reshape(1, -1)         # Var acumuladas en vector columna\n",
        "var_ac_matrix__ = np.concatenate((aux7,aux9))  # Matriz autovalores y sus varianzas\n",
        "var_ac_matrix__2 = np.transpose(var_ac_matrix__)  #Transpuesta\n",
        "var_ac3 = pd.DataFrame(var_ac_matrix__2, index=indx2, columns=['Autovalor','Varianza Acumulada(%)'])"
      ],
      "metadata": {
        "id": "-mQO-Ci1rLW1"
      },
      "execution_count": null,
      "outputs": []
    },
    {
      "cell_type": "markdown",
      "source": [
        "A continuación, se muestran los dataframes creados y se procede a compararlos."
      ],
      "metadata": {
        "id": "A4OG-Qigtbpn"
      }
    },
    {
      "cell_type": "markdown",
      "source": [
        "Con la varianza normal:"
      ],
      "metadata": {
        "id": "9ZQPKeW0t8GK"
      }
    },
    {
      "cell_type": "markdown",
      "source": [
        "- Varianza normal de los autovalores del PCA con Scikit-learn:"
      ],
      "metadata": {
        "id": "Jf8S3xZWo3_S"
      }
    },
    {
      "cell_type": "code",
      "source": [
        "var2.head(6)"
      ],
      "metadata": {
        "colab": {
          "base_uri": "https://localhost:8080/",
          "height": 238
        },
        "id": "EV07_0pnonWg",
        "outputId": "c778fbd3-899c-4df6-d20d-ab76a3b03831"
      },
      "execution_count": null,
      "outputs": [
        {
          "output_type": "execute_result",
          "data": {
            "text/plain": [
              "              Autovalor  Varianza Normal(%)\n",
              "Componente 1   2.629979           41.641341\n",
              "Componente 2   1.550661           24.552140\n",
              "Componente 3   0.780824           12.363041\n",
              "Componente 4   0.715521           11.329090\n",
              "Componente 5   0.474598            7.514464\n",
              "Componente 6   0.164206            2.599924"
            ],
            "text/html": [
              "\n",
              "  <div id=\"df-4b86281b-853d-460c-819f-037f4a0b3f32\">\n",
              "    <div class=\"colab-df-container\">\n",
              "      <div>\n",
              "<style scoped>\n",
              "    .dataframe tbody tr th:only-of-type {\n",
              "        vertical-align: middle;\n",
              "    }\n",
              "\n",
              "    .dataframe tbody tr th {\n",
              "        vertical-align: top;\n",
              "    }\n",
              "\n",
              "    .dataframe thead th {\n",
              "        text-align: right;\n",
              "    }\n",
              "</style>\n",
              "<table border=\"1\" class=\"dataframe\">\n",
              "  <thead>\n",
              "    <tr style=\"text-align: right;\">\n",
              "      <th></th>\n",
              "      <th>Autovalor</th>\n",
              "      <th>Varianza Normal(%)</th>\n",
              "    </tr>\n",
              "  </thead>\n",
              "  <tbody>\n",
              "    <tr>\n",
              "      <th>Componente 1</th>\n",
              "      <td>2.629979</td>\n",
              "      <td>41.641341</td>\n",
              "    </tr>\n",
              "    <tr>\n",
              "      <th>Componente 2</th>\n",
              "      <td>1.550661</td>\n",
              "      <td>24.552140</td>\n",
              "    </tr>\n",
              "    <tr>\n",
              "      <th>Componente 3</th>\n",
              "      <td>0.780824</td>\n",
              "      <td>12.363041</td>\n",
              "    </tr>\n",
              "    <tr>\n",
              "      <th>Componente 4</th>\n",
              "      <td>0.715521</td>\n",
              "      <td>11.329090</td>\n",
              "    </tr>\n",
              "    <tr>\n",
              "      <th>Componente 5</th>\n",
              "      <td>0.474598</td>\n",
              "      <td>7.514464</td>\n",
              "    </tr>\n",
              "    <tr>\n",
              "      <th>Componente 6</th>\n",
              "      <td>0.164206</td>\n",
              "      <td>2.599924</td>\n",
              "    </tr>\n",
              "  </tbody>\n",
              "</table>\n",
              "</div>\n",
              "      <button class=\"colab-df-convert\" onclick=\"convertToInteractive('df-4b86281b-853d-460c-819f-037f4a0b3f32')\"\n",
              "              title=\"Convert this dataframe to an interactive table.\"\n",
              "              style=\"display:none;\">\n",
              "        \n",
              "  <svg xmlns=\"http://www.w3.org/2000/svg\" height=\"24px\"viewBox=\"0 0 24 24\"\n",
              "       width=\"24px\">\n",
              "    <path d=\"M0 0h24v24H0V0z\" fill=\"none\"/>\n",
              "    <path d=\"M18.56 5.44l.94 2.06.94-2.06 2.06-.94-2.06-.94-.94-2.06-.94 2.06-2.06.94zm-11 1L8.5 8.5l.94-2.06 2.06-.94-2.06-.94L8.5 2.5l-.94 2.06-2.06.94zm10 10l.94 2.06.94-2.06 2.06-.94-2.06-.94-.94-2.06-.94 2.06-2.06.94z\"/><path d=\"M17.41 7.96l-1.37-1.37c-.4-.4-.92-.59-1.43-.59-.52 0-1.04.2-1.43.59L10.3 9.45l-7.72 7.72c-.78.78-.78 2.05 0 2.83L4 21.41c.39.39.9.59 1.41.59.51 0 1.02-.2 1.41-.59l7.78-7.78 2.81-2.81c.8-.78.8-2.07 0-2.86zM5.41 20L4 18.59l7.72-7.72 1.47 1.35L5.41 20z\"/>\n",
              "  </svg>\n",
              "      </button>\n",
              "      \n",
              "  <style>\n",
              "    .colab-df-container {\n",
              "      display:flex;\n",
              "      flex-wrap:wrap;\n",
              "      gap: 12px;\n",
              "    }\n",
              "\n",
              "    .colab-df-convert {\n",
              "      background-color: #E8F0FE;\n",
              "      border: none;\n",
              "      border-radius: 50%;\n",
              "      cursor: pointer;\n",
              "      display: none;\n",
              "      fill: #1967D2;\n",
              "      height: 32px;\n",
              "      padding: 0 0 0 0;\n",
              "      width: 32px;\n",
              "    }\n",
              "\n",
              "    .colab-df-convert:hover {\n",
              "      background-color: #E2EBFA;\n",
              "      box-shadow: 0px 1px 2px rgba(60, 64, 67, 0.3), 0px 1px 3px 1px rgba(60, 64, 67, 0.15);\n",
              "      fill: #174EA6;\n",
              "    }\n",
              "\n",
              "    [theme=dark] .colab-df-convert {\n",
              "      background-color: #3B4455;\n",
              "      fill: #D2E3FC;\n",
              "    }\n",
              "\n",
              "    [theme=dark] .colab-df-convert:hover {\n",
              "      background-color: #434B5C;\n",
              "      box-shadow: 0px 1px 3px 1px rgba(0, 0, 0, 0.15);\n",
              "      filter: drop-shadow(0px 1px 2px rgba(0, 0, 0, 0.3));\n",
              "      fill: #FFFFFF;\n",
              "    }\n",
              "  </style>\n",
              "\n",
              "      <script>\n",
              "        const buttonEl =\n",
              "          document.querySelector('#df-4b86281b-853d-460c-819f-037f4a0b3f32 button.colab-df-convert');\n",
              "        buttonEl.style.display =\n",
              "          google.colab.kernel.accessAllowed ? 'block' : 'none';\n",
              "\n",
              "        async function convertToInteractive(key) {\n",
              "          const element = document.querySelector('#df-4b86281b-853d-460c-819f-037f4a0b3f32');\n",
              "          const dataTable =\n",
              "            await google.colab.kernel.invokeFunction('convertToInteractive',\n",
              "                                                     [key], {});\n",
              "          if (!dataTable) return;\n",
              "\n",
              "          const docLinkHtml = 'Like what you see? Visit the ' +\n",
              "            '<a target=\"_blank\" href=https://colab.research.google.com/notebooks/data_table.ipynb>data table notebook</a>'\n",
              "            + ' to learn more about interactive tables.';\n",
              "          element.innerHTML = '';\n",
              "          dataTable['output_type'] = 'display_data';\n",
              "          await google.colab.output.renderOutput(dataTable, element);\n",
              "          const docLink = document.createElement('div');\n",
              "          docLink.innerHTML = docLinkHtml;\n",
              "          element.appendChild(docLink);\n",
              "        }\n",
              "      </script>\n",
              "    </div>\n",
              "  </div>\n",
              "  "
            ]
          },
          "metadata": {},
          "execution_count": 31
        }
      ]
    },
    {
      "cell_type": "markdown",
      "source": [
        "- Varianza normal de los autovalores de la matriz de correlación calculada en el PCA anterior:"
      ],
      "metadata": {
        "id": "rM6j_OXGpAkz"
      }
    },
    {
      "cell_type": "code",
      "source": [
        "var.head(6)"
      ],
      "metadata": {
        "colab": {
          "base_uri": "https://localhost:8080/",
          "height": 238
        },
        "id": "wRqKySt1pEmn",
        "outputId": "49bc4cdb-3ea2-4044-e070-aab666112d58"
      },
      "execution_count": null,
      "outputs": [
        {
          "output_type": "execute_result",
          "data": {
            "text/plain": [
              "              Autovalor  Varianza Normal(%)\n",
              "Componente 1   2.498480           41.641341\n",
              "Componente 2   1.473128           24.552140\n",
              "Componente 3   0.741782           12.363041\n",
              "Componente 4   0.679745           11.329090\n",
              "Componente 5   0.450868            7.514464\n",
              "Componente 6   0.155995            2.599924"
            ],
            "text/html": [
              "\n",
              "  <div id=\"df-c791a5f7-b358-4931-9f10-f8dba30a1eb6\">\n",
              "    <div class=\"colab-df-container\">\n",
              "      <div>\n",
              "<style scoped>\n",
              "    .dataframe tbody tr th:only-of-type {\n",
              "        vertical-align: middle;\n",
              "    }\n",
              "\n",
              "    .dataframe tbody tr th {\n",
              "        vertical-align: top;\n",
              "    }\n",
              "\n",
              "    .dataframe thead th {\n",
              "        text-align: right;\n",
              "    }\n",
              "</style>\n",
              "<table border=\"1\" class=\"dataframe\">\n",
              "  <thead>\n",
              "    <tr style=\"text-align: right;\">\n",
              "      <th></th>\n",
              "      <th>Autovalor</th>\n",
              "      <th>Varianza Normal(%)</th>\n",
              "    </tr>\n",
              "  </thead>\n",
              "  <tbody>\n",
              "    <tr>\n",
              "      <th>Componente 1</th>\n",
              "      <td>2.498480</td>\n",
              "      <td>41.641341</td>\n",
              "    </tr>\n",
              "    <tr>\n",
              "      <th>Componente 2</th>\n",
              "      <td>1.473128</td>\n",
              "      <td>24.552140</td>\n",
              "    </tr>\n",
              "    <tr>\n",
              "      <th>Componente 3</th>\n",
              "      <td>0.741782</td>\n",
              "      <td>12.363041</td>\n",
              "    </tr>\n",
              "    <tr>\n",
              "      <th>Componente 4</th>\n",
              "      <td>0.679745</td>\n",
              "      <td>11.329090</td>\n",
              "    </tr>\n",
              "    <tr>\n",
              "      <th>Componente 5</th>\n",
              "      <td>0.450868</td>\n",
              "      <td>7.514464</td>\n",
              "    </tr>\n",
              "    <tr>\n",
              "      <th>Componente 6</th>\n",
              "      <td>0.155995</td>\n",
              "      <td>2.599924</td>\n",
              "    </tr>\n",
              "  </tbody>\n",
              "</table>\n",
              "</div>\n",
              "      <button class=\"colab-df-convert\" onclick=\"convertToInteractive('df-c791a5f7-b358-4931-9f10-f8dba30a1eb6')\"\n",
              "              title=\"Convert this dataframe to an interactive table.\"\n",
              "              style=\"display:none;\">\n",
              "        \n",
              "  <svg xmlns=\"http://www.w3.org/2000/svg\" height=\"24px\"viewBox=\"0 0 24 24\"\n",
              "       width=\"24px\">\n",
              "    <path d=\"M0 0h24v24H0V0z\" fill=\"none\"/>\n",
              "    <path d=\"M18.56 5.44l.94 2.06.94-2.06 2.06-.94-2.06-.94-.94-2.06-.94 2.06-2.06.94zm-11 1L8.5 8.5l.94-2.06 2.06-.94-2.06-.94L8.5 2.5l-.94 2.06-2.06.94zm10 10l.94 2.06.94-2.06 2.06-.94-2.06-.94-.94-2.06-.94 2.06-2.06.94z\"/><path d=\"M17.41 7.96l-1.37-1.37c-.4-.4-.92-.59-1.43-.59-.52 0-1.04.2-1.43.59L10.3 9.45l-7.72 7.72c-.78.78-.78 2.05 0 2.83L4 21.41c.39.39.9.59 1.41.59.51 0 1.02-.2 1.41-.59l7.78-7.78 2.81-2.81c.8-.78.8-2.07 0-2.86zM5.41 20L4 18.59l7.72-7.72 1.47 1.35L5.41 20z\"/>\n",
              "  </svg>\n",
              "      </button>\n",
              "      \n",
              "  <style>\n",
              "    .colab-df-container {\n",
              "      display:flex;\n",
              "      flex-wrap:wrap;\n",
              "      gap: 12px;\n",
              "    }\n",
              "\n",
              "    .colab-df-convert {\n",
              "      background-color: #E8F0FE;\n",
              "      border: none;\n",
              "      border-radius: 50%;\n",
              "      cursor: pointer;\n",
              "      display: none;\n",
              "      fill: #1967D2;\n",
              "      height: 32px;\n",
              "      padding: 0 0 0 0;\n",
              "      width: 32px;\n",
              "    }\n",
              "\n",
              "    .colab-df-convert:hover {\n",
              "      background-color: #E2EBFA;\n",
              "      box-shadow: 0px 1px 2px rgba(60, 64, 67, 0.3), 0px 1px 3px 1px rgba(60, 64, 67, 0.15);\n",
              "      fill: #174EA6;\n",
              "    }\n",
              "\n",
              "    [theme=dark] .colab-df-convert {\n",
              "      background-color: #3B4455;\n",
              "      fill: #D2E3FC;\n",
              "    }\n",
              "\n",
              "    [theme=dark] .colab-df-convert:hover {\n",
              "      background-color: #434B5C;\n",
              "      box-shadow: 0px 1px 3px 1px rgba(0, 0, 0, 0.15);\n",
              "      filter: drop-shadow(0px 1px 2px rgba(0, 0, 0, 0.3));\n",
              "      fill: #FFFFFF;\n",
              "    }\n",
              "  </style>\n",
              "\n",
              "      <script>\n",
              "        const buttonEl =\n",
              "          document.querySelector('#df-c791a5f7-b358-4931-9f10-f8dba30a1eb6 button.colab-df-convert');\n",
              "        buttonEl.style.display =\n",
              "          google.colab.kernel.accessAllowed ? 'block' : 'none';\n",
              "\n",
              "        async function convertToInteractive(key) {\n",
              "          const element = document.querySelector('#df-c791a5f7-b358-4931-9f10-f8dba30a1eb6');\n",
              "          const dataTable =\n",
              "            await google.colab.kernel.invokeFunction('convertToInteractive',\n",
              "                                                     [key], {});\n",
              "          if (!dataTable) return;\n",
              "\n",
              "          const docLinkHtml = 'Like what you see? Visit the ' +\n",
              "            '<a target=\"_blank\" href=https://colab.research.google.com/notebooks/data_table.ipynb>data table notebook</a>'\n",
              "            + ' to learn more about interactive tables.';\n",
              "          element.innerHTML = '';\n",
              "          dataTable['output_type'] = 'display_data';\n",
              "          await google.colab.output.renderOutput(dataTable, element);\n",
              "          const docLink = document.createElement('div');\n",
              "          docLink.innerHTML = docLinkHtml;\n",
              "          element.appendChild(docLink);\n",
              "        }\n",
              "      </script>\n",
              "    </div>\n",
              "  </div>\n",
              "  "
            ]
          },
          "metadata": {},
          "execution_count": 32
        }
      ]
    },
    {
      "cell_type": "markdown",
      "source": [
        "- Varianza normal de los autovalores de la matriz de covarianza calculada en el PCA anterior:"
      ],
      "metadata": {
        "id": "oTxecP-RuQeO"
      }
    },
    {
      "cell_type": "code",
      "source": [
        "var3.head(6)"
      ],
      "metadata": {
        "colab": {
          "base_uri": "https://localhost:8080/",
          "height": 238
        },
        "outputId": "b82d589e-a297-45cd-9051-0ce3886b9234",
        "id": "Ss_HAkzuuQeO"
      },
      "execution_count": null,
      "outputs": [
        {
          "output_type": "execute_result",
          "data": {
            "text/plain": [
              "              Autovalor  Varianza Normal(%)\n",
              "Componente 1   2.629979           41.641341\n",
              "Componente 2   1.550661           24.552140\n",
              "Componente 3   0.780824           12.363041\n",
              "Componente 4   0.715521           11.329090\n",
              "Componente 5   0.474598            7.514464\n",
              "Componente 6   0.164206            2.599924"
            ],
            "text/html": [
              "\n",
              "  <div id=\"df-c7927d23-86d3-45ad-aad7-3956c6764489\">\n",
              "    <div class=\"colab-df-container\">\n",
              "      <div>\n",
              "<style scoped>\n",
              "    .dataframe tbody tr th:only-of-type {\n",
              "        vertical-align: middle;\n",
              "    }\n",
              "\n",
              "    .dataframe tbody tr th {\n",
              "        vertical-align: top;\n",
              "    }\n",
              "\n",
              "    .dataframe thead th {\n",
              "        text-align: right;\n",
              "    }\n",
              "</style>\n",
              "<table border=\"1\" class=\"dataframe\">\n",
              "  <thead>\n",
              "    <tr style=\"text-align: right;\">\n",
              "      <th></th>\n",
              "      <th>Autovalor</th>\n",
              "      <th>Varianza Normal(%)</th>\n",
              "    </tr>\n",
              "  </thead>\n",
              "  <tbody>\n",
              "    <tr>\n",
              "      <th>Componente 1</th>\n",
              "      <td>2.629979</td>\n",
              "      <td>41.641341</td>\n",
              "    </tr>\n",
              "    <tr>\n",
              "      <th>Componente 2</th>\n",
              "      <td>1.550661</td>\n",
              "      <td>24.552140</td>\n",
              "    </tr>\n",
              "    <tr>\n",
              "      <th>Componente 3</th>\n",
              "      <td>0.780824</td>\n",
              "      <td>12.363041</td>\n",
              "    </tr>\n",
              "    <tr>\n",
              "      <th>Componente 4</th>\n",
              "      <td>0.715521</td>\n",
              "      <td>11.329090</td>\n",
              "    </tr>\n",
              "    <tr>\n",
              "      <th>Componente 5</th>\n",
              "      <td>0.474598</td>\n",
              "      <td>7.514464</td>\n",
              "    </tr>\n",
              "    <tr>\n",
              "      <th>Componente 6</th>\n",
              "      <td>0.164206</td>\n",
              "      <td>2.599924</td>\n",
              "    </tr>\n",
              "  </tbody>\n",
              "</table>\n",
              "</div>\n",
              "      <button class=\"colab-df-convert\" onclick=\"convertToInteractive('df-c7927d23-86d3-45ad-aad7-3956c6764489')\"\n",
              "              title=\"Convert this dataframe to an interactive table.\"\n",
              "              style=\"display:none;\">\n",
              "        \n",
              "  <svg xmlns=\"http://www.w3.org/2000/svg\" height=\"24px\"viewBox=\"0 0 24 24\"\n",
              "       width=\"24px\">\n",
              "    <path d=\"M0 0h24v24H0V0z\" fill=\"none\"/>\n",
              "    <path d=\"M18.56 5.44l.94 2.06.94-2.06 2.06-.94-2.06-.94-.94-2.06-.94 2.06-2.06.94zm-11 1L8.5 8.5l.94-2.06 2.06-.94-2.06-.94L8.5 2.5l-.94 2.06-2.06.94zm10 10l.94 2.06.94-2.06 2.06-.94-2.06-.94-.94-2.06-.94 2.06-2.06.94z\"/><path d=\"M17.41 7.96l-1.37-1.37c-.4-.4-.92-.59-1.43-.59-.52 0-1.04.2-1.43.59L10.3 9.45l-7.72 7.72c-.78.78-.78 2.05 0 2.83L4 21.41c.39.39.9.59 1.41.59.51 0 1.02-.2 1.41-.59l7.78-7.78 2.81-2.81c.8-.78.8-2.07 0-2.86zM5.41 20L4 18.59l7.72-7.72 1.47 1.35L5.41 20z\"/>\n",
              "  </svg>\n",
              "      </button>\n",
              "      \n",
              "  <style>\n",
              "    .colab-df-container {\n",
              "      display:flex;\n",
              "      flex-wrap:wrap;\n",
              "      gap: 12px;\n",
              "    }\n",
              "\n",
              "    .colab-df-convert {\n",
              "      background-color: #E8F0FE;\n",
              "      border: none;\n",
              "      border-radius: 50%;\n",
              "      cursor: pointer;\n",
              "      display: none;\n",
              "      fill: #1967D2;\n",
              "      height: 32px;\n",
              "      padding: 0 0 0 0;\n",
              "      width: 32px;\n",
              "    }\n",
              "\n",
              "    .colab-df-convert:hover {\n",
              "      background-color: #E2EBFA;\n",
              "      box-shadow: 0px 1px 2px rgba(60, 64, 67, 0.3), 0px 1px 3px 1px rgba(60, 64, 67, 0.15);\n",
              "      fill: #174EA6;\n",
              "    }\n",
              "\n",
              "    [theme=dark] .colab-df-convert {\n",
              "      background-color: #3B4455;\n",
              "      fill: #D2E3FC;\n",
              "    }\n",
              "\n",
              "    [theme=dark] .colab-df-convert:hover {\n",
              "      background-color: #434B5C;\n",
              "      box-shadow: 0px 1px 3px 1px rgba(0, 0, 0, 0.15);\n",
              "      filter: drop-shadow(0px 1px 2px rgba(0, 0, 0, 0.3));\n",
              "      fill: #FFFFFF;\n",
              "    }\n",
              "  </style>\n",
              "\n",
              "      <script>\n",
              "        const buttonEl =\n",
              "          document.querySelector('#df-c7927d23-86d3-45ad-aad7-3956c6764489 button.colab-df-convert');\n",
              "        buttonEl.style.display =\n",
              "          google.colab.kernel.accessAllowed ? 'block' : 'none';\n",
              "\n",
              "        async function convertToInteractive(key) {\n",
              "          const element = document.querySelector('#df-c7927d23-86d3-45ad-aad7-3956c6764489');\n",
              "          const dataTable =\n",
              "            await google.colab.kernel.invokeFunction('convertToInteractive',\n",
              "                                                     [key], {});\n",
              "          if (!dataTable) return;\n",
              "\n",
              "          const docLinkHtml = 'Like what you see? Visit the ' +\n",
              "            '<a target=\"_blank\" href=https://colab.research.google.com/notebooks/data_table.ipynb>data table notebook</a>'\n",
              "            + ' to learn more about interactive tables.';\n",
              "          element.innerHTML = '';\n",
              "          dataTable['output_type'] = 'display_data';\n",
              "          await google.colab.output.renderOutput(dataTable, element);\n",
              "          const docLink = document.createElement('div');\n",
              "          docLink.innerHTML = docLinkHtml;\n",
              "          element.appendChild(docLink);\n",
              "        }\n",
              "      </script>\n",
              "    </div>\n",
              "  </div>\n",
              "  "
            ]
          },
          "metadata": {},
          "execution_count": 33
        }
      ]
    },
    {
      "cell_type": "markdown",
      "source": [
        "\n",
        "Con la varianza acumulada:"
      ],
      "metadata": {
        "id": "526AM22euBeP"
      }
    },
    {
      "cell_type": "markdown",
      "source": [
        "- Varianza acumulada de los autovalores del PCA con Scikit-learn:"
      ],
      "metadata": {
        "id": "P6yTorIZpQ97"
      }
    },
    {
      "cell_type": "code",
      "source": [
        "var_ac2.head(6)"
      ],
      "metadata": {
        "colab": {
          "base_uri": "https://localhost:8080/",
          "height": 238
        },
        "id": "TtSsVdG8oqNE",
        "outputId": "46f1a60a-07a9-4de1-eb8e-7410b72d04c1"
      },
      "execution_count": null,
      "outputs": [
        {
          "output_type": "execute_result",
          "data": {
            "text/plain": [
              "              Autovalor  Varianza Acumulada(%)\n",
              "Componente 1   2.629979              41.641341\n",
              "Componente 2   1.550661              66.193481\n",
              "Componente 3   0.780824              78.556522\n",
              "Componente 4   0.715521              89.885612\n",
              "Componente 5   0.474598              97.400076\n",
              "Componente 6   0.164206             100.000000"
            ],
            "text/html": [
              "\n",
              "  <div id=\"df-eb6a1e0e-1841-4009-b055-d5c89bfa5980\">\n",
              "    <div class=\"colab-df-container\">\n",
              "      <div>\n",
              "<style scoped>\n",
              "    .dataframe tbody tr th:only-of-type {\n",
              "        vertical-align: middle;\n",
              "    }\n",
              "\n",
              "    .dataframe tbody tr th {\n",
              "        vertical-align: top;\n",
              "    }\n",
              "\n",
              "    .dataframe thead th {\n",
              "        text-align: right;\n",
              "    }\n",
              "</style>\n",
              "<table border=\"1\" class=\"dataframe\">\n",
              "  <thead>\n",
              "    <tr style=\"text-align: right;\">\n",
              "      <th></th>\n",
              "      <th>Autovalor</th>\n",
              "      <th>Varianza Acumulada(%)</th>\n",
              "    </tr>\n",
              "  </thead>\n",
              "  <tbody>\n",
              "    <tr>\n",
              "      <th>Componente 1</th>\n",
              "      <td>2.629979</td>\n",
              "      <td>41.641341</td>\n",
              "    </tr>\n",
              "    <tr>\n",
              "      <th>Componente 2</th>\n",
              "      <td>1.550661</td>\n",
              "      <td>66.193481</td>\n",
              "    </tr>\n",
              "    <tr>\n",
              "      <th>Componente 3</th>\n",
              "      <td>0.780824</td>\n",
              "      <td>78.556522</td>\n",
              "    </tr>\n",
              "    <tr>\n",
              "      <th>Componente 4</th>\n",
              "      <td>0.715521</td>\n",
              "      <td>89.885612</td>\n",
              "    </tr>\n",
              "    <tr>\n",
              "      <th>Componente 5</th>\n",
              "      <td>0.474598</td>\n",
              "      <td>97.400076</td>\n",
              "    </tr>\n",
              "    <tr>\n",
              "      <th>Componente 6</th>\n",
              "      <td>0.164206</td>\n",
              "      <td>100.000000</td>\n",
              "    </tr>\n",
              "  </tbody>\n",
              "</table>\n",
              "</div>\n",
              "      <button class=\"colab-df-convert\" onclick=\"convertToInteractive('df-eb6a1e0e-1841-4009-b055-d5c89bfa5980')\"\n",
              "              title=\"Convert this dataframe to an interactive table.\"\n",
              "              style=\"display:none;\">\n",
              "        \n",
              "  <svg xmlns=\"http://www.w3.org/2000/svg\" height=\"24px\"viewBox=\"0 0 24 24\"\n",
              "       width=\"24px\">\n",
              "    <path d=\"M0 0h24v24H0V0z\" fill=\"none\"/>\n",
              "    <path d=\"M18.56 5.44l.94 2.06.94-2.06 2.06-.94-2.06-.94-.94-2.06-.94 2.06-2.06.94zm-11 1L8.5 8.5l.94-2.06 2.06-.94-2.06-.94L8.5 2.5l-.94 2.06-2.06.94zm10 10l.94 2.06.94-2.06 2.06-.94-2.06-.94-.94-2.06-.94 2.06-2.06.94z\"/><path d=\"M17.41 7.96l-1.37-1.37c-.4-.4-.92-.59-1.43-.59-.52 0-1.04.2-1.43.59L10.3 9.45l-7.72 7.72c-.78.78-.78 2.05 0 2.83L4 21.41c.39.39.9.59 1.41.59.51 0 1.02-.2 1.41-.59l7.78-7.78 2.81-2.81c.8-.78.8-2.07 0-2.86zM5.41 20L4 18.59l7.72-7.72 1.47 1.35L5.41 20z\"/>\n",
              "  </svg>\n",
              "      </button>\n",
              "      \n",
              "  <style>\n",
              "    .colab-df-container {\n",
              "      display:flex;\n",
              "      flex-wrap:wrap;\n",
              "      gap: 12px;\n",
              "    }\n",
              "\n",
              "    .colab-df-convert {\n",
              "      background-color: #E8F0FE;\n",
              "      border: none;\n",
              "      border-radius: 50%;\n",
              "      cursor: pointer;\n",
              "      display: none;\n",
              "      fill: #1967D2;\n",
              "      height: 32px;\n",
              "      padding: 0 0 0 0;\n",
              "      width: 32px;\n",
              "    }\n",
              "\n",
              "    .colab-df-convert:hover {\n",
              "      background-color: #E2EBFA;\n",
              "      box-shadow: 0px 1px 2px rgba(60, 64, 67, 0.3), 0px 1px 3px 1px rgba(60, 64, 67, 0.15);\n",
              "      fill: #174EA6;\n",
              "    }\n",
              "\n",
              "    [theme=dark] .colab-df-convert {\n",
              "      background-color: #3B4455;\n",
              "      fill: #D2E3FC;\n",
              "    }\n",
              "\n",
              "    [theme=dark] .colab-df-convert:hover {\n",
              "      background-color: #434B5C;\n",
              "      box-shadow: 0px 1px 3px 1px rgba(0, 0, 0, 0.15);\n",
              "      filter: drop-shadow(0px 1px 2px rgba(0, 0, 0, 0.3));\n",
              "      fill: #FFFFFF;\n",
              "    }\n",
              "  </style>\n",
              "\n",
              "      <script>\n",
              "        const buttonEl =\n",
              "          document.querySelector('#df-eb6a1e0e-1841-4009-b055-d5c89bfa5980 button.colab-df-convert');\n",
              "        buttonEl.style.display =\n",
              "          google.colab.kernel.accessAllowed ? 'block' : 'none';\n",
              "\n",
              "        async function convertToInteractive(key) {\n",
              "          const element = document.querySelector('#df-eb6a1e0e-1841-4009-b055-d5c89bfa5980');\n",
              "          const dataTable =\n",
              "            await google.colab.kernel.invokeFunction('convertToInteractive',\n",
              "                                                     [key], {});\n",
              "          if (!dataTable) return;\n",
              "\n",
              "          const docLinkHtml = 'Like what you see? Visit the ' +\n",
              "            '<a target=\"_blank\" href=https://colab.research.google.com/notebooks/data_table.ipynb>data table notebook</a>'\n",
              "            + ' to learn more about interactive tables.';\n",
              "          element.innerHTML = '';\n",
              "          dataTable['output_type'] = 'display_data';\n",
              "          await google.colab.output.renderOutput(dataTable, element);\n",
              "          const docLink = document.createElement('div');\n",
              "          docLink.innerHTML = docLinkHtml;\n",
              "          element.appendChild(docLink);\n",
              "        }\n",
              "      </script>\n",
              "    </div>\n",
              "  </div>\n",
              "  "
            ]
          },
          "metadata": {},
          "execution_count": 34
        }
      ]
    },
    {
      "cell_type": "markdown",
      "source": [
        "- Varianza acumulada autovalores de la matriz de correlación calculada en el PCA anterior:"
      ],
      "metadata": {
        "id": "9RtticpUpcrz"
      }
    },
    {
      "cell_type": "code",
      "source": [
        "var_ac.head(6)"
      ],
      "metadata": {
        "colab": {
          "base_uri": "https://localhost:8080/",
          "height": 238
        },
        "id": "3woGjHd3pg7K",
        "outputId": "262b5acb-e3cb-4043-af5c-1ebed68bf1bd"
      },
      "execution_count": null,
      "outputs": [
        {
          "output_type": "execute_result",
          "data": {
            "text/plain": [
              "              Autovalor  Varianza Acumulada(%)\n",
              "Componente 1   2.498480              41.641341\n",
              "Componente 2   1.473128              66.193481\n",
              "Componente 3   0.741782              78.556522\n",
              "Componente 4   0.679745              89.885612\n",
              "Componente 5   0.450868              97.400076\n",
              "Componente 6   0.155995             100.000000"
            ],
            "text/html": [
              "\n",
              "  <div id=\"df-54051b50-800b-4180-9446-ef5055224e3f\">\n",
              "    <div class=\"colab-df-container\">\n",
              "      <div>\n",
              "<style scoped>\n",
              "    .dataframe tbody tr th:only-of-type {\n",
              "        vertical-align: middle;\n",
              "    }\n",
              "\n",
              "    .dataframe tbody tr th {\n",
              "        vertical-align: top;\n",
              "    }\n",
              "\n",
              "    .dataframe thead th {\n",
              "        text-align: right;\n",
              "    }\n",
              "</style>\n",
              "<table border=\"1\" class=\"dataframe\">\n",
              "  <thead>\n",
              "    <tr style=\"text-align: right;\">\n",
              "      <th></th>\n",
              "      <th>Autovalor</th>\n",
              "      <th>Varianza Acumulada(%)</th>\n",
              "    </tr>\n",
              "  </thead>\n",
              "  <tbody>\n",
              "    <tr>\n",
              "      <th>Componente 1</th>\n",
              "      <td>2.498480</td>\n",
              "      <td>41.641341</td>\n",
              "    </tr>\n",
              "    <tr>\n",
              "      <th>Componente 2</th>\n",
              "      <td>1.473128</td>\n",
              "      <td>66.193481</td>\n",
              "    </tr>\n",
              "    <tr>\n",
              "      <th>Componente 3</th>\n",
              "      <td>0.741782</td>\n",
              "      <td>78.556522</td>\n",
              "    </tr>\n",
              "    <tr>\n",
              "      <th>Componente 4</th>\n",
              "      <td>0.679745</td>\n",
              "      <td>89.885612</td>\n",
              "    </tr>\n",
              "    <tr>\n",
              "      <th>Componente 5</th>\n",
              "      <td>0.450868</td>\n",
              "      <td>97.400076</td>\n",
              "    </tr>\n",
              "    <tr>\n",
              "      <th>Componente 6</th>\n",
              "      <td>0.155995</td>\n",
              "      <td>100.000000</td>\n",
              "    </tr>\n",
              "  </tbody>\n",
              "</table>\n",
              "</div>\n",
              "      <button class=\"colab-df-convert\" onclick=\"convertToInteractive('df-54051b50-800b-4180-9446-ef5055224e3f')\"\n",
              "              title=\"Convert this dataframe to an interactive table.\"\n",
              "              style=\"display:none;\">\n",
              "        \n",
              "  <svg xmlns=\"http://www.w3.org/2000/svg\" height=\"24px\"viewBox=\"0 0 24 24\"\n",
              "       width=\"24px\">\n",
              "    <path d=\"M0 0h24v24H0V0z\" fill=\"none\"/>\n",
              "    <path d=\"M18.56 5.44l.94 2.06.94-2.06 2.06-.94-2.06-.94-.94-2.06-.94 2.06-2.06.94zm-11 1L8.5 8.5l.94-2.06 2.06-.94-2.06-.94L8.5 2.5l-.94 2.06-2.06.94zm10 10l.94 2.06.94-2.06 2.06-.94-2.06-.94-.94-2.06-.94 2.06-2.06.94z\"/><path d=\"M17.41 7.96l-1.37-1.37c-.4-.4-.92-.59-1.43-.59-.52 0-1.04.2-1.43.59L10.3 9.45l-7.72 7.72c-.78.78-.78 2.05 0 2.83L4 21.41c.39.39.9.59 1.41.59.51 0 1.02-.2 1.41-.59l7.78-7.78 2.81-2.81c.8-.78.8-2.07 0-2.86zM5.41 20L4 18.59l7.72-7.72 1.47 1.35L5.41 20z\"/>\n",
              "  </svg>\n",
              "      </button>\n",
              "      \n",
              "  <style>\n",
              "    .colab-df-container {\n",
              "      display:flex;\n",
              "      flex-wrap:wrap;\n",
              "      gap: 12px;\n",
              "    }\n",
              "\n",
              "    .colab-df-convert {\n",
              "      background-color: #E8F0FE;\n",
              "      border: none;\n",
              "      border-radius: 50%;\n",
              "      cursor: pointer;\n",
              "      display: none;\n",
              "      fill: #1967D2;\n",
              "      height: 32px;\n",
              "      padding: 0 0 0 0;\n",
              "      width: 32px;\n",
              "    }\n",
              "\n",
              "    .colab-df-convert:hover {\n",
              "      background-color: #E2EBFA;\n",
              "      box-shadow: 0px 1px 2px rgba(60, 64, 67, 0.3), 0px 1px 3px 1px rgba(60, 64, 67, 0.15);\n",
              "      fill: #174EA6;\n",
              "    }\n",
              "\n",
              "    [theme=dark] .colab-df-convert {\n",
              "      background-color: #3B4455;\n",
              "      fill: #D2E3FC;\n",
              "    }\n",
              "\n",
              "    [theme=dark] .colab-df-convert:hover {\n",
              "      background-color: #434B5C;\n",
              "      box-shadow: 0px 1px 3px 1px rgba(0, 0, 0, 0.15);\n",
              "      filter: drop-shadow(0px 1px 2px rgba(0, 0, 0, 0.3));\n",
              "      fill: #FFFFFF;\n",
              "    }\n",
              "  </style>\n",
              "\n",
              "      <script>\n",
              "        const buttonEl =\n",
              "          document.querySelector('#df-54051b50-800b-4180-9446-ef5055224e3f button.colab-df-convert');\n",
              "        buttonEl.style.display =\n",
              "          google.colab.kernel.accessAllowed ? 'block' : 'none';\n",
              "\n",
              "        async function convertToInteractive(key) {\n",
              "          const element = document.querySelector('#df-54051b50-800b-4180-9446-ef5055224e3f');\n",
              "          const dataTable =\n",
              "            await google.colab.kernel.invokeFunction('convertToInteractive',\n",
              "                                                     [key], {});\n",
              "          if (!dataTable) return;\n",
              "\n",
              "          const docLinkHtml = 'Like what you see? Visit the ' +\n",
              "            '<a target=\"_blank\" href=https://colab.research.google.com/notebooks/data_table.ipynb>data table notebook</a>'\n",
              "            + ' to learn more about interactive tables.';\n",
              "          element.innerHTML = '';\n",
              "          dataTable['output_type'] = 'display_data';\n",
              "          await google.colab.output.renderOutput(dataTable, element);\n",
              "          const docLink = document.createElement('div');\n",
              "          docLink.innerHTML = docLinkHtml;\n",
              "          element.appendChild(docLink);\n",
              "        }\n",
              "      </script>\n",
              "    </div>\n",
              "  </div>\n",
              "  "
            ]
          },
          "metadata": {},
          "execution_count": 35
        }
      ]
    },
    {
      "cell_type": "markdown",
      "source": [
        "- Varianza acumulada autovalores de la matriz de covarianza calculada en el PCA anterior:"
      ],
      "metadata": {
        "id": "HsO-5O_21ACa"
      }
    },
    {
      "cell_type": "code",
      "source": [
        "var_ac3.head(6)"
      ],
      "metadata": {
        "colab": {
          "base_uri": "https://localhost:8080/",
          "height": 238
        },
        "outputId": "ededf798-a2a7-4978-e3e5-e6b7a5211ed7",
        "id": "qHmkybGs1ACg"
      },
      "execution_count": null,
      "outputs": [
        {
          "output_type": "execute_result",
          "data": {
            "text/plain": [
              "              Autovalor  Varianza Acumulada(%)\n",
              "Componente 1   2.629979              41.641341\n",
              "Componente 2   1.550661              66.193481\n",
              "Componente 3   0.780824              78.556522\n",
              "Componente 4   0.715521              89.885612\n",
              "Componente 5   0.474598              97.400076\n",
              "Componente 6   0.164206             100.000000"
            ],
            "text/html": [
              "\n",
              "  <div id=\"df-24475301-423d-46da-8c9d-fcadd8c8a2a5\">\n",
              "    <div class=\"colab-df-container\">\n",
              "      <div>\n",
              "<style scoped>\n",
              "    .dataframe tbody tr th:only-of-type {\n",
              "        vertical-align: middle;\n",
              "    }\n",
              "\n",
              "    .dataframe tbody tr th {\n",
              "        vertical-align: top;\n",
              "    }\n",
              "\n",
              "    .dataframe thead th {\n",
              "        text-align: right;\n",
              "    }\n",
              "</style>\n",
              "<table border=\"1\" class=\"dataframe\">\n",
              "  <thead>\n",
              "    <tr style=\"text-align: right;\">\n",
              "      <th></th>\n",
              "      <th>Autovalor</th>\n",
              "      <th>Varianza Acumulada(%)</th>\n",
              "    </tr>\n",
              "  </thead>\n",
              "  <tbody>\n",
              "    <tr>\n",
              "      <th>Componente 1</th>\n",
              "      <td>2.629979</td>\n",
              "      <td>41.641341</td>\n",
              "    </tr>\n",
              "    <tr>\n",
              "      <th>Componente 2</th>\n",
              "      <td>1.550661</td>\n",
              "      <td>66.193481</td>\n",
              "    </tr>\n",
              "    <tr>\n",
              "      <th>Componente 3</th>\n",
              "      <td>0.780824</td>\n",
              "      <td>78.556522</td>\n",
              "    </tr>\n",
              "    <tr>\n",
              "      <th>Componente 4</th>\n",
              "      <td>0.715521</td>\n",
              "      <td>89.885612</td>\n",
              "    </tr>\n",
              "    <tr>\n",
              "      <th>Componente 5</th>\n",
              "      <td>0.474598</td>\n",
              "      <td>97.400076</td>\n",
              "    </tr>\n",
              "    <tr>\n",
              "      <th>Componente 6</th>\n",
              "      <td>0.164206</td>\n",
              "      <td>100.000000</td>\n",
              "    </tr>\n",
              "  </tbody>\n",
              "</table>\n",
              "</div>\n",
              "      <button class=\"colab-df-convert\" onclick=\"convertToInteractive('df-24475301-423d-46da-8c9d-fcadd8c8a2a5')\"\n",
              "              title=\"Convert this dataframe to an interactive table.\"\n",
              "              style=\"display:none;\">\n",
              "        \n",
              "  <svg xmlns=\"http://www.w3.org/2000/svg\" height=\"24px\"viewBox=\"0 0 24 24\"\n",
              "       width=\"24px\">\n",
              "    <path d=\"M0 0h24v24H0V0z\" fill=\"none\"/>\n",
              "    <path d=\"M18.56 5.44l.94 2.06.94-2.06 2.06-.94-2.06-.94-.94-2.06-.94 2.06-2.06.94zm-11 1L8.5 8.5l.94-2.06 2.06-.94-2.06-.94L8.5 2.5l-.94 2.06-2.06.94zm10 10l.94 2.06.94-2.06 2.06-.94-2.06-.94-.94-2.06-.94 2.06-2.06.94z\"/><path d=\"M17.41 7.96l-1.37-1.37c-.4-.4-.92-.59-1.43-.59-.52 0-1.04.2-1.43.59L10.3 9.45l-7.72 7.72c-.78.78-.78 2.05 0 2.83L4 21.41c.39.39.9.59 1.41.59.51 0 1.02-.2 1.41-.59l7.78-7.78 2.81-2.81c.8-.78.8-2.07 0-2.86zM5.41 20L4 18.59l7.72-7.72 1.47 1.35L5.41 20z\"/>\n",
              "  </svg>\n",
              "      </button>\n",
              "      \n",
              "  <style>\n",
              "    .colab-df-container {\n",
              "      display:flex;\n",
              "      flex-wrap:wrap;\n",
              "      gap: 12px;\n",
              "    }\n",
              "\n",
              "    .colab-df-convert {\n",
              "      background-color: #E8F0FE;\n",
              "      border: none;\n",
              "      border-radius: 50%;\n",
              "      cursor: pointer;\n",
              "      display: none;\n",
              "      fill: #1967D2;\n",
              "      height: 32px;\n",
              "      padding: 0 0 0 0;\n",
              "      width: 32px;\n",
              "    }\n",
              "\n",
              "    .colab-df-convert:hover {\n",
              "      background-color: #E2EBFA;\n",
              "      box-shadow: 0px 1px 2px rgba(60, 64, 67, 0.3), 0px 1px 3px 1px rgba(60, 64, 67, 0.15);\n",
              "      fill: #174EA6;\n",
              "    }\n",
              "\n",
              "    [theme=dark] .colab-df-convert {\n",
              "      background-color: #3B4455;\n",
              "      fill: #D2E3FC;\n",
              "    }\n",
              "\n",
              "    [theme=dark] .colab-df-convert:hover {\n",
              "      background-color: #434B5C;\n",
              "      box-shadow: 0px 1px 3px 1px rgba(0, 0, 0, 0.15);\n",
              "      filter: drop-shadow(0px 1px 2px rgba(0, 0, 0, 0.3));\n",
              "      fill: #FFFFFF;\n",
              "    }\n",
              "  </style>\n",
              "\n",
              "      <script>\n",
              "        const buttonEl =\n",
              "          document.querySelector('#df-24475301-423d-46da-8c9d-fcadd8c8a2a5 button.colab-df-convert');\n",
              "        buttonEl.style.display =\n",
              "          google.colab.kernel.accessAllowed ? 'block' : 'none';\n",
              "\n",
              "        async function convertToInteractive(key) {\n",
              "          const element = document.querySelector('#df-24475301-423d-46da-8c9d-fcadd8c8a2a5');\n",
              "          const dataTable =\n",
              "            await google.colab.kernel.invokeFunction('convertToInteractive',\n",
              "                                                     [key], {});\n",
              "          if (!dataTable) return;\n",
              "\n",
              "          const docLinkHtml = 'Like what you see? Visit the ' +\n",
              "            '<a target=\"_blank\" href=https://colab.research.google.com/notebooks/data_table.ipynb>data table notebook</a>'\n",
              "            + ' to learn more about interactive tables.';\n",
              "          element.innerHTML = '';\n",
              "          dataTable['output_type'] = 'display_data';\n",
              "          await google.colab.output.renderOutput(dataTable, element);\n",
              "          const docLink = document.createElement('div');\n",
              "          docLink.innerHTML = docLinkHtml;\n",
              "          element.appendChild(docLink);\n",
              "        }\n",
              "      </script>\n",
              "    </div>\n",
              "  </div>\n",
              "  "
            ]
          },
          "metadata": {},
          "execution_count": 36
        }
      ]
    },
    {
      "cell_type": "markdown",
      "source": [
        "A partir de estos dataframes, se confirma el uso de la librería Scikit-learn de la matriz de covarianza para el PCA, ya que coinciden en todos sus autovalores.\n",
        "\n",
        "También, se observa que las varianzas normales y acumuladas de cada autovalor y componente asociada son iguales en los 3 métodos estudiados.\n",
        "\n",
        "Por ello, de momento no se puede observar ninguna mejora ni cambio del método que emplea Scikit-learn, ni tampoco de la elección de la matriz de covarianza o correlación para este proceso.\n",
        "\n",
        "Es decir, hasta ahora, se aplica todo lo mencionado previamente en el PCA anterior en cuanto a componentes, autovalores y sus varianzas."
      ],
      "metadata": {
        "id": "Am_7HfsJpp_o"
      }
    },
    {
      "cell_type": "markdown",
      "source": [
        "A continuación, se estudiarán las 2 componentes principales gráficamente, para observar como afectan los nuevos autovectores calculados con la librería Scikit-learn a los Pokemons."
      ],
      "metadata": {
        "id": "QkYJxeMe4wDC"
      }
    },
    {
      "cell_type": "markdown",
      "source": [
        "##Diagrama de dispersión 2 componentes\n",
        "\n",
        "Se grafican los Pokemons representados en las 2 componentes principales del PCA realizado con Scikit-learn, y en otra gráfica para realizar la comparación, la gráfica del PCA anterior."
      ],
      "metadata": {
        "id": "Q23J6c4qZohr"
      }
    },
    {
      "cell_type": "code",
      "source": [
        "fig2, ax2 = plt.subplots()\n",
        "fig, ax = plt.subplots()\n",
        "\n",
        "# PCA Scikit-learn\n",
        "ax2.scatter(Pokemons_componentes_PCA2[:,0], Pokemons_componentes_PCA2[:,1])\n",
        "ax2.scatter(Pokemons_componentes_PCA2[9,0], Pokemons_componentes_PCA2[9,1], color = 'r')\n",
        "ax2.scatter(Pokemons_componentes_PCA2[12,0], Pokemons_componentes_PCA2[12,1], color = 'magenta')\n",
        "ax2.scatter(Pokemons_componentes_PCA2[10,0], Pokemons_componentes_PCA2[10,1], color = 'gold')\n",
        "ax2.scatter(Pokemons_componentes_PCA2[16,0], Pokemons_componentes_PCA2[16,1], color = 'k')\n",
        "ax2.set_title('Pokemons PCA Scikit-learn', loc = \"center\", fontdict = {'fontsize':14, 'fontweight':'bold'})\n",
        "ax2.set_xlabel(\"Componente 1\")\n",
        "ax2.set_ylabel(\"Componente 2\")\n",
        "\n",
        "# PCA anterior\n",
        "ax.scatter(pokemons_componente1, pokemons_componente2)\n",
        "ax.scatter(pokemons_componente1[9], pokemons_componente2[9], color = 'r')\n",
        "ax.scatter(pokemons_componente1[12], pokemons_componente2[12], color = 'magenta')\n",
        "ax.scatter(pokemons_componente1[10], pokemons_componente2[10], color = 'gold')\n",
        "ax.scatter(pokemons_componente1[16], pokemons_componente2[16], color = 'k')\n",
        "ax.set_title('Pokemons PCA anterior', loc = \"center\", fontdict = {'fontsize':14, 'fontweight':'bold'})\n",
        "ax.set_xlabel(\"Componente 1\")\n",
        "ax.set_ylabel(\"Componente 2\")\n",
        "\n",
        "plt.show()"
      ],
      "metadata": {
        "colab": {
          "base_uri": "https://localhost:8080/",
          "height": 575
        },
        "outputId": "f0ab99fe-9c26-4e92-fc12-7940c534c340",
        "id": "-qr81WoHZohr"
      },
      "execution_count": null,
      "outputs": [
        {
          "output_type": "display_data",
          "data": {
            "text/plain": [
              "<Figure size 432x288 with 1 Axes>"
            ],
            "image/png": "[encoded data removed]"
          },
          "metadata": {
            "needs_background": "light"
          }
        },
        {
          "output_type": "display_data",
          "data": {
            "text/plain": [
              "<Figure size 432x288 with 1 Axes>"
            ],
            "image/png": "[encoded data removed]"
          },
          "metadata": {
            "needs_background": "light"
          }
        }
      ]
    },
    {
      "cell_type": "markdown",
      "source": [
        "En la nueva gráfica, se observa también bastante dispersión de los puntos, por lo que tampoco existe correlación entre las nuevas componentes.\n",
        "\n",
        "Sin embargo, se han puesto de otro color los mismos Pokemons que en el PCA anterior, y se observa que cambian bastante su posición relativa en la gráfica y por tanto sus valores en las componentes. Esto, se podría aplicar al resto de Pokemons, y es resultado de los cambios de posición y signo de los coeficientes de los nuevos autovectores; y también por calcular los valores a partir de los datos estandarizados, como realiza esta libería a diferencia de como se hizo en el PCA realizado previamente por los motivos ya explicados.\n",
        "\n",
        "Si se hubiesen puesto otros Pokemons de un color diferente, al final las conclusiones de porque tienen un valor concreto hubiesen sido las mismas que en el PCA anterior, en cambio de esta forma, se puede realizar una buena comparación."
      ],
      "metadata": {
        "id": "esa75mh5Zohs"
      }
    },
    {
      "cell_type": "code",
      "source": [
        "expl_atributos_componente_1 = abs(PCA_alternativo.components_[0]*100/sum(abs(PCA_alternativo.components_)))\n",
        "df_expl_atributos_componente_1 = pd.DataFrame(expl_atributos_componente_1, index=indx, columns=['Explicación atributos componente 1 (%)'])\n",
        "\n",
        "expl_atributos_componente_2 = abs(PCA_alternativo.components_[1]*100/sum(abs(PCA_alternativo.components_)))\n",
        "df_expl_atributos_componente_2 = pd.DataFrame(expl_atributos_componente_2, index=indx, columns=['Explicación atributos componente 2 (%)'])"
      ],
      "metadata": {
        "id": "MU0jhpY0Zohs"
      },
      "execution_count": null,
      "outputs": []
    },
    {
      "cell_type": "code",
      "source": [
        "df_expl_atributos_componente_1.style.set_table_styles([{'selector': 'th,td', 'props': [('font-size', '10pt'),('border-style','solid'),('border-width','1px')]}])"
      ],
      "metadata": {
        "colab": {
          "base_uri": "https://localhost:8080/",
          "height": 234
        },
        "outputId": "b3db2726-259a-4281-faec-9fd5d23e4cbb",
        "id": "XKVUxU0IZohs"
      },
      "execution_count": null,
      "outputs": [
        {
          "output_type": "execute_result",
          "data": {
            "text/plain": [
              "<pandas.io.formats.style.Styler at 0x7f7e243e93d0>"
            ],
            "text/html": [
              "<style type=\"text/css\">\n",
              "#T_a8de7_ th {\n",
              "  font-size: 10pt;\n",
              "  border-style: solid;\n",
              "  border-width: 1px;\n",
              "}\n",
              "#T_a8de7_ td {\n",
              "  font-size: 10pt;\n",
              "  border-style: solid;\n",
              "  border-width: 1px;\n",
              "}\n",
              "</style>\n",
              "<table id=\"T_a8de7_\" class=\"dataframe\">\n",
              "  <thead>\n",
              "    <tr>\n",
              "      <th class=\"blank level0\" >&nbsp;</th>\n",
              "      <th class=\"col_heading level0 col0\" >Explicación atributos componente 1 (%)</th>\n",
              "    </tr>\n",
              "  </thead>\n",
              "  <tbody>\n",
              "    <tr>\n",
              "      <th id=\"T_a8de7_level0_row0\" class=\"row_heading level0 row0\" >PS</th>\n",
              "      <td id=\"T_a8de7_row0_col0\" class=\"data row0 col0\" >23.654950</td>\n",
              "    </tr>\n",
              "    <tr>\n",
              "      <th id=\"T_a8de7_level0_row1\" class=\"row_heading level0 row1\" >Ataque</th>\n",
              "      <td id=\"T_a8de7_row1_col0\" class=\"data row1 col0\" >22.334391</td>\n",
              "    </tr>\n",
              "    <tr>\n",
              "      <th id=\"T_a8de7_level0_row2\" class=\"row_heading level0 row2\" >Defensa</th>\n",
              "      <td id=\"T_a8de7_row2_col0\" class=\"data row2 col0\" >14.379927</td>\n",
              "    </tr>\n",
              "    <tr>\n",
              "      <th id=\"T_a8de7_level0_row3\" class=\"row_heading level0 row3\" >Ataque especial</th>\n",
              "      <td id=\"T_a8de7_row3_col0\" class=\"data row3 col0\" >18.839068</td>\n",
              "    </tr>\n",
              "    <tr>\n",
              "      <th id=\"T_a8de7_level0_row4\" class=\"row_heading level0 row4\" >Defensa especial</th>\n",
              "      <td id=\"T_a8de7_row4_col0\" class=\"data row4 col0\" >22.206143</td>\n",
              "    </tr>\n",
              "    <tr>\n",
              "      <th id=\"T_a8de7_level0_row5\" class=\"row_heading level0 row5\" >Velocidad</th>\n",
              "      <td id=\"T_a8de7_row5_col0\" class=\"data row5 col0\" >12.142166</td>\n",
              "    </tr>\n",
              "  </tbody>\n",
              "</table>\n"
            ]
          },
          "metadata": {},
          "execution_count": 39
        }
      ]
    },
    {
      "cell_type": "code",
      "source": [
        "print(\"Primera componente más importante;\\n\",PCA_alternativo.components_[0])"
      ],
      "metadata": {
        "colab": {
          "base_uri": "https://localhost:8080/"
        },
        "outputId": "64efc253-c635-48bb-c834-2892d4ae6af0",
        "id": "edNCynvUceW0"
      },
      "execution_count": null,
      "outputs": [
        {
          "output_type": "stream",
          "name": "stdout",
          "text": [
            "Primera componente más importante;\n",
            " [-0.45454125 -0.45072878 -0.31882326 -0.42331653 -0.48098891 -0.27935701]\n"
          ]
        }
      ]
    },
    {
      "cell_type": "markdown",
      "source": [
        "Se observa que en esta componente los atributos tienen una importancia bastante repartida en comparación con la componente principal más importante del PCA anterior. Además, todos sus coeficientes son negativos y de magnitud similar."
      ],
      "metadata": {
        "id": "NvoaEJQqZohs"
      }
    },
    {
      "cell_type": "code",
      "source": [
        "df_expl_atributos_componente_2.style.set_table_styles([{'selector': 'th,td', 'props': [('font-size', '10pt'),('border-style','solid'),('border-width','1px')]}])"
      ],
      "metadata": {
        "colab": {
          "base_uri": "https://localhost:8080/",
          "height": 234
        },
        "outputId": "8d1ab3e7-a35e-4af0-f216-0ff1672836bf",
        "id": "QMgIyHv5Zohs"
      },
      "execution_count": null,
      "outputs": [
        {
          "output_type": "execute_result",
          "data": {
            "text/plain": [
              "<pandas.io.formats.style.Styler at 0x7f7e2434bf70>"
            ],
            "text/html": [
              "<style type=\"text/css\">\n",
              "#T_ecc32_ th {\n",
              "  font-size: 10pt;\n",
              "  border-style: solid;\n",
              "  border-width: 1px;\n",
              "}\n",
              "#T_ecc32_ td {\n",
              "  font-size: 10pt;\n",
              "  border-style: solid;\n",
              "  border-width: 1px;\n",
              "}\n",
              "</style>\n",
              "<table id=\"T_ecc32_\" class=\"dataframe\">\n",
              "  <thead>\n",
              "    <tr>\n",
              "      <th class=\"blank level0\" >&nbsp;</th>\n",
              "      <th class=\"col_heading level0 col0\" >Explicación atributos componente 2 (%)</th>\n",
              "    </tr>\n",
              "  </thead>\n",
              "  <tbody>\n",
              "    <tr>\n",
              "      <th id=\"T_ecc32_level0_row0\" class=\"row_heading level0 row0\" >PS</th>\n",
              "      <td id=\"T_ecc32_row0_col0\" class=\"data row0 col0\" >8.247159</td>\n",
              "    </tr>\n",
              "    <tr>\n",
              "      <th id=\"T_ecc32_level0_row1\" class=\"row_heading level0 row1\" >Ataque</th>\n",
              "      <td id=\"T_ecc32_row1_col0\" class=\"data row1 col0\" >12.486084</td>\n",
              "    </tr>\n",
              "    <tr>\n",
              "      <th id=\"T_ecc32_level0_row2\" class=\"row_heading level0 row2\" >Defensa</th>\n",
              "      <td id=\"T_ecc32_row2_col0\" class=\"data row2 col0\" >28.505521</td>\n",
              "    </tr>\n",
              "    <tr>\n",
              "      <th id=\"T_ecc32_level0_row3\" class=\"row_heading level0 row3\" >Ataque especial</th>\n",
              "      <td id=\"T_ecc32_row3_col0\" class=\"data row3 col0\" >17.012789</td>\n",
              "    </tr>\n",
              "    <tr>\n",
              "      <th id=\"T_ecc32_level0_row4\" class=\"row_heading level0 row4\" >Defensa especial</th>\n",
              "      <td id=\"T_ecc32_row4_col0\" class=\"data row4 col0\" >7.780247</td>\n",
              "    </tr>\n",
              "    <tr>\n",
              "      <th id=\"T_ecc32_level0_row5\" class=\"row_heading level0 row5\" >Velocidad</th>\n",
              "      <td id=\"T_ecc32_row5_col0\" class=\"data row5 col0\" >25.247749</td>\n",
              "    </tr>\n",
              "  </tbody>\n",
              "</table>\n"
            ]
          },
          "metadata": {},
          "execution_count": 41
        }
      ]
    },
    {
      "cell_type": "code",
      "source": [
        "print(\"Segunda componente más importante;\\n\",PCA_alternativo.components_[1])"
      ],
      "metadata": {
        "colab": {
          "base_uri": "https://localhost:8080/"
        },
        "id": "5NxTlFpEcrvC",
        "outputId": "05efbcbe-940b-4c0c-cbd6-741b6d9f68d1"
      },
      "execution_count": null,
      "outputs": [
        {
          "output_type": "stream",
          "name": "stdout",
          "text": [
            "Segunda componente más importante;\n",
            " [-0.15847313  0.25198079  0.63200759 -0.38227978  0.16852151 -0.58087953]\n"
          ]
        }
      ]
    },
    {
      "cell_type": "markdown",
      "source": [
        "En esta componente, están menos repartidos los porcentajes de explicación de los atributos y sus coeficientes de magnitud más parecida que en la otra componente, pero ocurre lo contario si comparamos esta misma componente con la del PCA anterior. \n",
        "\n",
        "Por otro lado, algunos coeficientes tienen signo positivo y otros negativos, por lo que como es lógico y se observa en la gráfica, la combinación lineal de los atributos de todos los Pokemons, esté mas concentrada cerca del 0 que en la otra componente."
      ],
      "metadata": {
        "id": "C7UveLtdZohs"
      }
    },
    {
      "cell_type": "markdown",
      "source": [
        "Ahora, se analizan los 4 pokemons que no se han puesto como puntos de color azul. Como se trabaja con los atributos estandarizados, la media sera 0 y la desviación típica 1 en todos los atributos. \n"
      ],
      "metadata": {
        "id": "BxJQoQh9Zohs"
      }
    },
    {
      "cell_type": "markdown",
      "source": [
        "### Pokemon Punto Amarillo"
      ],
      "metadata": {
        "id": "pst6wfvNZoht"
      }
    },
    {
      "cell_type": "markdown",
      "source": [
        "Valores de sus atributos estandarizados:"
      ],
      "metadata": {
        "id": "1cyG0nReZoht"
      }
    },
    {
      "cell_type": "code",
      "source": [
        "df_amarillo = pd.DataFrame(matrix_std[10], index=indx, columns=['Pokemon Punto Amarillo'])\n",
        "def highlight_x(s):\n",
        "  return [\"background-color: yellow;\",\"\"]\n",
        "df_amarillo.style.set_properties(**{'border': '1.3px solid black', 'background-color' : 'yellow'}).set_table_styles([{'selector': 'th,td', 'props': [('font-size', '12pt'),('border-style','solid'),('border-width','1px')]}])"
      ],
      "metadata": {
        "colab": {
          "base_uri": "https://localhost:8080/",
          "height": 276
        },
        "outputId": "25440952-3219-46d8-bc45-59a478618d09",
        "id": "R-DMJQwbZoht"
      },
      "execution_count": null,
      "outputs": [
        {
          "output_type": "execute_result",
          "data": {
            "text/plain": [
              "<pandas.io.formats.style.Styler at 0x7f7e243fe790>"
            ],
            "text/html": [
              "<style type=\"text/css\">\n",
              "#T_fb4a9_ th {\n",
              "  font-size: 12pt;\n",
              "  border-style: solid;\n",
              "  border-width: 1px;\n",
              "}\n",
              "#T_fb4a9_ td {\n",
              "  font-size: 12pt;\n",
              "  border-style: solid;\n",
              "  border-width: 1px;\n",
              "}\n",
              "#T_fb4a9_row0_col0, #T_fb4a9_row1_col0, #T_fb4a9_row2_col0, #T_fb4a9_row3_col0, #T_fb4a9_row4_col0, #T_fb4a9_row5_col0 {\n",
              "  border: 1.3px solid black;\n",
              "  background-color: yellow;\n",
              "}\n",
              "</style>\n",
              "<table id=\"T_fb4a9_\" class=\"dataframe\">\n",
              "  <thead>\n",
              "    <tr>\n",
              "      <th class=\"blank level0\" >&nbsp;</th>\n",
              "      <th class=\"col_heading level0 col0\" >Pokemon Punto Amarillo</th>\n",
              "    </tr>\n",
              "  </thead>\n",
              "  <tbody>\n",
              "    <tr>\n",
              "      <th id=\"T_fb4a9_level0_row0\" class=\"row_heading level0 row0\" >PS</th>\n",
              "      <td id=\"T_fb4a9_row0_col0\" class=\"data row0 col0\" >-1.630820</td>\n",
              "    </tr>\n",
              "    <tr>\n",
              "      <th id=\"T_fb4a9_level0_row1\" class=\"row_heading level0 row1\" >Ataque</th>\n",
              "      <td id=\"T_fb4a9_row1_col0\" class=\"data row1 col0\" >-2.118189</td>\n",
              "    </tr>\n",
              "    <tr>\n",
              "      <th id=\"T_fb4a9_level0_row2\" class=\"row_heading level0 row2\" >Defensa</th>\n",
              "      <td id=\"T_fb4a9_row2_col0\" class=\"data row2 col0\" >-0.750000</td>\n",
              "    </tr>\n",
              "    <tr>\n",
              "      <th id=\"T_fb4a9_level0_row3\" class=\"row_heading level0 row3\" >Ataque especial</th>\n",
              "      <td id=\"T_fb4a9_row3_col0\" class=\"data row3 col0\" >-1.171700</td>\n",
              "    </tr>\n",
              "    <tr>\n",
              "      <th id=\"T_fb4a9_level0_row4\" class=\"row_heading level0 row4\" >Defensa especial</th>\n",
              "      <td id=\"T_fb4a9_row4_col0\" class=\"data row4 col0\" >-1.750000</td>\n",
              "    </tr>\n",
              "    <tr>\n",
              "      <th id=\"T_fb4a9_level0_row5\" class=\"row_heading level0 row5\" >Velocidad</th>\n",
              "      <td id=\"T_fb4a9_row5_col0\" class=\"data row5 col0\" >-1.669787</td>\n",
              "    </tr>\n",
              "  </tbody>\n",
              "</table>\n"
            ]
          },
          "metadata": {},
          "execution_count": 43
        }
      ]
    },
    {
      "cell_type": "markdown",
      "source": [
        "Este Pokemon, como se observa en la gráfica, tiene un valor relativo bastante alto en la componente 1. Esto, se debe a que todos sus atributos estandarizados son negativos, al igual que los coeficientes de esta componente. Esto, resulta en una combinación lineal que es la suma de valores positivos, mientras que en el resto de Pokemons no tiene por qué ser así.\n",
        "\n",
        "Por este mismo motivo, en la segunda componente tiene un valor bastante más cercano a la media, encontrándose en la segunda componente en la gráfica bastante centrado. \n",
        "\n",
        "En la gráfica del PCA anterior, era el Pokemon que más se acerca al origen de la gráfica, mientras que en este caso ocurre lo contrario."
      ],
      "metadata": {
        "id": "Z-8lWVdRZoht"
      }
    },
    {
      "cell_type": "markdown",
      "source": [
        "### Pokemon Punto Rosa"
      ],
      "metadata": {
        "id": "5gzcdB2ZZoht"
      }
    },
    {
      "cell_type": "markdown",
      "source": [
        "Valores de sus atributos estandarizados:"
      ],
      "metadata": {
        "id": "AuqVK5kIZoht"
      }
    },
    {
      "cell_type": "code",
      "source": [
        "df_rosa = pd.DataFrame(matrix_std[12], index=indx, columns=['Pokemon Punto Rosa'])\n",
        "df_rosa.style.set_properties(**{'border': '1.3px solid black', 'background-color' : 'pink'}).set_table_styles([{'selector': 'th,td', 'props': [('font-size', '12pt'),('border-style','solid'),('border-width','1px')]}])"
      ],
      "metadata": {
        "colab": {
          "base_uri": "https://localhost:8080/",
          "height": 276
        },
        "outputId": "8dffcfa0-b562-4f33-8eb3-710e2bf5a717",
        "id": "2GTpzzg5Zoht"
      },
      "execution_count": null,
      "outputs": [
        {
          "output_type": "execute_result",
          "data": {
            "text/plain": [
              "<pandas.io.formats.style.Styler at 0x7f7e2434b130>"
            ],
            "text/html": [
              "<style type=\"text/css\">\n",
              "#T_c60c0_ th {\n",
              "  font-size: 12pt;\n",
              "  border-style: solid;\n",
              "  border-width: 1px;\n",
              "}\n",
              "#T_c60c0_ td {\n",
              "  font-size: 12pt;\n",
              "  border-style: solid;\n",
              "  border-width: 1px;\n",
              "}\n",
              "#T_c60c0_row0_col0, #T_c60c0_row1_col0, #T_c60c0_row2_col0, #T_c60c0_row3_col0, #T_c60c0_row4_col0, #T_c60c0_row5_col0 {\n",
              "  border: 1.3px solid black;\n",
              "  background-color: pink;\n",
              "}\n",
              "</style>\n",
              "<table id=\"T_c60c0_\" class=\"dataframe\">\n",
              "  <thead>\n",
              "    <tr>\n",
              "      <th class=\"blank level0\" >&nbsp;</th>\n",
              "      <th class=\"col_heading level0 col0\" >Pokemon Punto Rosa</th>\n",
              "    </tr>\n",
              "  </thead>\n",
              "  <tbody>\n",
              "    <tr>\n",
              "      <th id=\"T_c60c0_level0_row0\" class=\"row_heading level0 row0\" >PS</th>\n",
              "      <td id=\"T_c60c0_row0_col0\" class=\"data row0 col0\" >-0.326164</td>\n",
              "    </tr>\n",
              "    <tr>\n",
              "      <th id=\"T_c60c0_level0_row1\" class=\"row_heading level0 row1\" >Ataque</th>\n",
              "      <td id=\"T_c60c0_row1_col0\" class=\"data row1 col0\" >-1.031938</td>\n",
              "    </tr>\n",
              "    <tr>\n",
              "      <th id=\"T_c60c0_level0_row2\" class=\"row_heading level0 row2\" >Defensa</th>\n",
              "      <td id=\"T_c60c0_row2_col0\" class=\"data row2 col0\" >-0.750000</td>\n",
              "    </tr>\n",
              "    <tr>\n",
              "      <th id=\"T_c60c0_level0_row3\" class=\"row_heading level0 row3\" >Ataque especial</th>\n",
              "      <td id=\"T_c60c0_row3_col0\" class=\"data row3 col0\" >0.564152</td>\n",
              "    </tr>\n",
              "    <tr>\n",
              "      <th id=\"T_c60c0_level0_row4\" class=\"row_heading level0 row4\" >Defensa especial</th>\n",
              "      <td id=\"T_c60c0_row4_col0\" class=\"data row4 col0\" >0.750000</td>\n",
              "    </tr>\n",
              "    <tr>\n",
              "      <th id=\"T_c60c0_level0_row5\" class=\"row_heading level0 row5\" >Velocidad</th>\n",
              "      <td id=\"T_c60c0_row5_col0\" class=\"data row5 col0\" >1.940563</td>\n",
              "    </tr>\n",
              "  </tbody>\n",
              "</table>\n"
            ]
          },
          "metadata": {},
          "execution_count": 44
        }
      ]
    },
    {
      "cell_type": "markdown",
      "source": [
        "Este Pokemon, no se aleja tanto del origen de la gráfica en el nuevo PCA.\n",
        "\n",
        "En la primera componente, se compensan los signos positivos y negativos de los atributos estandarizados, teniendo un valor cercano al 0.\n",
        "\n",
        "En la segunda componente, al tener un valor alto y negativo en el atributo de defensa, que es el que más influencia tiene esa componente, tiene el valor negativo de mayor magnitud en esta componente."
      ],
      "metadata": {
        "id": "qgTkEGPlZoht"
      }
    },
    {
      "cell_type": "markdown",
      "source": [
        "### Pokemon Punto Rojo"
      ],
      "metadata": {
        "id": "hB5gR5DcZohu"
      }
    },
    {
      "cell_type": "markdown",
      "source": [
        "Valores de sus atributos estandarizados:"
      ],
      "metadata": {
        "id": "eZTK9aFFZohu"
      }
    },
    {
      "cell_type": "code",
      "source": [
        "df_rojo = pd.DataFrame(matrix_std[9], index=indx, columns=['Pokemon Punto Rojo'])\n",
        "df_rojo.style.set_properties(**{'border': '1.3px solid black', 'background-color' : 'red', 'color': 'white'}).set_table_styles([{'selector': 'th,td', 'props': [('font-size', '12pt'),('border-style','solid'),('border-width','1px')]}])"
      ],
      "metadata": {
        "colab": {
          "base_uri": "https://localhost:8080/",
          "height": 276
        },
        "outputId": "9912ed35-bc52-4e27-f0a2-9031c88f7985",
        "id": "tBDm_PGNZohu"
      },
      "execution_count": null,
      "outputs": [
        {
          "output_type": "execute_result",
          "data": {
            "text/plain": [
              "<pandas.io.formats.style.Styler at 0x7f7e243e9dc0>"
            ],
            "text/html": [
              "<style type=\"text/css\">\n",
              "#T_54116_ th {\n",
              "  font-size: 12pt;\n",
              "  border-style: solid;\n",
              "  border-width: 1px;\n",
              "}\n",
              "#T_54116_ td {\n",
              "  font-size: 12pt;\n",
              "  border-style: solid;\n",
              "  border-width: 1px;\n",
              "}\n",
              "#T_54116_row0_col0, #T_54116_row1_col0, #T_54116_row2_col0, #T_54116_row3_col0, #T_54116_row4_col0, #T_54116_row5_col0 {\n",
              "  border: 1.3px solid black;\n",
              "  background-color: red;\n",
              "  color: white;\n",
              "}\n",
              "</style>\n",
              "<table id=\"T_54116_\" class=\"dataframe\">\n",
              "  <thead>\n",
              "    <tr>\n",
              "      <th class=\"blank level0\" >&nbsp;</th>\n",
              "      <th class=\"col_heading level0 col0\" >Pokemon Punto Rojo</th>\n",
              "    </tr>\n",
              "  </thead>\n",
              "  <tbody>\n",
              "    <tr>\n",
              "      <th id=\"T_54116_level0_row0\" class=\"row_heading level0 row0\" >PS</th>\n",
              "      <td id=\"T_54116_row0_col0\" class=\"data row0 col0\" >0.978492</td>\n",
              "    </tr>\n",
              "    <tr>\n",
              "      <th id=\"T_54116_level0_row1\" class=\"row_heading level0 row1\" >Ataque</th>\n",
              "      <td id=\"T_54116_row1_col0\" class=\"data row1 col0\" >0.054313</td>\n",
              "    </tr>\n",
              "    <tr>\n",
              "      <th id=\"T_54116_level0_row2\" class=\"row_heading level0 row2\" >Defensa</th>\n",
              "      <td id=\"T_54116_row2_col0\" class=\"data row2 col0\" >-0.750000</td>\n",
              "    </tr>\n",
              "    <tr>\n",
              "      <th id=\"T_54116_level0_row3\" class=\"row_heading level0 row3\" >Ataque especial</th>\n",
              "      <td id=\"T_54116_row3_col0\" class=\"data row3 col0\" >-0.303774</td>\n",
              "    </tr>\n",
              "    <tr>\n",
              "      <th id=\"T_54116_level0_row4\" class=\"row_heading level0 row4\" >Defensa especial</th>\n",
              "      <td id=\"T_54116_row4_col0\" class=\"data row4 col0\" >-0.500000</td>\n",
              "    </tr>\n",
              "    <tr>\n",
              "      <th id=\"T_54116_level0_row5\" class=\"row_heading level0 row5\" >Velocidad</th>\n",
              "      <td id=\"T_54116_row5_col0\" class=\"data row5 col0\" >-0.767199</td>\n",
              "    </tr>\n",
              "  </tbody>\n",
              "</table>\n"
            ]
          },
          "metadata": {},
          "execution_count": 45
        }
      ]
    },
    {
      "cell_type": "markdown",
      "source": [
        "Este pokemon, es el más similar gráficamente en los 2 PCA realizados, ya que se encuentra centrado respecto al resto de Pokemons.\n",
        "\n",
        "Sin embargo, esta vez esto se produce por la compensación de valores positivos y negativos, y de sus correspondientes magnitudes, tanto en las componentes como en sus atributos."
      ],
      "metadata": {
        "id": "qP20rONsZohu"
      }
    },
    {
      "cell_type": "markdown",
      "source": [
        "### Pokemon Punto Negro"
      ],
      "metadata": {
        "id": "PNs9sEKPZohu"
      }
    },
    {
      "cell_type": "markdown",
      "source": [
        "Valores de sus atributos estandarizados:"
      ],
      "metadata": {
        "id": "Wp2X3iAmZohu"
      }
    },
    {
      "cell_type": "code",
      "source": [
        "df_negro = pd.DataFrame(matrix_std[16], index=indx, columns=['Pokemon punto negro'])\n",
        "df_negro.style.set_properties(**{'border': '1.3px solid white', 'background-color' : 'black', 'color': 'white'}).set_table_styles([{'selector': 'th,td', 'props': [('font-size', '12pt'),('border-style','solid'),('border-width','1px')]}])"
      ],
      "metadata": {
        "colab": {
          "base_uri": "https://localhost:8080/",
          "height": 276
        },
        "outputId": "5fe21984-34e9-49c8-9bca-22830a9eb399",
        "id": "4hXpmRUpZohu"
      },
      "execution_count": null,
      "outputs": [
        {
          "output_type": "execute_result",
          "data": {
            "text/plain": [
              "<pandas.io.formats.style.Styler at 0x7f7e24350df0>"
            ],
            "text/html": [
              "<style type=\"text/css\">\n",
              "#T_e5582_ th {\n",
              "  font-size: 12pt;\n",
              "  border-style: solid;\n",
              "  border-width: 1px;\n",
              "}\n",
              "#T_e5582_ td {\n",
              "  font-size: 12pt;\n",
              "  border-style: solid;\n",
              "  border-width: 1px;\n",
              "}\n",
              "#T_e5582_row0_col0, #T_e5582_row1_col0, #T_e5582_row2_col0, #T_e5582_row3_col0, #T_e5582_row4_col0, #T_e5582_row5_col0 {\n",
              "  border: 1.3px solid white;\n",
              "  background-color: black;\n",
              "  color: white;\n",
              "}\n",
              "</style>\n",
              "<table id=\"T_e5582_\" class=\"dataframe\">\n",
              "  <thead>\n",
              "    <tr>\n",
              "      <th class=\"blank level0\" >&nbsp;</th>\n",
              "      <th class=\"col_heading level0 col0\" >Pokemon punto negro</th>\n",
              "    </tr>\n",
              "  </thead>\n",
              "  <tbody>\n",
              "    <tr>\n",
              "      <th id=\"T_e5582_level0_row0\" class=\"row_heading level0 row0\" >PS</th>\n",
              "      <td id=\"T_e5582_row0_col0\" class=\"data row0 col0\" >-1.630820</td>\n",
              "    </tr>\n",
              "    <tr>\n",
              "      <th id=\"T_e5582_level0_row1\" class=\"row_heading level0 row1\" >Ataque</th>\n",
              "      <td id=\"T_e5582_row1_col0\" class=\"data row1 col0\" >0.054313</td>\n",
              "    </tr>\n",
              "    <tr>\n",
              "      <th id=\"T_e5582_level0_row2\" class=\"row_heading level0 row2\" >Defensa</th>\n",
              "      <td id=\"T_e5582_row2_col0\" class=\"data row2 col0\" >1.750000</td>\n",
              "    </tr>\n",
              "    <tr>\n",
              "      <th id=\"T_e5582_level0_row3\" class=\"row_heading level0 row3\" >Ataque especial</th>\n",
              "      <td id=\"T_e5582_row3_col0\" class=\"data row3 col0\" >-1.171700</td>\n",
              "    </tr>\n",
              "    <tr>\n",
              "      <th id=\"T_e5582_level0_row4\" class=\"row_heading level0 row4\" >Defensa especial</th>\n",
              "      <td id=\"T_e5582_row4_col0\" class=\"data row4 col0\" >2.000000</td>\n",
              "    </tr>\n",
              "    <tr>\n",
              "      <th id=\"T_e5582_level0_row5\" class=\"row_heading level0 row5\" >Velocidad</th>\n",
              "      <td id=\"T_e5582_row5_col0\" class=\"data row5 col0\" >-0.767199</td>\n",
              "    </tr>\n",
              "  </tbody>\n",
              "</table>\n"
            ]
          },
          "metadata": {},
          "execution_count": 46
        }
      ]
    },
    {
      "cell_type": "markdown",
      "source": [
        "Este Pokemon, cambia bastante gráficamente en el nuevo PCA, teniendo un valor cercano al 0 en la primera componente, producto de la compensación de valores positivos y negativos de sus atributos al realizar la combinación lineal (los coeficientes de la componente son todos negativos por lo tanto no afecta a esto).\n",
        "\n",
        "En la segunda componente, teniendo en cuenta que la media de todos los Pokemons en los atributos  estandarizados es 0 y la desviación típica 1, el valor positivo de gran magnitud en la segunda componente es resultado de que también lo sea su valor en el atributo velocidad."
      ],
      "metadata": {
        "id": "UzEp8sB4Zohu"
      }
    },
    {
      "cell_type": "markdown",
      "source": [
        "## Conclusión de la gráfica y del PCA con Scikit-learn\n",
        "A partir de los PCA, se puede determinar que los 2 procesos tienen resultados igual de óptimo (como prueba la varianza de los nuevos autovalores), sin embargo al trabajar con datos estandarizados los Pokemos cambian gráficamente en la representación de sus valores en las componentes creadas.\n",
        "\n",
        "En los 2 casos, se ha conseguido reducir con éxito la dimensionalidad de forma óptima, y por tanto han logrado el objetivo de esta práctica."
      ],
      "metadata": {
        "id": "YozQu3soZohu"
      }
    }
  ]
}