{
  "nbformat": 4,
  "nbformat_minor": 0,
  "metadata": {
    "colab": {
      "provenance": []
    },
    "kernelspec": {
      "name": "python3",
      "display_name": "Python 3"
    },
    "language_info": {
      "name": "python"
    }
  },
  "cells": [
    {
      "cell_type": "markdown",
      "source": [
        "# Laboratorio 5 - Pregunta 2\n",
        "### Hecho por: Daniel Alonso, Alvaro García Cid, Enrique Ramos e Ignacio Regidor"
      ],
      "metadata": {
        "id": "w2cHrnNg5Dj-"
      }
    },
    {
      "cell_type": "markdown",
      "source": [
        "##Resumen (POR HACER)\n"
      ],
      "metadata": {
        "id": "PLncfY0R0AJR"
      }
    },
    {
      "cell_type": "markdown",
      "source": [
        "##Introducción al problema y pasos previos\n",
        "A continuación se muestrán las librerías de Python utilizadas en esta práctica.\n",
        "- Numpy: utilizada por el resto de liberías, permite la creación y el manejo de datos de forma rápida y eficiente, conteniendo estructuras de datos propias.\n",
        "- Pandas: permite la creación y manejo de dataframes a partir de la base de datos empleada.\n",
        "- Matplotlib.pyplot: se utilizará para graficar los distintos diagramas que permitan el estudio de los datos de forma visual."
      ],
      "metadata": {
        "id": "D8RnHlEp28gg"
      }
    },
    {
      "cell_type": "code",
      "source": [
        "!pip install gsppy\n",
        "from gsppy.gsp import GSP"
      ],
      "metadata": {
        "colab": {
          "base_uri": "https://localhost:8080/"
        },
        "id": "NLj53yFCWB-7",
        "outputId": "b9b07cd3-ca53-4bb4-8544-6aeb19f1625c"
      },
      "execution_count": null,
      "outputs": [
        {
          "output_type": "stream",
          "name": "stdout",
          "text": [
            "Looking in indexes: https://pypi.org/simple, https://us-python.pkg.dev/colab-wheels/public/simple/\n",
            "Collecting gsppy\n",
            "  Downloading gsppy-1.1-py3-none-any.whl (5.7 kB)\n",
            "Installing collected packages: gsppy\n",
            "Successfully installed gsppy-1.1\n"
          ]
        }
      ]
    },
    {
      "cell_type": "code",
      "source": [
        "import numpy as np\n",
        "import pandas as pd\n",
        "import matplotlib.pyplot as plt\n",
        "import random\n",
        "random.seed(123)"
      ],
      "metadata": {
        "id": "6FaYH0JQ6snh"
      },
      "execution_count": null,
      "outputs": []
    },
    {
      "cell_type": "code",
      "source": [
        "datosraw = pd.read_csv(\"splice.data\", encoding='latin-1', sep=',', names = ['Clase', 'Donante', 'Secuencias'])\n",
        "datosraw.head()\n",
        "print(len(datosraw))"
      ],
      "metadata": {
        "colab": {
          "base_uri": "https://localhost:8080/"
        },
        "id": "c5bByZWt_g2T",
        "outputId": "6ad8b18b-fec1-404e-8b66-09bccf9bcce0"
      },
      "execution_count": null,
      "outputs": [
        {
          "output_type": "stream",
          "name": "stdout",
          "text": [
            "3190\n"
          ]
        }
      ]
    },
    {
      "cell_type": "code",
      "source": [
        "datos = datosraw.copy()\n",
        "datos['Split'] = 0\n",
        "\n",
        "#Eliminamos carácteres vacíos que hay antes de la secuencia de genes\n",
        "for i in range(len(datos)):\n",
        "  aux = ''\n",
        "  for j in range(len(datos['Secuencias'][i])):\n",
        "    if datos['Secuencias'][i][j] != ' ':\n",
        "      aux = aux + datos['Secuencias'][i][j]\n",
        "  datos['Secuencias'][i] = aux\n",
        "\n",
        "#Hacemos partición aleatoria de los primeros n (entre 4 y 10) genes de Secuencias\n",
        "for i in range(len(datos)):\n",
        "  n = random.randint(4,10)\n",
        "  aux = ''\n",
        "  for j in range(n):\n",
        "    aux = aux + datos['Secuencias'][i][j]\n",
        "  datos['Split'][i] = aux"
      ],
      "metadata": {
        "colab": {
          "base_uri": "https://localhost:8080/"
        },
        "id": "KmTIs-NfRZOJ",
        "outputId": "f7d9145c-58c1-4bf2-a286-b3fa99d83121"
      },
      "execution_count": null,
      "outputs": [
        {
          "output_type": "stream",
          "name": "stderr",
          "text": [
            "<ipython-input-8-71d312a197b1>:10: SettingWithCopyWarning: \n",
            "A value is trying to be set on a copy of a slice from a DataFrame\n",
            "\n",
            "See the caveats in the documentation: https://pandas.pydata.org/pandas-docs/stable/user_guide/indexing.html#returning-a-view-versus-a-copy\n",
            "  datos['Secuencias'][i] = aux\n",
            "<ipython-input-8-71d312a197b1>:18: SettingWithCopyWarning: \n",
            "A value is trying to be set on a copy of a slice from a DataFrame\n",
            "\n",
            "See the caveats in the documentation: https://pandas.pydata.org/pandas-docs/stable/user_guide/indexing.html#returning-a-view-versus-a-copy\n",
            "  datos['Split'][i] = aux\n",
            "/usr/local/lib/python3.8/dist-packages/pandas/core/indexing.py:1732: SettingWithCopyWarning: \n",
            "A value is trying to be set on a copy of a slice from a DataFrame\n",
            "\n",
            "See the caveats in the documentation: https://pandas.pydata.org/pandas-docs/stable/user_guide/indexing.html#returning-a-view-versus-a-copy\n",
            "  self._setitem_single_block(indexer, value, name)\n"
          ]
        }
      ]
    },
    {
      "cell_type": "code",
      "source": [
        "datos.head()"
      ],
      "metadata": {
        "colab": {
          "base_uri": "https://localhost:8080/",
          "height": 206
        },
        "id": "1waSwLI5R-bn",
        "outputId": "fe3a6cd2-4046-4f69-ae9d-19ecc78a26cc"
      },
      "execution_count": null,
      "outputs": [
        {
          "output_type": "execute_result",
          "data": {
            "text/plain": [
              "  Clase                 Donante  \\\n",
              "0    EI        ATRINS-DONOR-521   \n",
              "1    EI        ATRINS-DONOR-905   \n",
              "2    EI        BABAPOE-DONOR-30   \n",
              "3    EI       BABAPOE-DONOR-867   \n",
              "4    EI      BABAPOE-DONOR-2817   \n",
              "\n",
              "                                          Secuencias      Split  \n",
              "0  CCAGCTGCATCACAGGAGGCCAGCGAGCAGGTCTGTTCCAAGGGCC...       CCAG  \n",
              "1  AGACCCGCCGGGAGGCGGAGGACCTGCAGGGTGAGCCCCACCGCCC...      AGACC  \n",
              "2  GAGGTGAAGGACGTCCTTCCCCAGGAGCCGGTGAGAAGCGCAGTCG...  GAGGTGAAG  \n",
              "3  GGGCTGCGTTGCTGGTCACATTCCTGGCAGGTATGGGGCGGGGCTT...   GGGCTGCG  \n",
              "4  GCTCAGCCCCCAGGTCACCCAGGAACTGACGTGAGTGTCCCCATCC...     GCTCAG  "
            ],
            "text/html": [
              "\n",
              "  <div id=\"df-0f6f61fb-8e1f-4ef0-84c6-c511d901b9b5\">\n",
              "    <div class=\"colab-df-container\">\n",
              "      <div>\n",
              "<style scoped>\n",
              "    .dataframe tbody tr th:only-of-type {\n",
              "        vertical-align: middle;\n",
              "    }\n",
              "\n",
              "    .dataframe tbody tr th {\n",
              "        vertical-align: top;\n",
              "    }\n",
              "\n",
              "    .dataframe thead th {\n",
              "        text-align: right;\n",
              "    }\n",
              "</style>\n",
              "<table border=\"1\" class=\"dataframe\">\n",
              "  <thead>\n",
              "    <tr style=\"text-align: right;\">\n",
              "      <th></th>\n",
              "      <th>Clase</th>\n",
              "      <th>Donante</th>\n",
              "      <th>Secuencias</th>\n",
              "      <th>Split</th>\n",
              "    </tr>\n",
              "  </thead>\n",
              "  <tbody>\n",
              "    <tr>\n",
              "      <th>0</th>\n",
              "      <td>EI</td>\n",
              "      <td>ATRINS-DONOR-521</td>\n",
              "      <td>CCAGCTGCATCACAGGAGGCCAGCGAGCAGGTCTGTTCCAAGGGCC...</td>\n",
              "      <td>CCAG</td>\n",
              "    </tr>\n",
              "    <tr>\n",
              "      <th>1</th>\n",
              "      <td>EI</td>\n",
              "      <td>ATRINS-DONOR-905</td>\n",
              "      <td>AGACCCGCCGGGAGGCGGAGGACCTGCAGGGTGAGCCCCACCGCCC...</td>\n",
              "      <td>AGACC</td>\n",
              "    </tr>\n",
              "    <tr>\n",
              "      <th>2</th>\n",
              "      <td>EI</td>\n",
              "      <td>BABAPOE-DONOR-30</td>\n",
              "      <td>GAGGTGAAGGACGTCCTTCCCCAGGAGCCGGTGAGAAGCGCAGTCG...</td>\n",
              "      <td>GAGGTGAAG</td>\n",
              "    </tr>\n",
              "    <tr>\n",
              "      <th>3</th>\n",
              "      <td>EI</td>\n",
              "      <td>BABAPOE-DONOR-867</td>\n",
              "      <td>GGGCTGCGTTGCTGGTCACATTCCTGGCAGGTATGGGGCGGGGCTT...</td>\n",
              "      <td>GGGCTGCG</td>\n",
              "    </tr>\n",
              "    <tr>\n",
              "      <th>4</th>\n",
              "      <td>EI</td>\n",
              "      <td>BABAPOE-DONOR-2817</td>\n",
              "      <td>GCTCAGCCCCCAGGTCACCCAGGAACTGACGTGAGTGTCCCCATCC...</td>\n",
              "      <td>GCTCAG</td>\n",
              "    </tr>\n",
              "  </tbody>\n",
              "</table>\n",
              "</div>\n",
              "      <button class=\"colab-df-convert\" onclick=\"convertToInteractive('df-0f6f61fb-8e1f-4ef0-84c6-c511d901b9b5')\"\n",
              "              title=\"Convert this dataframe to an interactive table.\"\n",
              "              style=\"display:none;\">\n",
              "        \n",
              "  <svg xmlns=\"http://www.w3.org/2000/svg\" height=\"24px\"viewBox=\"0 0 24 24\"\n",
              "       width=\"24px\">\n",
              "    <path d=\"M0 0h24v24H0V0z\" fill=\"none\"/>\n",
              "    <path d=\"M18.56 5.44l.94 2.06.94-2.06 2.06-.94-2.06-.94-.94-2.06-.94 2.06-2.06.94zm-11 1L8.5 8.5l.94-2.06 2.06-.94-2.06-.94L8.5 2.5l-.94 2.06-2.06.94zm10 10l.94 2.06.94-2.06 2.06-.94-2.06-.94-.94-2.06-.94 2.06-2.06.94z\"/><path d=\"M17.41 7.96l-1.37-1.37c-.4-.4-.92-.59-1.43-.59-.52 0-1.04.2-1.43.59L10.3 9.45l-7.72 7.72c-.78.78-.78 2.05 0 2.83L4 21.41c.39.39.9.59 1.41.59.51 0 1.02-.2 1.41-.59l7.78-7.78 2.81-2.81c.8-.78.8-2.07 0-2.86zM5.41 20L4 18.59l7.72-7.72 1.47 1.35L5.41 20z\"/>\n",
              "  </svg>\n",
              "      </button>\n",
              "      \n",
              "  <style>\n",
              "    .colab-df-container {\n",
              "      display:flex;\n",
              "      flex-wrap:wrap;\n",
              "      gap: 12px;\n",
              "    }\n",
              "\n",
              "    .colab-df-convert {\n",
              "      background-color: #E8F0FE;\n",
              "      border: none;\n",
              "      border-radius: 50%;\n",
              "      cursor: pointer;\n",
              "      display: none;\n",
              "      fill: #1967D2;\n",
              "      height: 32px;\n",
              "      padding: 0 0 0 0;\n",
              "      width: 32px;\n",
              "    }\n",
              "\n",
              "    .colab-df-convert:hover {\n",
              "      background-color: #E2EBFA;\n",
              "      box-shadow: 0px 1px 2px rgba(60, 64, 67, 0.3), 0px 1px 3px 1px rgba(60, 64, 67, 0.15);\n",
              "      fill: #174EA6;\n",
              "    }\n",
              "\n",
              "    [theme=dark] .colab-df-convert {\n",
              "      background-color: #3B4455;\n",
              "      fill: #D2E3FC;\n",
              "    }\n",
              "\n",
              "    [theme=dark] .colab-df-convert:hover {\n",
              "      background-color: #434B5C;\n",
              "      box-shadow: 0px 1px 3px 1px rgba(0, 0, 0, 0.15);\n",
              "      filter: drop-shadow(0px 1px 2px rgba(0, 0, 0, 0.3));\n",
              "      fill: #FFFFFF;\n",
              "    }\n",
              "  </style>\n",
              "\n",
              "      <script>\n",
              "        const buttonEl =\n",
              "          document.querySelector('#df-0f6f61fb-8e1f-4ef0-84c6-c511d901b9b5 button.colab-df-convert');\n",
              "        buttonEl.style.display =\n",
              "          google.colab.kernel.accessAllowed ? 'block' : 'none';\n",
              "\n",
              "        async function convertToInteractive(key) {\n",
              "          const element = document.querySelector('#df-0f6f61fb-8e1f-4ef0-84c6-c511d901b9b5');\n",
              "          const dataTable =\n",
              "            await google.colab.kernel.invokeFunction('convertToInteractive',\n",
              "                                                     [key], {});\n",
              "          if (!dataTable) return;\n",
              "\n",
              "          const docLinkHtml = 'Like what you see? Visit the ' +\n",
              "            '<a target=\"_blank\" href=https://colab.research.google.com/notebooks/data_table.ipynb>data table notebook</a>'\n",
              "            + ' to learn more about interactive tables.';\n",
              "          element.innerHTML = '';\n",
              "          dataTable['output_type'] = 'display_data';\n",
              "          await google.colab.output.renderOutput(dataTable, element);\n",
              "          const docLink = document.createElement('div');\n",
              "          docLink.innerHTML = docLinkHtml;\n",
              "          element.appendChild(docLink);\n",
              "        }\n",
              "      </script>\n",
              "    </div>\n",
              "  </div>\n",
              "  "
            ]
          },
          "metadata": {},
          "execution_count": 10
        }
      ]
    },
    {
      "cell_type": "code",
      "source": [
        "clases = datos.Clase.unique()\n",
        "print(clases)\n",
        "\n",
        "\n",
        "donantes = datos.Donante.unique()\n",
        "print(len(donantes))\n",
        "print(len(datos['Donante']))"
      ],
      "metadata": {
        "colab": {
          "base_uri": "https://localhost:8080/"
        },
        "id": "o7fTd6uxVmad",
        "outputId": "b9b2b4f5-9306-4d6c-fb61-72d010403fc9"
      },
      "execution_count": null,
      "outputs": [
        {
          "output_type": "stream",
          "name": "stdout",
          "text": [
            "['EI' 'IE' 'N']\n",
            "3178\n",
            "3190\n"
          ]
        }
      ]
    },
    {
      "cell_type": "code",
      "source": [
        "#Comprobamos que la partición este bien hecha\n",
        "comp = 0\n",
        "for i in range(len(datos)):\n",
        "  if len(datos['Split'][i]) >= 4 & len(datos['Split'][i]) <= 10:\n",
        "    comp = comp + 1\n",
        "\n",
        "if comp == len(datos):\n",
        "  print(\"Todos tienen una longitud entre 4 y 10\")\n",
        "else:\n",
        "  print(\"Hay algún error\")"
      ],
      "metadata": {
        "colab": {
          "base_uri": "https://localhost:8080/"
        },
        "id": "0IRsEPyUSNhs",
        "outputId": "c6ad0929-ae88-439e-ee38-da82b8cb0ed1"
      },
      "execution_count": null,
      "outputs": [
        {
          "output_type": "stream",
          "name": "stdout",
          "text": [
            "Todos tienen una longitud entre 4 y 10\n"
          ]
        }
      ]
    },
    {
      "cell_type": "code",
      "source": [
        "#Comprobamos si hay datos repetidos\n",
        "datos.duplicated(subset=['Clase','Split']).any()"
      ],
      "metadata": {
        "colab": {
          "base_uri": "https://localhost:8080/"
        },
        "id": "NiTNV5PvS7ua",
        "outputId": "47fe70f9-64c1-4507-ab55-9d0b9be08f7f"
      },
      "execution_count": null,
      "outputs": [
        {
          "output_type": "execute_result",
          "data": {
            "text/plain": [
              "True"
            ]
          },
          "metadata": {},
          "execution_count": 45
        }
      ]
    },
    {
      "cell_type": "code",
      "source": [
        "datos.drop_duplicates(subset=['Clase','Split'], inplace=True)\n",
        "len(datos)"
      ],
      "metadata": {
        "colab": {
          "base_uri": "https://localhost:8080/"
        },
        "id": "8kCrWK__UShX",
        "outputId": "8eaddf72-217c-4fdb-df63-0d756bba5b35"
      },
      "execution_count": null,
      "outputs": [
        {
          "output_type": "execute_result",
          "data": {
            "text/plain": [
              "2928"
            ]
          },
          "metadata": {},
          "execution_count": 46
        }
      ]
    }
  ]
}