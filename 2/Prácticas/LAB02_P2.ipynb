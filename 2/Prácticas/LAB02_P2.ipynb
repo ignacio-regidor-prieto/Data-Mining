{
  "nbformat": 4,
  "nbformat_minor": 0,
  "metadata": {
    "colab": {
      "provenance": []
    },
    "kernelspec": {
      "name": "python3",
      "display_name": "Python 3"
    },
    "language_info": {
      "name": "python"
    }
  },
  "cells": [
    {
      "cell_type": "markdown",
      "source": [
        "# Laboratorio 2 - Pregunta 2\n",
        "### Hecho por: Daniel Alonso, Alvaro García Cid, Enrique Ramos e Ignacio Regidor"
      ],
      "metadata": {
        "id": "w2cHrnNg5Dj-"
      }
    },
    {
      "cell_type": "markdown",
      "source": [
        "En esta práctica, se estudiará la secuencia de genes asociada a distintas clases, **EI** (empalme exon-intron), **IE** (empalme intron-exon) y **N** (muestra sin empalme). \n",
        "\n",
        "A partir de la base de datos utilizada para el estudio, se intentará encontrar patrones secuenciales (porque el orden es importante) para estudiarlos posteriormente. \n"
      ],
      "metadata": {
        "id": "PLncfY0R0AJR"
      }
    },
    {
      "cell_type": "markdown",
      "source": [
        "##Introducción al problema y pasos previos\n",
        "A continuación se muestrán las librerías de Python utilizadas en esta práctica.\n",
        "- Numpy: utilizada por el resto de liberías, permite la creación y el manejo de datos de forma rápida y eficiente, conteniendo estructuras de datos propias.\n",
        "- Pandas: permite la creación y manejo de dataframes a partir de la base de datos empleada.\n",
        "- Matplotlib.pyplot: se utilizará para graficar los distintos diagramas que permitan el estudio de los datos de forma visual.\n",
        "- gsppy.gsp: se utilizará el módulo GSP de esta librería, que permitirá aplicar el algoritmo Generalized Sequential Patterns.\n",
        "- random: se utilizará para crear números aleatorios que determinarán la longitud de las subsecuencias creadas a partir de la secuencia de genes de cada muestra."
      ],
      "metadata": {
        "id": "D8RnHlEp28gg"
      }
    },
    {
      "cell_type": "code",
      "source": [
        "!pip install gsppy\n",
        "from gsppy.gsp import GSP"
      ],
      "metadata": {
        "colab": {
          "base_uri": "https://localhost:8080/"
        },
        "id": "NLj53yFCWB-7",
        "outputId": "a3a329db-b655-4caf-bbc6-c833940ad1bd"
      },
      "execution_count": null,
      "outputs": [
        {
          "output_type": "stream",
          "name": "stdout",
          "text": [
            "Looking in indexes: https://pypi.org/simple, https://us-python.pkg.dev/colab-wheels/public/simple/\n",
            "Requirement already satisfied: gsppy in /usr/local/lib/python3.9/dist-packages (1.1)\n"
          ]
        }
      ]
    },
    {
      "cell_type": "code",
      "source": [
        "import numpy as np\n",
        "import pandas as pd\n",
        "import matplotlib.pyplot as plt\n",
        "import random\n",
        "\n",
        "# Se fija una semilla para que los números aleatorios usados posteriormente sean \n",
        "# siempre los mismos cada vez que se ejecuta el código.\n",
        "random.seed(123) "
      ],
      "metadata": {
        "id": "6FaYH0JQ6snh"
      },
      "execution_count": null,
      "outputs": []
    },
    {
      "cell_type": "code",
      "source": [
        "datosraw = pd.read_csv(\"splice.data\", encoding='latin-1', sep=',', names = ['Clase', 'Donante', 'Secuencias'])\n",
        "datosraw.head()\n",
        "datosraw.shape"
      ],
      "metadata": {
        "colab": {
          "base_uri": "https://localhost:8080/"
        },
        "id": "c5bByZWt_g2T",
        "outputId": "818b55bf-268d-480f-faf6-c598d495b6fd"
      },
      "execution_count": null,
      "outputs": [
        {
          "output_type": "execute_result",
          "data": {
            "text/plain": [
              "(3190, 3)"
            ]
          },
          "metadata": {},
          "execution_count": 3
        }
      ]
    },
    {
      "cell_type": "markdown",
      "source": [
        "La base de datos sin preprocesar cuenta con 3190 muestras cada una con 3 atributos."
      ],
      "metadata": {
        "id": "_eK2-oHtROrj"
      }
    },
    {
      "cell_type": "code",
      "source": [
        "datosraw.head()"
      ],
      "metadata": {
        "colab": {
          "base_uri": "https://localhost:8080/",
          "height": 206
        },
        "id": "frXAEUDoRbvV",
        "outputId": "959415f1-6a0d-4a6c-bf7a-3d5534c4afed"
      },
      "execution_count": null,
      "outputs": [
        {
          "output_type": "execute_result",
          "data": {
            "text/plain": [
              "  Clase                 Donante  \\\n",
              "0    EI        ATRINS-DONOR-521   \n",
              "1    EI        ATRINS-DONOR-905   \n",
              "2    EI        BABAPOE-DONOR-30   \n",
              "3    EI       BABAPOE-DONOR-867   \n",
              "4    EI      BABAPOE-DONOR-2817   \n",
              "\n",
              "                                          Secuencias  \n",
              "0                 CCAGCTGCATCACAGGAGGCCAGCGAGCAGG...  \n",
              "1                 AGACCCGCCGGGAGGCGGAGGACCTGCAGGG...  \n",
              "2                 GAGGTGAAGGACGTCCTTCCCCAGGAGCCGG...  \n",
              "3                GGGCTGCGTTGCTGGTCACATTCCTGGCAGGT...  \n",
              "4               GCTCAGCCCCCAGGTCACCCAGGAACTGACGTG...  "
            ],
            "text/html": [
              "\n",
              "  <div id=\"df-fea8d77b-532e-4ebc-bea6-0b0cdcc14d64\">\n",
              "    <div class=\"colab-df-container\">\n",
              "      <div>\n",
              "<style scoped>\n",
              "    .dataframe tbody tr th:only-of-type {\n",
              "        vertical-align: middle;\n",
              "    }\n",
              "\n",
              "    .dataframe tbody tr th {\n",
              "        vertical-align: top;\n",
              "    }\n",
              "\n",
              "    .dataframe thead th {\n",
              "        text-align: right;\n",
              "    }\n",
              "</style>\n",
              "<table border=\"1\" class=\"dataframe\">\n",
              "  <thead>\n",
              "    <tr style=\"text-align: right;\">\n",
              "      <th></th>\n",
              "      <th>Clase</th>\n",
              "      <th>Donante</th>\n",
              "      <th>Secuencias</th>\n",
              "    </tr>\n",
              "  </thead>\n",
              "  <tbody>\n",
              "    <tr>\n",
              "      <th>0</th>\n",
              "      <td>EI</td>\n",
              "      <td>ATRINS-DONOR-521</td>\n",
              "      <td>CCAGCTGCATCACAGGAGGCCAGCGAGCAGG...</td>\n",
              "    </tr>\n",
              "    <tr>\n",
              "      <th>1</th>\n",
              "      <td>EI</td>\n",
              "      <td>ATRINS-DONOR-905</td>\n",
              "      <td>AGACCCGCCGGGAGGCGGAGGACCTGCAGGG...</td>\n",
              "    </tr>\n",
              "    <tr>\n",
              "      <th>2</th>\n",
              "      <td>EI</td>\n",
              "      <td>BABAPOE-DONOR-30</td>\n",
              "      <td>GAGGTGAAGGACGTCCTTCCCCAGGAGCCGG...</td>\n",
              "    </tr>\n",
              "    <tr>\n",
              "      <th>3</th>\n",
              "      <td>EI</td>\n",
              "      <td>BABAPOE-DONOR-867</td>\n",
              "      <td>GGGCTGCGTTGCTGGTCACATTCCTGGCAGGT...</td>\n",
              "    </tr>\n",
              "    <tr>\n",
              "      <th>4</th>\n",
              "      <td>EI</td>\n",
              "      <td>BABAPOE-DONOR-2817</td>\n",
              "      <td>GCTCAGCCCCCAGGTCACCCAGGAACTGACGTG...</td>\n",
              "    </tr>\n",
              "  </tbody>\n",
              "</table>\n",
              "</div>\n",
              "      <button class=\"colab-df-convert\" onclick=\"convertToInteractive('df-fea8d77b-532e-4ebc-bea6-0b0cdcc14d64')\"\n",
              "              title=\"Convert this dataframe to an interactive table.\"\n",
              "              style=\"display:none;\">\n",
              "        \n",
              "  <svg xmlns=\"http://www.w3.org/2000/svg\" height=\"24px\"viewBox=\"0 0 24 24\"\n",
              "       width=\"24px\">\n",
              "    <path d=\"M0 0h24v24H0V0z\" fill=\"none\"/>\n",
              "    <path d=\"M18.56 5.44l.94 2.06.94-2.06 2.06-.94-2.06-.94-.94-2.06-.94 2.06-2.06.94zm-11 1L8.5 8.5l.94-2.06 2.06-.94-2.06-.94L8.5 2.5l-.94 2.06-2.06.94zm10 10l.94 2.06.94-2.06 2.06-.94-2.06-.94-.94-2.06-.94 2.06-2.06.94z\"/><path d=\"M17.41 7.96l-1.37-1.37c-.4-.4-.92-.59-1.43-.59-.52 0-1.04.2-1.43.59L10.3 9.45l-7.72 7.72c-.78.78-.78 2.05 0 2.83L4 21.41c.39.39.9.59 1.41.59.51 0 1.02-.2 1.41-.59l7.78-7.78 2.81-2.81c.8-.78.8-2.07 0-2.86zM5.41 20L4 18.59l7.72-7.72 1.47 1.35L5.41 20z\"/>\n",
              "  </svg>\n",
              "      </button>\n",
              "      \n",
              "  <style>\n",
              "    .colab-df-container {\n",
              "      display:flex;\n",
              "      flex-wrap:wrap;\n",
              "      gap: 12px;\n",
              "    }\n",
              "\n",
              "    .colab-df-convert {\n",
              "      background-color: #E8F0FE;\n",
              "      border: none;\n",
              "      border-radius: 50%;\n",
              "      cursor: pointer;\n",
              "      display: none;\n",
              "      fill: #1967D2;\n",
              "      height: 32px;\n",
              "      padding: 0 0 0 0;\n",
              "      width: 32px;\n",
              "    }\n",
              "\n",
              "    .colab-df-convert:hover {\n",
              "      background-color: #E2EBFA;\n",
              "      box-shadow: 0px 1px 2px rgba(60, 64, 67, 0.3), 0px 1px 3px 1px rgba(60, 64, 67, 0.15);\n",
              "      fill: #174EA6;\n",
              "    }\n",
              "\n",
              "    [theme=dark] .colab-df-convert {\n",
              "      background-color: #3B4455;\n",
              "      fill: #D2E3FC;\n",
              "    }\n",
              "\n",
              "    [theme=dark] .colab-df-convert:hover {\n",
              "      background-color: #434B5C;\n",
              "      box-shadow: 0px 1px 3px 1px rgba(0, 0, 0, 0.15);\n",
              "      filter: drop-shadow(0px 1px 2px rgba(0, 0, 0, 0.3));\n",
              "      fill: #FFFFFF;\n",
              "    }\n",
              "  </style>\n",
              "\n",
              "      <script>\n",
              "        const buttonEl =\n",
              "          document.querySelector('#df-fea8d77b-532e-4ebc-bea6-0b0cdcc14d64 button.colab-df-convert');\n",
              "        buttonEl.style.display =\n",
              "          google.colab.kernel.accessAllowed ? 'block' : 'none';\n",
              "\n",
              "        async function convertToInteractive(key) {\n",
              "          const element = document.querySelector('#df-fea8d77b-532e-4ebc-bea6-0b0cdcc14d64');\n",
              "          const dataTable =\n",
              "            await google.colab.kernel.invokeFunction('convertToInteractive',\n",
              "                                                     [key], {});\n",
              "          if (!dataTable) return;\n",
              "\n",
              "          const docLinkHtml = 'Like what you see? Visit the ' +\n",
              "            '<a target=\"_blank\" href=https://colab.research.google.com/notebooks/data_table.ipynb>data table notebook</a>'\n",
              "            + ' to learn more about interactive tables.';\n",
              "          element.innerHTML = '';\n",
              "          dataTable['output_type'] = 'display_data';\n",
              "          await google.colab.output.renderOutput(dataTable, element);\n",
              "          const docLink = document.createElement('div');\n",
              "          docLink.innerHTML = docLinkHtml;\n",
              "          element.appendChild(docLink);\n",
              "        }\n",
              "      </script>\n",
              "    </div>\n",
              "  </div>\n",
              "  "
            ]
          },
          "metadata": {},
          "execution_count": 4
        }
      ]
    },
    {
      "cell_type": "markdown",
      "source": [
        "Los atributos de cada muestra son la clase, el donante y la secuencia de genes."
      ],
      "metadata": {
        "id": "qfdZuAGqReaY"
      }
    },
    {
      "cell_type": "markdown",
      "source": [
        "##Preprocesamiento de los datos"
      ],
      "metadata": {
        "id": "kyYS1741Ssyg"
      }
    },
    {
      "cell_type": "code",
      "source": [
        "print(\"Duplicated Values:\", datosraw.duplicated().sum())"
      ],
      "metadata": {
        "colab": {
          "base_uri": "https://localhost:8080/"
        },
        "id": "lvhidn1_SuV9",
        "outputId": "e25dfc7d-15d4-4ee6-ba04-c51f732e1cd3"
      },
      "execution_count": null,
      "outputs": [
        {
          "output_type": "stream",
          "name": "stdout",
          "text": [
            "Duplicated Values: 12\n"
          ]
        }
      ]
    },
    {
      "cell_type": "markdown",
      "source": [
        "Hay 12 filas del dataframe duplicadas por lo que se procede a eliminarlas.\n",
        "\n",
        "Al ser datos del mismo donante, clase y secuencia de genes, al realizar el análisis de asociación, estas filas tendrían más peso y relevancia solo por el hecho de ser información duplicada de la misma muestra; y no porque estos datos se repitan en otras muestras diferentes."
      ],
      "metadata": {
        "id": "bkqf0zxepANo"
      }
    },
    {
      "cell_type": "code",
      "source": [
        "datosraw = datosraw.drop_duplicates()"
      ],
      "metadata": {
        "id": "Cv-8sLYdTj8b"
      },
      "execution_count": null,
      "outputs": []
    },
    {
      "cell_type": "code",
      "source": [
        "print(\"Duplicated Values:\", datosraw.duplicated().sum())"
      ],
      "metadata": {
        "colab": {
          "base_uri": "https://localhost:8080/"
        },
        "id": "h5EOc3BWT0Qc",
        "outputId": "90ee0da0-4a70-4e5c-cfc6-3cd13f4fd775"
      },
      "execution_count": null,
      "outputs": [
        {
          "output_type": "stream",
          "name": "stdout",
          "text": [
            "Duplicated Values: 0\n"
          ]
        }
      ]
    },
    {
      "cell_type": "code",
      "source": [
        "for c in datosraw.columns:\n",
        "  print(\"Missing Values [{0}]:\".format(c), datosraw[c].isna().sum())"
      ],
      "metadata": {
        "colab": {
          "base_uri": "https://localhost:8080/"
        },
        "id": "uQFKakmzrWxE",
        "outputId": "2f0bb785-b31a-484e-df3d-c3d8b31c98bb"
      },
      "execution_count": null,
      "outputs": [
        {
          "output_type": "stream",
          "name": "stdout",
          "text": [
            "Missing Values [Clase]: 0\n",
            "Missing Values [Donante]: 0\n",
            "Missing Values [Secuencias]: 0\n"
          ]
        }
      ]
    },
    {
      "cell_type": "markdown",
      "source": [
        "Como no hay valores nulos, ya se ha completado la limpieza de datos. Como el estudio se basa en encontrar patrones secuenciales (que serán caracteres) en los distintos tipos de enlace, no tiene sentido buscar outliers.\n",
        "\n",
        "El siguiente paso del preprocesamiento de los datos, es eliminar los caracteres vacíos o de espacio de la secuencia de genes. Además, se crea una nueva columna llamada **Split**. De cada fila se cogerá aleatoriamente entre 4 y 10 genes (que serán los primeros de la columna **Secuencia**). Estos, se asignarán al valor en la fila de la nueva columna creada."
      ],
      "metadata": {
        "id": "jd4wZ7hhretX"
      }
    },
    {
      "cell_type": "code",
      "source": [
        "pd.set_option('mode.chained_assignment', None) #Suprimimos warning por hacer copia\n",
        "datos = datosraw.copy().reset_index()\n",
        "datos['Split'] = 0  \n",
        "#Eliminamos carácteres vacíos que hay antes de la secuencia de genes\n",
        "for i in range(len(datos)):\n",
        "  aux = ''\n",
        "  for j in range(len(datos['Secuencias'][i])):\n",
        "    if datos['Secuencias'][i][j] != ' ':\n",
        "      aux = aux + datos['Secuencias'][i][j]\n",
        "  datos['Secuencias'][i] = aux\n",
        "\n",
        "#Hacemos partición aleatoria de los primeros n (entre 4 y 10) genes de Secuencias\n",
        "for i in range(len(datos)):\n",
        "  n = random.randint(4,10)\n",
        "  aux = ''\n",
        "  for j in range(n):\n",
        "    aux = aux + datos['Secuencias'][i][j]\n",
        "  datos['Split'][i] = aux"
      ],
      "metadata": {
        "id": "CwrzYOxrMkTk"
      },
      "execution_count": null,
      "outputs": []
    },
    {
      "cell_type": "code",
      "source": [
        "datos.head()"
      ],
      "metadata": {
        "colab": {
          "base_uri": "https://localhost:8080/",
          "height": 206
        },
        "id": "1waSwLI5R-bn",
        "outputId": "664e09d3-74c4-4939-d0bd-f12ab5a5fd7e"
      },
      "execution_count": null,
      "outputs": [
        {
          "output_type": "execute_result",
          "data": {
            "text/plain": [
              "   index Clase                 Donante  \\\n",
              "0      0    EI        ATRINS-DONOR-521   \n",
              "1      1    EI        ATRINS-DONOR-905   \n",
              "2      2    EI        BABAPOE-DONOR-30   \n",
              "3      3    EI       BABAPOE-DONOR-867   \n",
              "4      4    EI      BABAPOE-DONOR-2817   \n",
              "\n",
              "                                          Secuencias       Split  \n",
              "0  CCAGCTGCATCACAGGAGGCCAGCGAGCAGGTCTGTTCCAAGGGCC...        CCAG  \n",
              "1  AGACCCGCCGGGAGGCGGAGGACCTGCAGGGTGAGCCCCACCGCCC...      AGACCC  \n",
              "2  GAGGTGAAGGACGTCCTTCCCCAGGAGCCGGTGAGAAGCGCAGTCG...        GAGG  \n",
              "3  GGGCTGCGTTGCTGGTCACATTCCTGGCAGGTATGGGGCGGGGCTT...  GGGCTGCGTT  \n",
              "4  GCTCAGCCCCCAGGTCACCCAGGAACTGACGTGAGTGTCCCCATCC...     GCTCAGC  "
            ],
            "text/html": [
              "\n",
              "  <div id=\"df-b16651c7-939d-4754-a9f6-3f66692d5edf\">\n",
              "    <div class=\"colab-df-container\">\n",
              "      <div>\n",
              "<style scoped>\n",
              "    .dataframe tbody tr th:only-of-type {\n",
              "        vertical-align: middle;\n",
              "    }\n",
              "\n",
              "    .dataframe tbody tr th {\n",
              "        vertical-align: top;\n",
              "    }\n",
              "\n",
              "    .dataframe thead th {\n",
              "        text-align: right;\n",
              "    }\n",
              "</style>\n",
              "<table border=\"1\" class=\"dataframe\">\n",
              "  <thead>\n",
              "    <tr style=\"text-align: right;\">\n",
              "      <th></th>\n",
              "      <th>index</th>\n",
              "      <th>Clase</th>\n",
              "      <th>Donante</th>\n",
              "      <th>Secuencias</th>\n",
              "      <th>Split</th>\n",
              "    </tr>\n",
              "  </thead>\n",
              "  <tbody>\n",
              "    <tr>\n",
              "      <th>0</th>\n",
              "      <td>0</td>\n",
              "      <td>EI</td>\n",
              "      <td>ATRINS-DONOR-521</td>\n",
              "      <td>CCAGCTGCATCACAGGAGGCCAGCGAGCAGGTCTGTTCCAAGGGCC...</td>\n",
              "      <td>CCAG</td>\n",
              "    </tr>\n",
              "    <tr>\n",
              "      <th>1</th>\n",
              "      <td>1</td>\n",
              "      <td>EI</td>\n",
              "      <td>ATRINS-DONOR-905</td>\n",
              "      <td>AGACCCGCCGGGAGGCGGAGGACCTGCAGGGTGAGCCCCACCGCCC...</td>\n",
              "      <td>AGACCC</td>\n",
              "    </tr>\n",
              "    <tr>\n",
              "      <th>2</th>\n",
              "      <td>2</td>\n",
              "      <td>EI</td>\n",
              "      <td>BABAPOE-DONOR-30</td>\n",
              "      <td>GAGGTGAAGGACGTCCTTCCCCAGGAGCCGGTGAGAAGCGCAGTCG...</td>\n",
              "      <td>GAGG</td>\n",
              "    </tr>\n",
              "    <tr>\n",
              "      <th>3</th>\n",
              "      <td>3</td>\n",
              "      <td>EI</td>\n",
              "      <td>BABAPOE-DONOR-867</td>\n",
              "      <td>GGGCTGCGTTGCTGGTCACATTCCTGGCAGGTATGGGGCGGGGCTT...</td>\n",
              "      <td>GGGCTGCGTT</td>\n",
              "    </tr>\n",
              "    <tr>\n",
              "      <th>4</th>\n",
              "      <td>4</td>\n",
              "      <td>EI</td>\n",
              "      <td>BABAPOE-DONOR-2817</td>\n",
              "      <td>GCTCAGCCCCCAGGTCACCCAGGAACTGACGTGAGTGTCCCCATCC...</td>\n",
              "      <td>GCTCAGC</td>\n",
              "    </tr>\n",
              "  </tbody>\n",
              "</table>\n",
              "</div>\n",
              "      <button class=\"colab-df-convert\" onclick=\"convertToInteractive('df-b16651c7-939d-4754-a9f6-3f66692d5edf')\"\n",
              "              title=\"Convert this dataframe to an interactive table.\"\n",
              "              style=\"display:none;\">\n",
              "        \n",
              "  <svg xmlns=\"http://www.w3.org/2000/svg\" height=\"24px\"viewBox=\"0 0 24 24\"\n",
              "       width=\"24px\">\n",
              "    <path d=\"M0 0h24v24H0V0z\" fill=\"none\"/>\n",
              "    <path d=\"M18.56 5.44l.94 2.06.94-2.06 2.06-.94-2.06-.94-.94-2.06-.94 2.06-2.06.94zm-11 1L8.5 8.5l.94-2.06 2.06-.94-2.06-.94L8.5 2.5l-.94 2.06-2.06.94zm10 10l.94 2.06.94-2.06 2.06-.94-2.06-.94-.94-2.06-.94 2.06-2.06.94z\"/><path d=\"M17.41 7.96l-1.37-1.37c-.4-.4-.92-.59-1.43-.59-.52 0-1.04.2-1.43.59L10.3 9.45l-7.72 7.72c-.78.78-.78 2.05 0 2.83L4 21.41c.39.39.9.59 1.41.59.51 0 1.02-.2 1.41-.59l7.78-7.78 2.81-2.81c.8-.78.8-2.07 0-2.86zM5.41 20L4 18.59l7.72-7.72 1.47 1.35L5.41 20z\"/>\n",
              "  </svg>\n",
              "      </button>\n",
              "      \n",
              "  <style>\n",
              "    .colab-df-container {\n",
              "      display:flex;\n",
              "      flex-wrap:wrap;\n",
              "      gap: 12px;\n",
              "    }\n",
              "\n",
              "    .colab-df-convert {\n",
              "      background-color: #E8F0FE;\n",
              "      border: none;\n",
              "      border-radius: 50%;\n",
              "      cursor: pointer;\n",
              "      display: none;\n",
              "      fill: #1967D2;\n",
              "      height: 32px;\n",
              "      padding: 0 0 0 0;\n",
              "      width: 32px;\n",
              "    }\n",
              "\n",
              "    .colab-df-convert:hover {\n",
              "      background-color: #E2EBFA;\n",
              "      box-shadow: 0px 1px 2px rgba(60, 64, 67, 0.3), 0px 1px 3px 1px rgba(60, 64, 67, 0.15);\n",
              "      fill: #174EA6;\n",
              "    }\n",
              "\n",
              "    [theme=dark] .colab-df-convert {\n",
              "      background-color: #3B4455;\n",
              "      fill: #D2E3FC;\n",
              "    }\n",
              "\n",
              "    [theme=dark] .colab-df-convert:hover {\n",
              "      background-color: #434B5C;\n",
              "      box-shadow: 0px 1px 3px 1px rgba(0, 0, 0, 0.15);\n",
              "      filter: drop-shadow(0px 1px 2px rgba(0, 0, 0, 0.3));\n",
              "      fill: #FFFFFF;\n",
              "    }\n",
              "  </style>\n",
              "\n",
              "      <script>\n",
              "        const buttonEl =\n",
              "          document.querySelector('#df-b16651c7-939d-4754-a9f6-3f66692d5edf button.colab-df-convert');\n",
              "        buttonEl.style.display =\n",
              "          google.colab.kernel.accessAllowed ? 'block' : 'none';\n",
              "\n",
              "        async function convertToInteractive(key) {\n",
              "          const element = document.querySelector('#df-b16651c7-939d-4754-a9f6-3f66692d5edf');\n",
              "          const dataTable =\n",
              "            await google.colab.kernel.invokeFunction('convertToInteractive',\n",
              "                                                     [key], {});\n",
              "          if (!dataTable) return;\n",
              "\n",
              "          const docLinkHtml = 'Like what you see? Visit the ' +\n",
              "            '<a target=\"_blank\" href=https://colab.research.google.com/notebooks/data_table.ipynb>data table notebook</a>'\n",
              "            + ' to learn more about interactive tables.';\n",
              "          element.innerHTML = '';\n",
              "          dataTable['output_type'] = 'display_data';\n",
              "          await google.colab.output.renderOutput(dataTable, element);\n",
              "          const docLink = document.createElement('div');\n",
              "          docLink.innerHTML = docLinkHtml;\n",
              "          element.appendChild(docLink);\n",
              "        }\n",
              "      </script>\n",
              "    </div>\n",
              "  </div>\n",
              "  "
            ]
          },
          "metadata": {},
          "execution_count": 10
        }
      ]
    },
    {
      "cell_type": "markdown",
      "source": [
        "El dataframe parece que ha quedado correctamente, pero por si acaso se comprueba que la columna Split contenga secuencias de entre 4 y 10 genes."
      ],
      "metadata": {
        "id": "-ae5Cad3tcRR"
      }
    },
    {
      "cell_type": "code",
      "source": [
        "#Comprobamos que la partición este bien hecha\n",
        "comp = 0\n",
        "for i in range(len(datos)):\n",
        "  if len(datos['Split'][i]) >= 4 & len(datos['Split'][i]) <= 10:\n",
        "    comp = comp + 1\n",
        "\n",
        "if comp == len(datos):\n",
        "  print(\"Todos tienen una longitud entre 4 y 10\")\n",
        "else:\n",
        "  print(\"Hay algún error\")"
      ],
      "metadata": {
        "id": "s58ww70WttVY",
        "colab": {
          "base_uri": "https://localhost:8080/"
        },
        "outputId": "77705b47-ec84-4588-a107-19ed7908bc78"
      },
      "execution_count": null,
      "outputs": [
        {
          "output_type": "stream",
          "name": "stdout",
          "text": [
            "Todos tienen una longitud entre 4 y 10\n"
          ]
        }
      ]
    },
    {
      "cell_type": "markdown",
      "source": [
        "A continuación, se muestran las clases presentes en el dataframe, y si existe algún donante al que le corresponda más de una muestra. \n",
        "\n",
        "Esto, haría que los datos estuviesen sesgados, al tener mayor peso la genética de un donante sobre las demás, aunque fueran diferentes secuencias."
      ],
      "metadata": {
        "id": "f-1H9ojsquJF"
      }
    },
    {
      "cell_type": "code",
      "source": [
        "print('Las clases son: ', datos['Clase'].unique()) #Diferentes clases\n",
        "print('El número de donantes con más de una muestra es: ', len(datos['Donante']) - len(datos['Donante'].unique()))"
      ],
      "metadata": {
        "colab": {
          "base_uri": "https://localhost:8080/"
        },
        "id": "o7fTd6uxVmad",
        "outputId": "16d522fe-4f45-4184-8350-e836e70633a5"
      },
      "execution_count": null,
      "outputs": [
        {
          "output_type": "stream",
          "name": "stdout",
          "text": [
            "Las clases son:  ['EI' 'IE' 'N']\n",
            "El número de donantes con más de una muestra es:  0\n"
          ]
        }
      ]
    },
    {
      "cell_type": "markdown",
      "source": [
        "Se observa que a cada donante le corresponde una única muestra. \n",
        "\n",
        "Sin embargo, se debe estudiar si dentro de la nueva columna **Split**, existen secuencias exactamente iguales que pertenezcan a la misma clase. \n",
        "\n",
        "Esto, se realiza porque el objetivo no es encontrar patrones de secuencias, sino de subsecuencias contenidas en estas. \n",
        "\n",
        "Si se incluyen secuencias repetidas en el estudio dentro de una misma clase, la frecuencia de aparición de ciertas subsecuencias puede parecer mayor solo por aparecer en un solo tipo de secuencia (que sea siempre igual), aunque apenas aparezca en las demás."
      ],
      "metadata": {
        "id": "UjVLEIrbs5Id"
      }
    },
    {
      "cell_type": "code",
      "source": [
        "datos.duplicated(subset=['Clase','Split']).any()"
      ],
      "metadata": {
        "colab": {
          "base_uri": "https://localhost:8080/"
        },
        "id": "NiTNV5PvS7ua",
        "outputId": "2c4e310c-382d-4256-c515-cc4bf51b7389"
      },
      "execution_count": null,
      "outputs": [
        {
          "output_type": "execute_result",
          "data": {
            "text/plain": [
              "True"
            ]
          },
          "metadata": {},
          "execution_count": 13
        }
      ]
    },
    {
      "cell_type": "markdown",
      "source": [
        "Se procede a eliminar las filas duplicadas simultáneamente en los valores de **Clase** y **Split**."
      ],
      "metadata": {
        "id": "f_jjgPGUv2kJ"
      }
    },
    {
      "cell_type": "code",
      "source": [
        "datos.drop_duplicates(subset=['Clase','Split'], inplace=True)"
      ],
      "metadata": {
        "id": "8kCrWK__UShX"
      },
      "execution_count": null,
      "outputs": []
    },
    {
      "cell_type": "markdown",
      "source": [
        "## Resolución del problema"
      ],
      "metadata": {
        "id": "tx6DnXGUOE7o"
      }
    },
    {
      "cell_type": "markdown",
      "source": [
        "A continuación, se utiliza la librería GSP para encontrar patrones secuenciales. Como no se dispone de mucha información en internet sobre esta libería, ni por parte del creador ni de otros usuarios, se procede a realizar varias pruebas con ella para entender como funciona.\n",
        "\n",
        "Para ello, se van a crear varios strings de prueba para estudiar que patrones secuenciales es capaz de encontrar la librería."
      ],
      "metadata": {
        "id": "U_rM9apu5qWa"
      }
    },
    {
      "cell_type": "code",
      "source": [
        "pruebas1 = [['a','b','c'],['a','b','d'],['a','b','e'],['a','b','f'],['a','b','g'],['a','b','h']]\n",
        "results_pruebas1 = GSP(pruebas1).search(0.2)\n",
        "# 0.2 hace referencia al soporte mínimo para ser frecuente.\n",
        "print(results_pruebas1)"
      ],
      "metadata": {
        "colab": {
          "base_uri": "https://localhost:8080/"
        },
        "id": "2yyeXXSN3OEz",
        "outputId": "36d423f6-798a-4eca-9c18-89617b028e84"
      },
      "execution_count": null,
      "outputs": [
        {
          "output_type": "stream",
          "name": "stdout",
          "text": [
            "[{('b',): 6, ('a',): 6}, {('a', 'b'): 6}]\n"
          ]
        }
      ]
    },
    {
      "cell_type": "code",
      "source": [
        "pruebas2 = ['abc','abd','abe','abf','abg','abh']\n",
        "results_pruebas2 = GSP(pruebas2).search(0.2)\n",
        "print(results_pruebas2)"
      ],
      "metadata": {
        "colab": {
          "base_uri": "https://localhost:8080/"
        },
        "id": "CJ5XfFlj34Rj",
        "outputId": "d9d86549-5525-413f-fc58-f3c90f199c50"
      },
      "execution_count": null,
      "outputs": [
        {
          "output_type": "stream",
          "name": "stdout",
          "text": [
            "[{('a',): 6, ('b',): 6}, {('a', 'b'): 6}]\n"
          ]
        }
      ]
    },
    {
      "cell_type": "markdown",
      "source": [
        "A partir de las pruebas 1 y 2, se observa que en ambos casos es capaz de reconocer por igual cuando el caracter 'a' va seguido del caracter 'b'.\n",
        "\n",
        "Esto, quiere decir que la librería va a obtener los mismos resultados, independientemente de si cada muestra de secuencia de genes se introduce como un bloque de caracteres (que es como están actualmente en el dataframe en forma de string) o si se introducen separados individualmente los caracteres."
      ],
      "metadata": {
        "id": "XXkiFCA97xUT"
      }
    },
    {
      "cell_type": "code",
      "source": [
        "pruebas3 = [['b','d','a'],['b','e','a'],['b','f','a'],['b','g','a'],['b','h','a'],['b','i','a']]\n",
        "results_pruebas3 = GSP(pruebas3).search(0.2)\n",
        "print(results_pruebas3)"
      ],
      "metadata": {
        "colab": {
          "base_uri": "https://localhost:8080/"
        },
        "id": "jDLMBbZk4guN",
        "outputId": "6bfdc411-18aa-4e80-d6b3-b7b80d4db3e4"
      },
      "execution_count": null,
      "outputs": [
        {
          "output_type": "stream",
          "name": "stdout",
          "text": [
            "[{('b',): 6, ('a',): 6}]\n"
          ]
        }
      ]
    },
    {
      "cell_type": "markdown",
      "source": [
        "A partir de la prueba 3, se puede observar que la librería no es capaz de reconocer que 'a' y 'b' están en todos los strings introducidos habiendo una separación entre ellos de un caracter. Es decir, la librería solo detecta patrones de 2 o más caracteres que estén inmediatamente seguidos.\n",
        "\n",
        "Además, como todos los strings acaban con el caracter 'b' y empiezan por 'a', se puede deducir que la librería tampoco detecta patrones entre distintos strings aunque estén inmediatamente seguidos. Esto, es bueno para este estudio, ya que cada muestra es independiente de las demás.\n",
        "\n",
        "Una vez entendido como funciona la librería, se utiliza con el dataframe para encontrar patrones secuenciales en la columna **Split**. Se buscarán patrones generales, y luego caraterísticos de cada clase (EI, IE y N).\n",
        "\n",
        "Se utilizarán distintos soportes. El primero de ellos es **0.2**."
      ],
      "metadata": {
        "id": "YA4cOeYO9J1y"
      }
    },
    {
      "cell_type": "markdown",
      "source": [
        "### GSP con soporte 0.2"
      ],
      "metadata": {
        "id": "KDLglVaQVJLD"
      }
    },
    {
      "cell_type": "code",
      "source": [
        "results = GSP(datos['Split']).search(0.2)\n",
        "resultEI = GSP(datos['Split'][datos['Clase']=='EI']).search(0.2)\n",
        "resultIE = GSP(datos['Split'][datos['Clase']=='IE']).search(0.2)\n",
        "resultN = GSP(datos['Split'][datos['Clase']=='N']).search(0.2)"
      ],
      "metadata": {
        "id": "tUgikMGsDzn4"
      },
      "execution_count": null,
      "outputs": []
    },
    {
      "cell_type": "code",
      "source": [
        "print('Patrones secuenciales generales:\\n',results)\n",
        "print('\\n\\nPatrones secuenciales clase EI:\\n',resultEI)\n",
        "print('\\n\\nPatrones secuenciales clase IE:\\n',resultIE)\n",
        "print('\\n\\nPatrones secuenciales clase N:\\n',resultN)"
      ],
      "metadata": {
        "id": "xFWdAYFDEZ4n",
        "colab": {
          "base_uri": "https://localhost:8080/"
        },
        "outputId": "3b9e34d0-dff4-4431-e896-9c9a0117a985"
      },
      "execution_count": null,
      "outputs": [
        {
          "output_type": "stream",
          "name": "stdout",
          "text": [
            "Patrones secuenciales generales:\n",
            " [{('C',): 2424, ('A',): 2351, ('G',): 2370, ('T',): 2346}, {('A', 'C'): 863, ('A', 'A'): 781, ('A', 'G'): 1036, ('A', 'T'): 800, ('C', 'A'): 1084, ('C', 'C'): 996, ('C', 'T'): 1271, ('G', 'A'): 1024, ('G', 'G'): 921, ('G', 'C'): 1041, ('G', 'T'): 675, ('T', 'C'): 965, ('T', 'T'): 745, ('T', 'G'): 1166}]\n",
            "\n",
            "\n",
            "Patrones secuenciales clase EI:\n",
            " [{('C',): 579, ('A',): 534, ('T',): 541, ('G',): 572}, {('A', 'C'): 192, ('A', 'A'): 162, ('A', 'G'): 259, ('A', 'T'): 173, ('C', 'A'): 238, ('C', 'C'): 229, ('C', 'G'): 144, ('C', 'T'): 294, ('G', 'A'): 269, ('G', 'C'): 281, ('G', 'G'): 242, ('T', 'C'): 217, ('T', 'G'): 282, ('T', 'T'): 142}]\n",
            "\n",
            "\n",
            "Patrones secuenciales clase IE:\n",
            " [{('C',): 614, ('T',): 595, ('A',): 548, ('G',): 525}, {('A', 'A'): 186, ('A', 'C'): 237, ('A', 'T'): 184, ('A', 'G'): 186, ('C', 'A'): 268, ('C', 'C'): 284, ('C', 'T'): 370, ('G', 'A'): 192, ('G', 'C'): 224, ('G', 'G'): 160, ('G', 'T'): 173, ('T', 'C'): 285, ('T', 'T'): 193, ('T', 'G'): 277}, {('C', 'C', 'T'): 141}]\n",
            "\n",
            "\n",
            "Patrones secuenciales clase N:\n",
            " [{('C',): 1231, ('A',): 1269, ('G',): 1273, ('T',): 1210}, {('A', 'C'): 434, ('A', 'A'): 433, ('A', 'G'): 591, ('A', 'T'): 443, ('C', 'A'): 578, ('C', 'C'): 483, ('C', 'T'): 607, ('G', 'A'): 563, ('G', 'C'): 536, ('G', 'G'): 519, ('G', 'T'): 367, ('T', 'A'): 333, ('T', 'C'): 463, ('T', 'G'): 607, ('T', 'T'): 410}]\n"
          ]
        }
      ]
    },
    {
      "cell_type": "markdown",
      "source": [
        "A partir de estos datos, se puede determinar cual es la frecuencia de soporte de cada caracter suelto. Estos caracteres, aparecen ya que por la regla antimonótona si lo hacen sus superconjuntos, también deben ser frecuentes por separado. A partir de estos datos, se puede determinar que el dataset está correctamente equilibrado en cuanto al número de caracteres de cada tipo que hay.\n",
        "\n",
        "Además, se pueden observar combinaciones de 2 caracteres ordenados frecuentes, y si son frecuentes en todas las clases o para una en concreto.\n",
        " \n",
        "Por otro lado, solo aparece la combinación 'CCT' en la clase **IE**, como patrón secuencial frecuente de longitud mayor que 2 caracteres (3 caracteres). A partir de esto, y que se ha utilizado un soporte mínimo relativamente bajo (0.2), se puede deducir que los patrones existentes normalmente solo pueden ser de longitud 2 y que puede estudiarse también la presencia de cada caracter individualmente en cada clase o en general.\n",
        "\n",
        "Patrones interesantes:\n",
        "- **CCT**: única combinación ordenada de más de 2 caracteres encontrada frecuentemente.\n",
        "- **CT**: es la combinación de 2 caracteres ordenados más frecuente de todas las clases, y por tanto en general.\n",
        "- **TG**: combinación también bastante frecuente en todas las clases.\n",
        "- **CC**: la combinación de 2 caracteres iguales más frecuente en general, lo cual tiene sentido por que el caracter **C** también lo es.\n",
        "\n",
        "A continuación, se repite el procedimiento introduciendo a la función **GSP** un soporte mayor, **0.8**.\n"
      ],
      "metadata": {
        "id": "R3luGAYUIfFy"
      }
    },
    {
      "cell_type": "markdown",
      "source": [
        "### GSP con soporte 0.8"
      ],
      "metadata": {
        "id": "J9CMVZ3MVSY0"
      }
    },
    {
      "cell_type": "code",
      "source": [
        "results2 = GSP(datos['Split']).search(0.8)\n",
        "resultEI2 = GSP(datos['Split'][datos['Clase']=='EI']).search(0.8)\n",
        "resultIE2 = GSP(datos['Split'][datos['Clase']=='IE']).search(0.8)\n",
        "resultN2 = GSP(datos['Split'][datos['Clase']=='N']).search(0.8)"
      ],
      "metadata": {
        "id": "1qG1lMy5RDVF"
      },
      "execution_count": null,
      "outputs": []
    },
    {
      "cell_type": "code",
      "source": [
        "print('Patrones secuenciales generales:\\n',results2)\n",
        "print('\\n\\nPatrones secuenciales clase EI:\\n',resultEI2)\n",
        "print('\\n\\nPatrones secuenciales clase IE:\\n',resultIE2)\n",
        "print('\\n\\nPatrones secuenciales clase N:\\n',resultN2)"
      ],
      "metadata": {
        "colab": {
          "base_uri": "https://localhost:8080/"
        },
        "outputId": "f4542976-cbcd-445c-ffb8-2ed1177152e2",
        "id": "PlICWVHVRDVL"
      },
      "execution_count": null,
      "outputs": [
        {
          "output_type": "stream",
          "name": "stdout",
          "text": [
            "Patrones secuenciales generales:\n",
            " [{('C',): 2424, ('A',): 2351, ('G',): 2370, ('T',): 2346}]\n",
            "\n",
            "\n",
            "Patrones secuenciales clase EI:\n",
            " [{('C',): 579, ('G',): 572}]\n",
            "\n",
            "\n",
            "Patrones secuenciales clase IE:\n",
            " [{('C',): 614, ('T',): 595}]\n",
            "\n",
            "\n",
            "Patrones secuenciales clase N:\n",
            " [{('C',): 1231, ('A',): 1269, ('G',): 1273}]\n"
          ]
        }
      ]
    },
    {
      "cell_type": "markdown",
      "source": [
        "Con un soporte de **0.8**, solo se encuentran con frecuencia caracteres individuales. Se prueba a bajar el soporte hasta encontrar uno donde empiecen a aparecer combinaciones de mayor longitud. "
      ],
      "metadata": {
        "id": "sf24XqvLRhnL"
      }
    },
    {
      "cell_type": "markdown",
      "source": [
        "### GSP con soporte 0.5"
      ],
      "metadata": {
        "id": "07jMGVOXVZJE"
      }
    },
    {
      "cell_type": "code",
      "source": [
        "results3 = GSP(datos['Split']).search(0.5)\n",
        "resultEI3 = GSP(datos['Split'][datos['Clase']=='EI']).search(0.5)\n",
        "resultIE3 = GSP(datos['Split'][datos['Clase']=='IE']).search(0.5)\n",
        "resultN3 = GSP(datos['Split'][datos['Clase']=='N']).search(0.5)"
      ],
      "metadata": {
        "id": "8q7o7GWiRto6"
      },
      "execution_count": null,
      "outputs": []
    },
    {
      "cell_type": "code",
      "source": [
        "print('Patrones secuenciales generales:\\n',results3)\n",
        "print('\\n\\nPatrones secuenciales clase EI:\\n',resultEI3)\n",
        "print('\\n\\nPatrones secuenciales clase IE:\\n',resultIE3)\n",
        "print('\\n\\nPatrones secuenciales clase N:\\n',resultN3)"
      ],
      "metadata": {
        "colab": {
          "base_uri": "https://localhost:8080/"
        },
        "outputId": "c6f156a2-40fc-41fc-a6c9-859f00ae6eea",
        "id": "whqDxQGSRto6"
      },
      "execution_count": null,
      "outputs": [
        {
          "output_type": "stream",
          "name": "stdout",
          "text": [
            "Patrones secuenciales generales:\n",
            " [{('C',): 2424, ('A',): 2351, ('G',): 2370, ('T',): 2346}]\n",
            "\n",
            "\n",
            "Patrones secuenciales clase EI:\n",
            " [{('C',): 579, ('A',): 534, ('G',): 572, ('T',): 541}]\n",
            "\n",
            "\n",
            "Patrones secuenciales clase IE:\n",
            " [{('T',): 595, ('C',): 614, ('A',): 548, ('G',): 525}, {('C', 'T'): 370}]\n",
            "\n",
            "\n",
            "Patrones secuenciales clase N:\n",
            " [{('A',): 1269, ('C',): 1231, ('G',): 1273, ('T',): 1210}]\n"
          ]
        }
      ]
    },
    {
      "cell_type": "markdown",
      "source": [
        "Con **0.5** de soporte, aparece la combinacion ordenada **'CT'** en la clase **IE** como única con frecuencia suficiente de longitud 2 o más. Se reduce el soporte a continuación para hallar un buen valor de este."
      ],
      "metadata": {
        "id": "wKv9Lz-pSVEb"
      }
    },
    {
      "cell_type": "markdown",
      "source": [
        "### GSP con soporte 0.4"
      ],
      "metadata": {
        "id": "0Ct0U1g_Vmso"
      }
    },
    {
      "cell_type": "code",
      "source": [
        "results4 = GSP(datos['Split']).search(0.4)\n",
        "resultEI4 = GSP(datos['Split'][datos['Clase']=='EI']).search(0.4)\n",
        "resultIE4 = GSP(datos['Split'][datos['Clase']=='IE']).search(0.4)\n",
        "resultN4 = GSP(datos['Split'][datos['Clase']=='N']).search(0.4)"
      ],
      "metadata": {
        "id": "B1X4j9Q1Sxqq"
      },
      "execution_count": null,
      "outputs": []
    },
    {
      "cell_type": "code",
      "source": [
        "print('Patrones secuenciales generales:\\n',results4)\n",
        "print('\\n\\nPatrones secuenciales clase EI:\\n',resultEI4)\n",
        "print('\\n\\nPatrones secuenciales clase IE:\\n',resultIE4)\n",
        "print('\\n\\nPatrones secuenciales clase N:\\n',resultN4)"
      ],
      "metadata": {
        "colab": {
          "base_uri": "https://localhost:8080/"
        },
        "outputId": "a7a0e85e-423e-4e32-a377-a443af580696",
        "id": "9CM0RU-kSxqq"
      },
      "execution_count": null,
      "outputs": [
        {
          "output_type": "stream",
          "name": "stdout",
          "text": [
            "Patrones secuenciales generales:\n",
            " [{('C',): 2424, ('A',): 2351, ('G',): 2370, ('T',): 2346}, {('C', 'T'): 1271, ('T', 'G'): 1166}]\n",
            "\n",
            "\n",
            "Patrones secuenciales clase EI:\n",
            " [{('C',): 579, ('A',): 534, ('G',): 572, ('T',): 541}, {('C', 'T'): 294, ('G', 'C'): 281, ('T', 'G'): 282}]\n",
            "\n",
            "\n",
            "Patrones secuenciales clase IE:\n",
            " [{('T',): 595, ('C',): 614, ('A',): 548, ('G',): 525}, {('C', 'C'): 284, ('C', 'T'): 370, ('T', 'C'): 285}]\n",
            "\n",
            "\n",
            "Patrones secuenciales clase N:\n",
            " [{('C',): 1231, ('A',): 1269, ('G',): 1273, ('T',): 1210}]\n"
          ]
        }
      ]
    },
    {
      "cell_type": "markdown",
      "source": [
        "Con **0.4** de soporte, empiezan a aparecer más combinaciones de longitud 2. Este, podría ser un buen soporte para estudiar las frecuencias de este tipo de combinaciones, ya que la librería detecta varias y nos aseguramos que son solo las más importantes. Igualmente, esto solo sería aplicable a las clases **EI** y **IE**, ya que todavía no detecta estas combinaciones en la clase **N**, por lo que para esta habría que bajar un poco el valor del soporte para esta clase.\n",
        "- **CT** y **TG**: aparecen generalmente con frecuencia.\n",
        "- **GC**: aparece con frecuencia en la clase **EI**.\n",
        "- **TC** y **CC**: aparecen con frecuencia en la clase **IE**."
      ],
      "metadata": {
        "id": "HTyLd99MTA1u"
      }
    },
    {
      "cell_type": "markdown",
      "source": [
        "### GSP con soporte 0.1"
      ],
      "metadata": {
        "id": "aQGdB3XnVrZw"
      }
    },
    {
      "cell_type": "code",
      "source": [
        "results5 = GSP(datos['Split']).search(0.15)\n",
        "resultEI5 = GSP(datos['Split'][datos['Clase']=='EI']).search(0.15)\n",
        "resultIE5 = GSP(datos['Split'][datos['Clase']=='IE']).search(0.15)\n",
        "resultN5 = GSP(datos['Split'][datos['Clase']=='N']).search(0.15)"
      ],
      "metadata": {
        "id": "EUEF5fQ2VuIx"
      },
      "execution_count": null,
      "outputs": []
    },
    {
      "cell_type": "code",
      "source": [
        "print('Patrones secuenciales generales:\\n',results5)\n",
        "print('\\n\\nPatrones secuenciales clase EI:\\n',resultEI5)\n",
        "print('\\n\\nPatrones secuenciales clase IE:\\n',resultIE5)\n",
        "print('\\n\\nPatrones secuenciales clase N:\\n',resultN5)"
      ],
      "metadata": {
        "colab": {
          "base_uri": "https://localhost:8080/"
        },
        "outputId": "c54243ac-4471-408d-e407-d9bfa7b4af99",
        "id": "spiNFxlWVuIy"
      },
      "execution_count": null,
      "outputs": [
        {
          "output_type": "stream",
          "name": "stdout",
          "text": [
            "Patrones secuenciales generales:\n",
            " [{('C',): 2424, ('A',): 2351, ('T',): 2346, ('G',): 2370}, {('A', 'A'): 781, ('A', 'C'): 863, ('A', 'G'): 1036, ('A', 'T'): 800, ('C', 'A'): 1084, ('C', 'C'): 996, ('C', 'G'): 470, ('C', 'T'): 1271, ('G', 'A'): 1024, ('G', 'C'): 1041, ('G', 'G'): 921, ('G', 'T'): 675, ('T', 'A'): 560, ('T', 'C'): 965, ('T', 'G'): 1166, ('T', 'T'): 745}, {('C', 'T', 'G'): 438}]\n",
            "\n",
            "\n",
            "Patrones secuenciales clase EI:\n",
            " [{('C',): 579, ('A',): 534, ('G',): 572, ('T',): 541}, {('A', 'A'): 162, ('A', 'C'): 192, ('A', 'G'): 259, ('A', 'T'): 173, ('C', 'A'): 238, ('C', 'C'): 229, ('C', 'G'): 144, ('C', 'T'): 294, ('G', 'A'): 269, ('G', 'G'): 242, ('G', 'C'): 281, ('G', 'T'): 135, ('T', 'C'): 217, ('T', 'T'): 142, ('T', 'G'): 282}, {('C', 'T', 'G'): 109, ('G', 'C', 'T'): 106, ('T', 'G', 'G'): 102}]\n",
            "\n",
            "\n",
            "Patrones secuenciales clase IE:\n",
            " [{('T',): 595, ('C',): 614, ('A',): 548, ('G',): 525}, {('A', 'A'): 186, ('A', 'C'): 237, ('A', 'T'): 184, ('C', 'A'): 268, ('A', 'G'): 186, ('C', 'C'): 284, ('C', 'T'): 370, ('G', 'A'): 192, ('G', 'C'): 224, ('G', 'G'): 160, ('T', 'A'): 134, ('G', 'T'): 173, ('T', 'C'): 285, ('T', 'G'): 277, ('T', 'T'): 193}, {('C', 'C', 'T'): 141, ('C', 'T', 'G'): 119, ('C', 'T', 'C'): 123}]\n",
            "\n",
            "\n",
            "Patrones secuenciales clase N:\n",
            " [{('C',): 1231, ('A',): 1269, ('G',): 1273, ('T',): 1210}, {('A', 'A'): 433, ('A', 'C'): 434, ('A', 'G'): 591, ('A', 'T'): 443, ('C', 'A'): 578, ('C', 'C'): 483, ('C', 'G'): 249, ('C', 'T'): 607, ('G', 'A'): 563, ('G', 'C'): 536, ('G', 'G'): 519, ('G', 'T'): 367, ('T', 'A'): 333, ('T', 'C'): 463, ('T', 'G'): 607, ('T', 'T'): 410}]\n"
          ]
        }
      ]
    },
    {
      "cell_type": "markdown",
      "source": [
        "Con **0.15** de soporte, empiezan a aparecer más combinaciones de longitud 3. Este, podría ser un buen soporte para estudiar las frecuencias de este tipo de combinaciones, ya que la librería detecta varias y nos aseguramos que son solo las más importantes. Igualmente, esto solo sería aplicable a las clases **EI** y **IE**, ya que todavía no detecta estas combinaciones en la clase **N**, por lo que para esta habría que bajar un poco el valor del soporte para esta clase. Además, se ha necesitado un valor muy bajo de soporte, por lo que quizás estos patrones no tengan relevancia.\n",
        "- **CTG**: aparece generalmente con frecuencia, aunque también y con mayor frecuencia **CT** y **TG**, por lo que puede ser resultado de esto.\n",
        "- **GCT** y **TGG**: aparece con frecuencia en la clase **EI**.\n",
        "- **CTC** y **CTG**: aparecen con frecuencia en la clase **IE**."
      ],
      "metadata": {
        "id": "stP18jvKWNHz"
      }
    },
    {
      "cell_type": "markdown",
      "source": [
        "## Conclusiones\n",
        "Se ha conseguido con éxito un método óptimo para encontrar patrones secuenciales a partir de un dataset, el cual es replicable y generalizable para otros casos.\n",
        "\n",
        "Se han encontrado combinaciones ordenadas frecuentes principalmente de longitud 2, que pueden estudiarse en mayor profundidad biológica para entender el por qué de sus altas frecuencias. Además, se puede hacer lo mismo con los caracteres individuales, o incluso con combinaciones de longitud 3, aunque estas sean menos frecuentes.\n",
        "\n",
        "También, se ha observado que la clase **N** requiere de soportes más bajos que las otras clases para encontrar patrones secuenciales, por lo que se puede deducir que sus caracteres están más repartidos y ordenados uniformemente."
      ],
      "metadata": {
        "id": "buRaajX8YKbd"
      }
    }
  ]
}